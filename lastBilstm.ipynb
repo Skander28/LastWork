{
  "nbformat": 4,
  "nbformat_minor": 0,
  "metadata": {
    "colab": {
      "provenance": [],
      "gpuType": "T4",
      "include_colab_link": true
    },
    "kernelspec": {
      "name": "python3",
      "display_name": "Python 3"
    },
    "language_info": {
      "name": "python"
    },
    "accelerator": "GPU",
    "gpuClass": "standard"
  },
  "cells": [
    {
      "cell_type": "markdown",
      "metadata": {
        "id": "view-in-github",
        "colab_type": "text"
      },
      "source": [
        "<a href=\"https://colab.research.google.com/github/Skander28/LastWork/blob/main/lastBilstm.ipynb\" target=\"_parent\"><img src=\"https://colab.research.google.com/assets/colab-badge.svg\" alt=\"Open In Colab\"/></a>"
      ]
    },
    {
      "cell_type": "code",
      "source": [
        "!pip install sentencepiece"
      ],
      "metadata": {
        "colab": {
          "base_uri": "https://localhost:8080/"
        },
        "id": "P7E52Ki8z-6d",
        "outputId": "82c18293-1d2b-482b-871e-43c574b1ffa1"
      },
      "execution_count": 1,
      "outputs": [
        {
          "output_type": "stream",
          "name": "stdout",
          "text": [
            "Looking in indexes: https://pypi.org/simple, https://us-python.pkg.dev/colab-wheels/public/simple/\n",
            "Collecting sentencepiece\n",
            "  Downloading sentencepiece-0.1.99-cp310-cp310-manylinux_2_17_x86_64.manylinux2014_x86_64.whl (1.3 MB)\n",
            "\u001b[2K     \u001b[90m━━━━━━━━━━━━━━━━━━━━━━━━━━━━━━━━━━━━━━━━\u001b[0m \u001b[32m1.3/1.3 MB\u001b[0m \u001b[31m60.2 MB/s\u001b[0m eta \u001b[36m0:00:00\u001b[0m\n",
            "\u001b[?25hInstalling collected packages: sentencepiece\n",
            "Successfully installed sentencepiece-0.1.99\n"
          ]
        }
      ]
    },
    {
      "cell_type": "code",
      "execution_count": 2,
      "metadata": {
        "colab": {
          "base_uri": "https://localhost:8080/",
          "height": 224
        },
        "id": "TxGJYxB8iEIV",
        "outputId": "44aa11f1-f6c7-4898-f463-201040e00790"
      },
      "outputs": [
        {
          "output_type": "stream",
          "name": "stdout",
          "text": [
            "Mounted at /content/drive\n"
          ]
        },
        {
          "output_type": "execute_result",
          "data": {
            "text/plain": [
              "   Unnamed: 0                   id  \\\n",
              "0           0  1152861142416576384   \n",
              "1           1   921392744878264448   \n",
              "2           2   960133615689576448   \n",
              "3           3  1121522092581769216   \n",
              "4           4  1187345510874656768   \n",
              "\n",
              "                                                text dialect  word_count  \\\n",
              "0  طيب اعرفو رئيس وزرائكم الاول وتعالو حاسبو رياض...      DZ           9   \n",
              "1  @khaireddineroub اوكي ماتنساش روراوة ثاني لازم...      DZ          16   \n",
              "2  @safasafa2339 يا ختي ديجا كي نشوف سمو نبدا نرج...      DZ          12   \n",
              "3                        اوو وش لي مش وخدين بلنا منو      DZ           7   \n",
              "4          @Hadjer12345678 تقولي راكي تهدري عليا 😂😂😂      DZ           6   \n",
              "\n",
              "   char_count  \n",
              "0          57  \n",
              "1          94  \n",
              "2          54  \n",
              "3          30  \n",
              "4          41  "
            ],
            "text/html": [
              "\n",
              "  <div id=\"df-25213193-18dc-4528-92ba-6f136a89fbf0\">\n",
              "    <div class=\"colab-df-container\">\n",
              "      <div>\n",
              "<style scoped>\n",
              "    .dataframe tbody tr th:only-of-type {\n",
              "        vertical-align: middle;\n",
              "    }\n",
              "\n",
              "    .dataframe tbody tr th {\n",
              "        vertical-align: top;\n",
              "    }\n",
              "\n",
              "    .dataframe thead th {\n",
              "        text-align: right;\n",
              "    }\n",
              "</style>\n",
              "<table border=\"1\" class=\"dataframe\">\n",
              "  <thead>\n",
              "    <tr style=\"text-align: right;\">\n",
              "      <th></th>\n",
              "      <th>Unnamed: 0</th>\n",
              "      <th>id</th>\n",
              "      <th>text</th>\n",
              "      <th>dialect</th>\n",
              "      <th>word_count</th>\n",
              "      <th>char_count</th>\n",
              "    </tr>\n",
              "  </thead>\n",
              "  <tbody>\n",
              "    <tr>\n",
              "      <th>0</th>\n",
              "      <td>0</td>\n",
              "      <td>1152861142416576384</td>\n",
              "      <td>طيب اعرفو رئيس وزرائكم الاول وتعالو حاسبو رياض...</td>\n",
              "      <td>DZ</td>\n",
              "      <td>9</td>\n",
              "      <td>57</td>\n",
              "    </tr>\n",
              "    <tr>\n",
              "      <th>1</th>\n",
              "      <td>1</td>\n",
              "      <td>921392744878264448</td>\n",
              "      <td>@khaireddineroub اوكي ماتنساش روراوة ثاني لازم...</td>\n",
              "      <td>DZ</td>\n",
              "      <td>16</td>\n",
              "      <td>94</td>\n",
              "    </tr>\n",
              "    <tr>\n",
              "      <th>2</th>\n",
              "      <td>2</td>\n",
              "      <td>960133615689576448</td>\n",
              "      <td>@safasafa2339 يا ختي ديجا كي نشوف سمو نبدا نرج...</td>\n",
              "      <td>DZ</td>\n",
              "      <td>12</td>\n",
              "      <td>54</td>\n",
              "    </tr>\n",
              "    <tr>\n",
              "      <th>3</th>\n",
              "      <td>3</td>\n",
              "      <td>1121522092581769216</td>\n",
              "      <td>اوو وش لي مش وخدين بلنا منو</td>\n",
              "      <td>DZ</td>\n",
              "      <td>7</td>\n",
              "      <td>30</td>\n",
              "    </tr>\n",
              "    <tr>\n",
              "      <th>4</th>\n",
              "      <td>4</td>\n",
              "      <td>1187345510874656768</td>\n",
              "      <td>@Hadjer12345678 تقولي راكي تهدري عليا 😂😂😂</td>\n",
              "      <td>DZ</td>\n",
              "      <td>6</td>\n",
              "      <td>41</td>\n",
              "    </tr>\n",
              "  </tbody>\n",
              "</table>\n",
              "</div>\n",
              "      <button class=\"colab-df-convert\" onclick=\"convertToInteractive('df-25213193-18dc-4528-92ba-6f136a89fbf0')\"\n",
              "              title=\"Convert this dataframe to an interactive table.\"\n",
              "              style=\"display:none;\">\n",
              "        \n",
              "  <svg xmlns=\"http://www.w3.org/2000/svg\" height=\"24px\"viewBox=\"0 0 24 24\"\n",
              "       width=\"24px\">\n",
              "    <path d=\"M0 0h24v24H0V0z\" fill=\"none\"/>\n",
              "    <path d=\"M18.56 5.44l.94 2.06.94-2.06 2.06-.94-2.06-.94-.94-2.06-.94 2.06-2.06.94zm-11 1L8.5 8.5l.94-2.06 2.06-.94-2.06-.94L8.5 2.5l-.94 2.06-2.06.94zm10 10l.94 2.06.94-2.06 2.06-.94-2.06-.94-.94-2.06-.94 2.06-2.06.94z\"/><path d=\"M17.41 7.96l-1.37-1.37c-.4-.4-.92-.59-1.43-.59-.52 0-1.04.2-1.43.59L10.3 9.45l-7.72 7.72c-.78.78-.78 2.05 0 2.83L4 21.41c.39.39.9.59 1.41.59.51 0 1.02-.2 1.41-.59l7.78-7.78 2.81-2.81c.8-.78.8-2.07 0-2.86zM5.41 20L4 18.59l7.72-7.72 1.47 1.35L5.41 20z\"/>\n",
              "  </svg>\n",
              "      </button>\n",
              "      \n",
              "  <style>\n",
              "    .colab-df-container {\n",
              "      display:flex;\n",
              "      flex-wrap:wrap;\n",
              "      gap: 12px;\n",
              "    }\n",
              "\n",
              "    .colab-df-convert {\n",
              "      background-color: #E8F0FE;\n",
              "      border: none;\n",
              "      border-radius: 50%;\n",
              "      cursor: pointer;\n",
              "      display: none;\n",
              "      fill: #1967D2;\n",
              "      height: 32px;\n",
              "      padding: 0 0 0 0;\n",
              "      width: 32px;\n",
              "    }\n",
              "\n",
              "    .colab-df-convert:hover {\n",
              "      background-color: #E2EBFA;\n",
              "      box-shadow: 0px 1px 2px rgba(60, 64, 67, 0.3), 0px 1px 3px 1px rgba(60, 64, 67, 0.15);\n",
              "      fill: #174EA6;\n",
              "    }\n",
              "\n",
              "    [theme=dark] .colab-df-convert {\n",
              "      background-color: #3B4455;\n",
              "      fill: #D2E3FC;\n",
              "    }\n",
              "\n",
              "    [theme=dark] .colab-df-convert:hover {\n",
              "      background-color: #434B5C;\n",
              "      box-shadow: 0px 1px 3px 1px rgba(0, 0, 0, 0.15);\n",
              "      filter: drop-shadow(0px 1px 2px rgba(0, 0, 0, 0.3));\n",
              "      fill: #FFFFFF;\n",
              "    }\n",
              "  </style>\n",
              "\n",
              "      <script>\n",
              "        const buttonEl =\n",
              "          document.querySelector('#df-25213193-18dc-4528-92ba-6f136a89fbf0 button.colab-df-convert');\n",
              "        buttonEl.style.display =\n",
              "          google.colab.kernel.accessAllowed ? 'block' : 'none';\n",
              "\n",
              "        async function convertToInteractive(key) {\n",
              "          const element = document.querySelector('#df-25213193-18dc-4528-92ba-6f136a89fbf0');\n",
              "          const dataTable =\n",
              "            await google.colab.kernel.invokeFunction('convertToInteractive',\n",
              "                                                     [key], {});\n",
              "          if (!dataTable) return;\n",
              "\n",
              "          const docLinkHtml = 'Like what you see? Visit the ' +\n",
              "            '<a target=\"_blank\" href=https://colab.research.google.com/notebooks/data_table.ipynb>data table notebook</a>'\n",
              "            + ' to learn more about interactive tables.';\n",
              "          element.innerHTML = '';\n",
              "          dataTable['output_type'] = 'display_data';\n",
              "          await google.colab.output.renderOutput(dataTable, element);\n",
              "          const docLink = document.createElement('div');\n",
              "          docLink.innerHTML = docLinkHtml;\n",
              "          element.appendChild(docLink);\n",
              "        }\n",
              "      </script>\n",
              "    </div>\n",
              "  </div>\n",
              "  "
            ]
          },
          "metadata": {},
          "execution_count": 2
        }
      ],
      "source": [
        "import nltk\n",
        "import pandas as pd\n",
        "from imblearn.over_sampling import RandomOverSampler\n",
        "from nltk.corpus import stopwords\n",
        "import torch\n",
        "import torch.nn as nn\n",
        "import torch.optim as optim\n",
        "from torch.utils.data import Dataset, DataLoader\n",
        "from sklearn.model_selection import train_test_split\n",
        "from keras.preprocessing.text import Tokenizer\n",
        "from keras.utils import pad_sequences\n",
        "import torch.nn.functional as F\n",
        "from sklearn.metrics import f1_score, precision_score, recall_score, accuracy_score\n",
        "from tqdm import tqdm\n",
        "import numpy as np\n",
        "import string, re\n",
        "\n",
        "from google.colab import drive\n",
        "drive.mount('/content/drive')\n",
        "\n",
        "# Read the given dataset which contain the Ids\n",
        "filtered_df = pd.read_csv('/content/drive/MyDrive/Thisone.csv',lineterminator='\\n')\n",
        "filtered_df.head()"
      ]
    },
    {
      "cell_type": "code",
      "source": [
        "filtered_df['dialect'].value_counts()"
      ],
      "metadata": {
        "colab": {
          "base_uri": "https://localhost:8080/"
        },
        "id": "HECJMLmw_lRL",
        "outputId": "3f346ba5-4127-4f40-f9a8-371cb8c4807a"
      },
      "execution_count": 3,
      "outputs": [
        {
          "output_type": "execute_result",
          "data": {
            "text/plain": [
              "DZ    18007\n",
              "LY    18007\n",
              "MA    18007\n",
              "TN    18007\n",
              "Name: dialect, dtype: int64"
            ]
          },
          "metadata": {},
          "execution_count": 3
        }
      ]
    },
    {
      "cell_type": "code",
      "source": [
        "\n",
        "# arabic_punctuations = '''`÷×؛<>_()*&^%][ـ،/:\"؟.,'{}~¦+|!”…“–ـ'''\n",
        "# english_punctuations = string.punctuation\n",
        "# punctuations_list = arabic_punctuations + english_punctuations\n",
        "\n",
        "\n",
        "# def remove_punctuations(text):\n",
        "#     translator = str.maketrans('', '', punctuations_list)\n",
        "#     return text.translate(translator)\n",
        "  \n",
        "\n",
        "# filtered_df['text'] = filtered_df['text'].apply(remove_punctuations)\n",
        "# filtered_df.head()"
      ],
      "metadata": {
        "id": "rrAfIDI_R7Ix"
      },
      "execution_count": 4,
      "outputs": []
    },
    {
      "cell_type": "code",
      "source": [
        "# def remove_emoji(string):\n",
        "#     emoji_pattern = re.compile(\"[\"\n",
        "#                                u\"\\U0001F600-\\U0001F64F\"  # emoticons\n",
        "#                                u\"\\U0001F300-\\U0001F5FF\"  # symbols & pictographs\n",
        "#                                u\"\\U0001F680-\\U0001F6FF\"  # transport & map symbols\n",
        "#                                u\"\\U0001F1E0-\\U0001F1FF\"  # flags (iOS)\n",
        "#                                u\"\\U00002500-\\U00002BEF\"  # chinese char\n",
        "#                                u\"\\U00002702-\\U000027B0\"\n",
        "#                                u\"\\U00002702-\\U000027B0\"\n",
        "#                                u\"\\U000024C2-\\U0001F251\"\n",
        "#                                u\"\\U0001f926-\\U0001f937\"\n",
        "#                                u\"\\U00010000-\\U0010ffff\"\n",
        "#                                u\"\\u2640-\\u2642\"\n",
        "#                                u\"\\u2600-\\u2B55\"\n",
        "#                                u\"\\u200d\"\n",
        "#                                u\"\\u23cf\"\n",
        "#                                u\"\\u23e9\"\n",
        "#                                u\"\\u231a\"\n",
        "#                                u\"\\ufe0f\"  # dingbats\n",
        "#                                u\"\\u3030\"\n",
        "#                                \"]+\", flags=re.UNICODE)\n",
        "#     return emoji_pattern.sub(r'', string)\n",
        "\n",
        "\n",
        "# filtered_df['text'] = filtered_df['text'].apply(remove_emoji)\n",
        "# filtered_df.head()"
      ],
      "metadata": {
        "id": "HtvnvGU6UUNR"
      },
      "execution_count": 5,
      "outputs": []
    },
    {
      "cell_type": "code",
      "source": [
        "# def remove_non_arabic(text):\n",
        "#     text = re.sub('[%s]' % re.escape(\"\"\"!\"#$%&'()*+,،-./:;<=>؟?@[\\]^_`{|}~\"\"\"), ' ', text)\n",
        "#     text = re.sub('([@A-Za-z0-9_ـــــــــــــ]+)|[^\\w\\s]|#|http\\S+',' ',text)\n",
        "#     text = re.sub(r'\\\\u[A-Za-z0-9]\\\\+',' ',text)         #'\\u003c\\1'  error\n",
        "#     return text\n",
        "\n",
        "\n",
        "# filtered_df['text'] = filtered_df['text'].apply(remove_non_arabic)\n",
        "# filtered_df.head()"
      ],
      "metadata": {
        "id": "kEsV3pwlOPla"
      },
      "execution_count": 6,
      "outputs": []
    },
    {
      "cell_type": "code",
      "source": [
        "# nltk.download('stopwords')\n",
        "# stop=stopwords.words('arabic')\n",
        "\n",
        "# filtered_df['text'] = filtered_df['text'].apply(lambda x:\" \".join(x for x in x.split() if x not in stop))\n",
        "# filtered_df.head()"
      ],
      "metadata": {
        "id": "akVHFDLxPjlJ"
      },
      "execution_count": 7,
      "outputs": []
    },
    {
      "cell_type": "code",
      "source": [
        "# import re, string\n",
        "\n",
        "# def data_cleaning (text):\n",
        "#   try:\n",
        "#     text = re.sub(r'^https?:\\/\\/.*[\\r\\n]*', '', text, flags=re.MULTILINE)\n",
        "#     text = re.sub(r'^http?:\\/\\/.*[\\r\\n]*', '', text, flags=re.MULTILINE)\n",
        "#     text = re.sub(r\"http\\S+\", \"\", text)\n",
        "#     text = re.sub(r\"https\\S+\", \"\", text)\n",
        "#     text = re.sub(r'\\s+', ' ', text)\n",
        "#     text = re.sub(\"(\\s\\d+)\",\"\",text) \n",
        "#     text = re.sub(r\"$\\d+\\W+|\\b\\d+\\b|\\W+\\d+$\", \"\", text)\n",
        "#     text = re.sub(\"\\d+\", \" \", text)\n",
        "#     text = text.replace(\"#\", \" \");\n",
        "#     text = text.replace(\"@\", \" \");\n",
        "#     text = text.replace(\"_\", \" \");\n",
        "#   except:\n",
        "#     return text\n",
        "   \n",
        "#   return text\n",
        "\n",
        "# # Cleaning Training Data \n",
        "# filtered_df['text'] = filtered_df['text'].apply(lambda x:   data_cleaning(x))"
      ],
      "metadata": {
        "id": "a2rF3WRW8SIt"
      },
      "execution_count": 8,
      "outputs": []
    },
    {
      "cell_type": "code",
      "source": [
        "import sentencepiece as spm\n"
      ],
      "metadata": {
        "id": "2N0ZueBxs9eU"
      },
      "execution_count": 9,
      "outputs": []
    },
    {
      "cell_type": "code",
      "source": [
        "text_data = filtered_df['text'].tolist()"
      ],
      "metadata": {
        "id": "TPovVse2s_St"
      },
      "execution_count": 10,
      "outputs": []
    },
    {
      "cell_type": "code",
      "source": [
        "with open('tweets.txt', 'w', encoding='utf-8') as file:\n",
        "    for tweet in text_data:\n",
        "        file.write(tweet + '\\n')\n"
      ],
      "metadata": {
        "id": "IEAsx4tC35ot"
      },
      "execution_count": 11,
      "outputs": []
    },
    {
      "cell_type": "code",
      "source": [
        "# Define the SentencePiece model path and vocabulary size\n",
        "model_prefix = 'maghrebi_model'\n",
        "vocab_size = 25000\n",
        "max_length = 200\n",
        "\n",
        "# Train the SentencePiece tokenizer\n",
        "spm.SentencePieceTrainer.train(\n",
        "    f'--input=tweets.txt --model_prefix={model_prefix} --vocab_size={vocab_size} --model_type=unigram'\n",
        ")\n"
      ],
      "metadata": {
        "id": "ZRCyr-SitCSk"
      },
      "execution_count": 12,
      "outputs": []
    },
    {
      "cell_type": "code",
      "source": [
        "from torch.nn.utils.rnn import pad_sequence\n",
        "# Load the trained SentencePiece tokenizer\n",
        "tokenizer = spm.SentencePieceProcessor()\n",
        "tokenizer.load(f'{model_prefix}.model')\n",
        "\n",
        "# Tokenize the text data\n",
        "tokenized_data = [tokenizer.encode(text) for text in text_data]\n",
        "tokenized_data = pad_sequences(tokenized_data, maxlen=max_length)"
      ],
      "metadata": {
        "id": "7NaqLDzFtEjt"
      },
      "execution_count": 13,
      "outputs": []
    },
    {
      "cell_type": "code",
      "source": [
        "labels = pd.get_dummies(filtered_df['dialect']).values"
      ],
      "metadata": {
        "id": "5sbVOP8_9oe7"
      },
      "execution_count": 14,
      "outputs": []
    },
    {
      "cell_type": "code",
      "source": [
        "#Split data into training, validation, and test sets\n",
        "X_train, X_test, y_train, y_test = train_test_split(tokenized_data, labels, test_size=0.05, random_state=42, shuffle=True)\n",
        "X_train, X_val, y_train, y_val = train_test_split(X_train, y_train, test_size=0.05, random_state=42, shuffle=True)"
      ],
      "metadata": {
        "id": "pG3Zi2ij8Oy6"
      },
      "execution_count": 15,
      "outputs": []
    },
    {
      "cell_type": "code",
      "source": [
        "# from imblearn.over_sampling import RandomOverSampler\n",
        "\n",
        "# # Create an instance of RandomOverSampler\n",
        "# oversampler = RandomOverSampler(random_state=42)\n",
        "\n",
        "# # Apply oversampling to X_train and y_train\n",
        "# X_train_oversampled, y_train_oversampled = oversampler.fit_resample(X_train,y_train)"
      ],
      "metadata": {
        "id": "8HgSK2UTanbz"
      },
      "execution_count": 16,
      "outputs": []
    },
    {
      "cell_type": "code",
      "source": [
        "# from imblearn.under_sampling import RandomUnderSampler\n",
        "\n",
        "# # Undersampling X_val and y_val\n",
        "# undersampler = RandomUnderSampler(random_state=42)\n",
        "# X_val_resampled, y_val_resampled = undersampler.fit_resample(X_val, y_val)\n",
        "\n",
        "# # Undersampling X_test and y_test\n",
        "# X_test_resampled, y_test_resampled = undersampler.fit_resample(X_test, y_test)\n"
      ],
      "metadata": {
        "id": "Jie9jg_ZkTgz"
      },
      "execution_count": 17,
      "outputs": []
    },
    {
      "cell_type": "code",
      "source": [
        "import numpy as np\n",
        "\n",
        "# Convert the one-hot encoded labels back to dialect labels\n",
        "dialect_labels = np.argmax(labels, axis=1)\n",
        "# Get the unique dialect labels and their counts in the original dataset\n",
        "unique_dialects, dialect_counts = np.unique(dialect_labels, return_counts=True)\n",
        "\n",
        "# Get the number of samples for each dialect in the training set\n",
        "train_dialect_labels = np.argmax(y_train, axis=1)\n",
        "train_dialect_counts = np.bincount(train_dialect_labels, minlength=len(unique_dialects))\n",
        "\n",
        "# Get the number of samples for each dialect in the validation set\n",
        "val_dialect_labels = np.argmax(y_val, axis=1)\n",
        "val_dialect_counts = np.bincount(val_dialect_labels, minlength=len(unique_dialects))\n",
        "\n",
        "# Get the number of samples for each dialect in the test set\n",
        "test_dialect_labels = np.argmax(y_test, axis=1)\n",
        "test_dialect_counts = np.bincount(test_dialect_labels, minlength=len(unique_dialects))\n",
        "\n",
        "# Map dialect labels to their corresponding names\n",
        "dialect_names = [\"DZ\", \"LY\", \"MA\", \"TN\"] \n",
        "\n",
        "# Print the number of samples for each dialect in each set\n",
        "for dialect, train_count, val_count, test_count in zip(unique_dialects, train_dialect_counts, val_dialect_counts, test_dialect_counts):\n",
        "    dialect_name = dialect_names[dialect]\n",
        "    print(f\"{dialect_name}: Train={train_count}, Val={val_count}, Test={test_count}\")"
      ],
      "metadata": {
        "colab": {
          "base_uri": "https://localhost:8080/"
        },
        "id": "aaWQYieg5BTL",
        "outputId": "64616ca4-2fa8-46b4-a7a5-23c29f9f2290"
      },
      "execution_count": 18,
      "outputs": [
        {
          "output_type": "stream",
          "name": "stdout",
          "text": [
            "DZ: Train=16283, Val=860, Test=864\n",
            "LY: Train=16251, Val=834, Test=922\n",
            "MA: Train=16210, Val=866, Test=931\n",
            "TN: Train=16260, Val=862, Test=885\n"
          ]
        }
      ]
    },
    {
      "cell_type": "code",
      "source": [
        "import matplotlib.pyplot as plt\n",
        "\n",
        "# Define the dialect names and colors for plotting\n",
        "dialect_names = [\"DZ\", \"LY\", \"MA\", \"TN\"]\n",
        "colors = [\"blue\", \"green\", \"orange\", \"red\"]\n",
        "\n",
        "# Collect the counts for each set\n",
        "train_counts = train_dialect_counts.tolist()\n",
        "val_counts = val_dialect_counts.tolist()\n",
        "test_counts = test_dialect_counts.tolist()\n",
        "\n",
        "# Plot the counts\n",
        "x = np.arange(len(dialect_names))\n",
        "width = 0.2\n",
        "\n",
        "fig, ax = plt.subplots()\n",
        "train_bars = ax.bar(x - width, train_counts, width, label='Train', color=colors[0])\n",
        "val_bars = ax.bar(x, val_counts, width, label='Validation', color=colors[1])\n",
        "test_bars = ax.bar(x + width, test_counts, width, label='Test', color=colors[2])\n",
        "\n",
        "# Add labels, title, and legend\n",
        "ax.set_xlabel('Dialect')\n",
        "ax.set_ylabel('Count')\n",
        "ax.set_title('Number of Samples per Dialect')\n",
        "ax.set_xticks(x)\n",
        "ax.set_xticklabels(dialect_names)\n",
        "ax.legend()\n",
        "\n",
        "# Display the plot\n",
        "plt.show()\n"
      ],
      "metadata": {
        "id": "35YmaoLda79l",
        "outputId": "5dbc4ede-d3b9-4ea4-b20b-dd06b040d6f7",
        "colab": {
          "base_uri": "https://localhost:8080/",
          "height": 472
        }
      },
      "execution_count": 19,
      "outputs": [
        {
          "output_type": "display_data",
          "data": {
            "text/plain": [
              "<Figure size 640x480 with 1 Axes>"
            ],
            "image/png": "[encoded data removed]"
          },
          "metadata": {}
        }
      ]
    },
    {
      "cell_type": "code",
      "source": [
        "# Convert data to PyTorch tensors\n",
        "X_train_, y_train_ = X_train, torch.tensor(y_train)\n",
        "X_val_, y_val_ = X_val, torch.tensor(y_val)\n",
        "X_test_, y_test_ = X_test, torch.tensor(y_test)\n"
      ],
      "metadata": {
        "id": "dUj_LYcU8PgQ"
      },
      "execution_count": 20,
      "outputs": []
    },
    {
      "cell_type": "code",
      "source": [
        "embedding_dim = 200\n",
        "hidden_dim = 128\n",
        "output_dim = 4\n",
        "num_layers = 2\n",
        "bidirectional = True\n",
        "lr = 0.001\n",
        "batch_size = 64\n",
        "num_epochs = 10\n",
        "vocab_size = 25000\n",
        "\n",
        "class DialectDataset(Dataset):\n",
        "    def __init__(self, X, y):\n",
        "        self.X = X\n",
        "        self.y = y\n",
        "        \n",
        "    def __len__(self):\n",
        "        return len(self.X)\n",
        "    \n",
        "    def __getitem__(self, idx):\n",
        "        return self.X[idx], self.y[idx]"
      ],
      "metadata": {
        "id": "b6QaPj_W8TMw"
      },
      "execution_count": 21,
      "outputs": []
    },
    {
      "cell_type": "code",
      "source": [
        "# Create dataloaders for training, validation, and test sets\n",
        "train_dataset = DialectDataset(X_train_, y_train_ )\n",
        "val_dataset = DialectDataset(X_val_, y_val_)\n",
        "test_dataset = DialectDataset(X_test_, y_test_)\n",
        "     \n",
        "\n",
        "train_dataloader = DataLoader(train_dataset, batch_size=batch_size, shuffle=True)\n",
        "val_dataloader = DataLoader(val_dataset, batch_size=batch_size)\n",
        "test_dataloader = DataLoader(test_dataset, batch_size=batch_size)\n"
      ],
      "metadata": {
        "id": "Hn9hwzVQTTGK"
      },
      "execution_count": 22,
      "outputs": []
    },
    {
      "cell_type": "code",
      "source": [
        "class BiLSTMAttention(nn.Module):\n",
        "    def __init__(self, vocab_size, embedding_dim, hidden_dim, output_dim, num_layers):\n",
        "        super(BiLSTMAttention, self).__init__()\n",
        "        self.embedding = nn.Embedding(vocab_size, embedding_dim)\n",
        "        self.lstm = nn.LSTM(embedding_dim, hidden_dim, num_layers=num_layers, bidirectional=True, dropout=0.5, batch_first=True)\n",
        "        self.fc = nn.Linear(hidden_dim * 2, output_dim)\n",
        "        self.dropout = nn.Dropout(0.5)\n",
        "        self.attention = SelfAttention(hidden_dim * 2)\n",
        "        self.dropout_attention = nn.Dropout(0.5)\n",
        "\n",
        "        \n",
        "    def forward(self, x):\n",
        "        embedded = self.embedding(x)\n",
        "        lstm_out, _ = self.lstm(embedded)\n",
        "        lstm_out = self.dropout(lstm_out)\n",
        "        attention_out, attention_weights = self.attention(lstm_out)\n",
        "        attention_out = self.dropout_attention(attention_out)\n",
        "        fc_out = self.fc(attention_out)\n",
        "        return fc_out, attention_weights\n",
        "\n",
        "class SelfAttention(nn.Module):\n",
        "    def __init__(self, hidden_dim):\n",
        "        super(SelfAttention, self).__init__()\n",
        "        self.projection = nn.Sequential(\n",
        "            nn.Linear(hidden_dim, hidden_dim),\n",
        "            nn.Tanh(),\n",
        "            nn.Linear(hidden_dim, 1)\n",
        "        )\n",
        "        \n",
        "    def forward(self, encoder_outputs):\n",
        "        energy = self.projection(encoder_outputs)\n",
        "        weights = F.softmax(energy.squeeze(-1), dim=1)\n",
        "        outputs = (encoder_outputs * weights.unsqueeze(-1)).sum(dim=1)\n",
        "        return outputs, weights"
      ],
      "metadata": {
        "id": "FrKVCY8x8ba2"
      },
      "execution_count": 23,
      "outputs": []
    },
    {
      "cell_type": "code",
      "source": [
        "device = torch.device(\"cuda\" if torch.cuda.is_available() else \"cpu\")\n",
        "model = BiLSTMAttention(vocab_size, embedding_dim, hidden_dim, output_dim, num_layers).to(device)\n",
        "optimizer = optim.Adam(model.parameters(), lr=0.001)\n",
        "criterion = nn.CrossEntropyLoss()\n",
        "\n",
        "# Create empty lists to store loss values\n",
        "train_losses = []\n",
        "val_losses = []\n",
        "\n",
        "best_val_loss = float('inf')\n",
        "best_model_state = None  # Store the state dictionary of the best model\n",
        "patience = 5\n",
        "early_stopping_counter = 0\n",
        "\n",
        "for epoch in range(num_epochs):\n",
        "    model.train()\n",
        "    running_loss = 0.0\n",
        "    for batch in train_dataloader:\n",
        "        inputs, labels = batch[0].to(device), batch[1].to(device)\n",
        "        optimizer.zero_grad()\n",
        "        labels = labels.float()\n",
        "        outputs, _ = model(inputs)\n",
        "        loss = criterion(outputs, labels)\n",
        "        loss.backward()\n",
        "        optimizer.step()\n",
        "        running_loss += loss.item()\n",
        "\n",
        "    epoch_loss = running_loss / len(train_dataloader)\n",
        "    train_losses.append(epoch_loss)  # Store train loss\n",
        "\n",
        "\n",
        "    val_loss = 0.0\n",
        "    model.eval()\n",
        "    with torch.no_grad():\n",
        "        for batch in val_dataloader:\n",
        "            inputs, labels = batch[0].to(device), batch[1].to(device)\n",
        "            labels = labels.float()\n",
        "            outputs, _ = model(inputs)\n",
        "            loss = criterion(outputs, labels)\n",
        "            val_loss += loss.item()\n",
        "\n",
        "    val_loss /= len(val_dataloader)\n",
        "    val_losses.append(val_loss)  # Store validation loss\n",
        "\n",
        "\n",
        "    print(\"Epoch: {}/{} | Train Loss: {:.4f} | Val Loss: {:.4f}\".format(epoch+1, num_epochs, epoch_loss, val_loss))\n",
        "\n",
        "    if val_loss < best_val_loss:\n",
        "        best_val_loss = val_loss\n",
        "        early_stopping_counter = 0\n",
        "        best_model_state = model.state_dict()  # Update the best model state\n",
        "\n",
        "    else:\n",
        "        early_stopping_counter += 1\n",
        "\n",
        "    if early_stopping_counter >= patience:\n",
        "        print(\"Early stopping triggered. Training stopped.\")\n",
        "        break\n",
        "\n",
        "if len(train_losses) > 0 and len(val_losses) > 0:\n",
        "    plt.plot(range(1, len(train_losses)+1), train_losses, label='Train Loss')\n",
        "    plt.plot(range(1, len(val_losses)+1), val_losses, label='Val Loss')\n",
        "    plt.xlabel('Epoch')\n",
        "    plt.ylabel('Loss')\n",
        "    plt.legend()\n",
        "    plt.show()\n",
        "\n",
        "# To load the model with the best validation loss:\n",
        "best_model = BiLSTMAttention(vocab_size, embedding_dim, hidden_dim, output_dim, num_layers).to(device)\n",
        "best_model.load_state_dict(best_model_state)\n"
      ],
      "metadata": {
        "id": "ToM5MSAItv_H",
        "outputId": "d2c59721-13a9-4f64-8650-1cb1a8380c56",
        "colab": {
          "base_uri": "https://localhost:8080/",
          "height": 623
        }
      },
      "execution_count": 24,
      "outputs": [
        {
          "output_type": "stream",
          "name": "stdout",
          "text": [
            "Epoch: 1/10 | Train Loss: 0.9366 | Val Loss: 0.6628\n",
            "Epoch: 2/10 | Train Loss: 0.4990 | Val Loss: 0.5497\n",
            "Epoch: 3/10 | Train Loss: 0.2956 | Val Loss: 0.5489\n",
            "Epoch: 4/10 | Train Loss: 0.1774 | Val Loss: 0.6344\n",
            "Epoch: 5/10 | Train Loss: 0.1113 | Val Loss: 0.6773\n",
            "Epoch: 6/10 | Train Loss: 0.0772 | Val Loss: 0.7568\n",
            "Epoch: 7/10 | Train Loss: 0.0546 | Val Loss: 0.8363\n",
            "Epoch: 8/10 | Train Loss: 0.0421 | Val Loss: 0.8703\n",
            "Early stopping triggered. Training stopped.\n"
          ]
        },
        {
          "output_type": "display_data",
          "data": {
            "text/plain": [
              "<Figure size 640x480 with 1 Axes>"
            ],
            "image/png": "[encoded data removed]"
          },
          "metadata": {}
        },
        {
          "output_type": "execute_result",
          "data": {
            "text/plain": [
              "<All keys matched successfully>"
            ]
          },
          "metadata": {},
          "execution_count": 24
        }
      ]
    },
    {
      "cell_type": "code",
      "source": [
        "import os\n",
        "import logging\n",
        "import torch\n",
        "import torch.nn as nn\n",
        "import matplotlib.pyplot as plt\n",
        "from tqdm import tqdm\n",
        "\n",
        "def train_model(model, train_dataloader, val_dataloader, optimizer, criterion, num_epochs=10, patience=5, device='cuda'):\n",
        "    # Create a directory for storing results\n",
        "    if not os.path.exists('results'):\n",
        "        os.makedirs('results')\n",
        "    run_id = 'run1'  # Change this to a suitable run ID\n",
        "    result_dir = os.path.join('results', run_id)\n",
        "    if not os.path.exists(result_dir):\n",
        "        os.makedirs(result_dir)\n",
        "\n",
        "    # Set up logging\n",
        "    logging.basicConfig(filename=os.path.join(result_dir, 'log.txt'), level=logging.INFO)\n",
        "    logger = logging.getLogger()\n",
        "\n",
        "    # Create empty lists to store loss values\n",
        "    train_losses = []\n",
        "    val_losses = []\n",
        "\n",
        "    best_val_loss = float('inf')\n",
        "    best_model_state = None  # Store the state dictionary of the best model\n",
        "    early_stopping_counter = 0\n",
        "\n",
        "    # Training loop\n",
        "    for epoch in range(num_epochs):\n",
        "        model.train()\n",
        "        running_loss = 0.0\n",
        "        progress_bar = tqdm(train_dataloader, desc=f'Epoch {epoch+1}/{num_epochs}', leave=False)\n",
        "\n",
        "        for batch in progress_bar:\n",
        "            inputs, labels = batch[0].to(device), batch[1].to(device)\n",
        "            optimizer.zero_grad()\n",
        "            labels = labels.float()\n",
        "            outputs, _ = model(inputs)\n",
        "            loss = criterion(outputs, labels)\n",
        "            loss.backward()\n",
        "            optimizer.step()\n",
        "            running_loss += loss.item()\n",
        "            progress_bar.set_postfix({'Train Loss': loss.item()})\n",
        "\n",
        "        epoch_loss = running_loss / len(train_dataloader)\n",
        "        train_losses.append(epoch_loss)  # Store train loss\n",
        "\n",
        "        val_loss = evaluate_model(model, val_dataloader, criterion, device)\n",
        "        val_losses.append(val_loss)  # Store validation loss\n",
        "\n",
        "        logger.info(f\"Epoch: {epoch+1}/{num_epochs} | Train Loss: {epoch_loss:.4f} | Val Loss: {val_loss:.4f}\")\n",
        "\n",
        "        if val_loss < best_val_loss:\n",
        "            best_val_loss = val_loss\n",
        "            early_stopping_counter = 0\n",
        "            best_model_state = model.state_dict()  # Update the best model state\n",
        "            save_checkpoint(model, os.path.join(result_dir, 'best_model.pt'))  # Save the best model checkpoint\n",
        "        else:\n",
        "            early_stopping_counter += 1\n",
        "\n",
        "        if early_stopping_counter >= patience:\n",
        "            logger.info(\"Early stopping triggered. Training stopped.\")\n",
        "            break\n",
        "\n",
        "    if len(train_losses) > 0 and len(val_losses) > 0:\n",
        "        plt.plot(range(1, len(train_losses)+1), train_losses, label='Train Loss')\n",
        "        plt.plot(range(1, len(val_losses)+1), val_losses, label='Val Loss')\n",
        "        plt.xlabel('Epoch')\n",
        "        plt.ylabel('Loss')\n",
        "        plt.legend()\n",
        "        plt.savefig(os.path.join(result_dir, 'loss_plot.png'))\n",
        "        plt.close()\n",
        "\n",
        "    # Load the model with the best validation loss\n",
        "    best_model = model\n",
        "    if best_model_state is not None:\n",
        "        best_model.load_state_dict(best_model_state)\n",
        "\n",
        "    return best_model"
      ],
      "metadata": {
        "id": "QuqVVOpT4BtC"
      },
      "execution_count": null,
      "outputs": []
    },
    {
      "cell_type": "code",
      "source": [
        "from sklearn.metrics import f1_score, precision_score, recall_score,confusion_matrix\n",
        "import matplotlib.pyplot as plt\n",
        "import seaborn as sns\n",
        "best_model.eval()\n",
        "y_true = []\n",
        "y_pred = []\n",
        "with torch.no_grad():\n",
        "    for batch in test_dataloader:\n",
        "        inputs, labels = batch[0].to(device), batch[1].to(device)\n",
        "        labels = labels.float()\n",
        "        outputs, _ = best_model(inputs)\n",
        "        preds = torch.softmax(outputs, dim=1)\n",
        "        _, predicted_classes = torch.max(preds, dim=1)\n",
        "        \n",
        "        y_true.extend(labels.cpu().detach().numpy())\n",
        "        y_pred.extend(predicted_classes.cpu().detach().numpy())\n",
        "\n",
        "# Convert lists to NumPy arrays\n",
        "y_true = np.array(y_true)\n",
        "y_pred = np.array(y_pred)\n",
        "\n",
        "# If y_true is one-hot encoded, convert it to integer labels\n",
        "if len(y_true.shape) > 1 and y_true.shape[1] > 1:\n",
        "    y_true = np.argmax(y_true, axis=1)\n",
        "\n",
        "\n",
        "test_acc = accuracy_score(y_true, y_pred)\n",
        "test_f1 = f1_score(y_true, y_pred, average='macro')\n",
        "test_prec = precision_score(y_true, y_pred, average='macro')\n",
        "test_recall = recall_score(y_true, y_pred, average='macro')\n",
        "\n",
        "print('Test Accuracy: {:.4f}'.format(test_acc))\n",
        "print('Test F1 score: {:.4f}'.format(test_f1))\n",
        "print('Test Precision: {:.4f}'.format(test_prec))\n",
        "print('Test Recall: {:.4f}'.format(test_recall))\n",
        "\n",
        "# Calculate confusion matrix\n",
        "if np.ndim(y_true) > 0 and np.ndim(y_pred) > 0:\n",
        "    y_true = np.squeeze(y_true)\n",
        "    y_pred = np.squeeze(y_pred)\n",
        "\n",
        "test_confusion_matrix = confusion_matrix(y_true, y_pred, labels=[0, 1, 2, 3])\n",
        "sns.set(font_scale=1.2)\n",
        "fig, ax = plt.subplots(figsize=(8, 6))\n",
        "sns.heatmap(test_confusion_matrix, annot=True, fmt='d', cmap='Blues', cbar=False,\n",
        "            annot_kws={\"size\": 16}, linewidths=0.5, linecolor='black', ax=ax)\n",
        "ax.set_xlabel('Predicted Label', fontsize=14)\n",
        "ax.set_ylabel('True Label', fontsize=14)\n",
        "ax.set_xticklabels([\"DZ\", \"LY\", \"MA\", \"TN\"], fontsize=12)\n",
        "ax.set_yticklabels([\"DZ\", \"LY\", \"MA\", \"TN\"], fontsize=12)\n",
        "plt.title('Confusion Matrix', fontsize=16)\n",
        "plt.show()\n"
      ],
      "metadata": {
        "id": "RsqQWbkj8kLw",
        "colab": {
          "base_uri": "https://localhost:8080/",
          "height": 648
        },
        "outputId": "7f095429-4b46-469d-ad66-48d7a267b456"
      },
      "execution_count": 27,
      "outputs": [
        {
          "output_type": "stream",
          "name": "stdout",
          "text": [
            "Test Accuracy: 0.8282\n",
            "Test F1 score: 0.8272\n",
            "Test Precision: 0.8281\n",
            "Test Recall: 0.8277\n"
          ]
        },
        {
          "output_type": "display_data",
          "data": {
            "text/plain": [
              "<Figure size 800x600 with 1 Axes>"
            ],
            "image/png": "[encoded data removed]"
          },
          "metadata": {}
        }
      ]
    },
    {
      "cell_type": "code",
      "source": [
        "import torch\n",
        "import numpy as np\n",
        "\n",
        "\n",
        "# Load the SentencePiece model\n",
        "sp = spm.SentencePieceProcessor()\n",
        "sp.Load(\"/content/maghrebi_model.model\")\n",
        "\n",
        "# Define the maximum sequence length\n",
        "max_length = 128\n",
        "\n",
        "# Define the new complaint\n",
        "#new_complaint = ['واش دير للعشى']\n",
        "#new_complaint  = [\"شوكران علا هاد \"]\n",
        "#new_complaint  = [\"نبي نروح للحوش\"]\n",
        "new_complaint  = [\"فرحان و نتشرف الي انا من اقلية الشعب الي عمري ما صدقت كذبة الثورة و الديمقراطية و ما عداها عليا حتى سياسي ملي حكمو من 2011 و ما تحكموش في تفكيري باجات فيسبوك و اعلاميين مرتزقة و سبر اراء غالط\"]\n",
        "\n",
        "# Tokenize the text using SentencePiece\n",
        "tokenized = sp.EncodeAsIds(new_complaint[0])\n",
        "\n",
        "# Perform padding on the processed text\n",
        "padded = pad_sequences([tokenized], maxlen=max_length, padding='post')\n",
        "\n",
        "# Convert the padded sequence to a PyTorch tensor and move it to the device (e.g., GPU) if available\n",
        "padded_tensor = torch.LongTensor(padded).to(device)\n",
        "\n",
        "# Compute the model's prediction for the padded sequence\n",
        "with torch.no_grad():\n",
        "    pred = best_model(padded_tensor)\n",
        "\n",
        "# Map the prediction to a class label using the [\"DZ\", \"LY\", \"MA\", \"TN\"]\n",
        "CLASS_DICT = {0: \"DZ\", 1: \"LY\", 2: \"MA\", 3: \"TN\"}\n",
        "class_label = CLASS_DICT[np.argmax(pred[0].cpu().numpy(), axis=1)[0]]\n",
        "\n",
        "# Print the prediction and the predicted class label\n",
        "print(class_label)"
      ],
      "metadata": {
        "colab": {
          "base_uri": "https://localhost:8080/"
        },
        "id": "igKeAVCe3SJa",
        "outputId": "9ba92035-1167-4c66-cfd9-dd1a22432944"
      },
      "execution_count": 26,
      "outputs": [
        {
          "output_type": "stream",
          "name": "stdout",
          "text": [
            "TN\n"
          ]
        }
      ]
    }
  ]
}