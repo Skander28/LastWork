{
  "cells": [
    {
      "cell_type": "markdown",
      "metadata": {
        "id": "view-in-github",
        "colab_type": "text"
      },
      "source": [
        "<a href=\"https://colab.research.google.com/github/Skander28/LastWork/blob/main/LSTM.ipynb\" target=\"_parent\"><img src=\"https://colab.research.google.com/assets/colab-badge.svg\" alt=\"Open In Colab\"/></a>"
      ]
    },
    {
      "cell_type": "code",
      "source": [
        "!pip install sentencepiece"
      ],
      "metadata": {
        "id": "0PHe1zv7NHY-",
        "outputId": "d28dc4c4-0dd0-4af7-da31-709af31b845b",
        "colab": {
          "base_uri": "https://localhost:8080/"
        }
      },
      "execution_count": 1,
      "outputs": [
        {
          "output_type": "stream",
          "name": "stdout",
          "text": [
            "Looking in indexes: https://pypi.org/simple, https://us-python.pkg.dev/colab-wheels/public/simple/\n",
            "Collecting sentencepiece\n",
            "  Downloading sentencepiece-0.1.99-cp310-cp310-manylinux_2_17_x86_64.manylinux2014_x86_64.whl (1.3 MB)\n",
            "\u001b[2K     \u001b[90m━━━━━━━━━━━━━━━━━━━━━━━━━━━━━━━━━━━━━━━━\u001b[0m \u001b[32m1.3/1.3 MB\u001b[0m \u001b[31m17.6 MB/s\u001b[0m eta \u001b[36m0:00:00\u001b[0m\n",
            "\u001b[?25hInstalling collected packages: sentencepiece\n",
            "Successfully installed sentencepiece-0.1.99\n"
          ]
        }
      ]
    },
    {
      "cell_type": "code",
      "source": [
        "import torch\n",
        "\n",
        "if torch.cuda.is_available():\n",
        "  device = torch.device(\"cuda\")\n",
        "  print('There are %d GPU(s) available.' % torch.cuda.device_count())\n",
        "  print('We will use the GPU:', torch.cuda.get_device_name(0))\n",
        "  !nvidia-smi\n",
        "else:\n",
        "  print('No GPU available, using the CPU instead.')\n",
        "  device = torch.device(\"cpu\")"
      ],
      "metadata": {
        "colab": {
          "base_uri": "https://localhost:8080/"
        },
        "id": "d8HAr9Ybmt-r",
        "outputId": "4fa7fa53-d7fc-4dc3-aaff-febd4adfcf63"
      },
      "execution_count": 2,
      "outputs": [
        {
          "output_type": "stream",
          "name": "stdout",
          "text": [
            "There are 1 GPU(s) available.\n",
            "We will use the GPU: Tesla T4\n",
            "Sun May 28 07:44:16 2023       \n",
            "+-----------------------------------------------------------------------------+\n",
            "| NVIDIA-SMI 525.85.12    Driver Version: 525.85.12    CUDA Version: 12.0     |\n",
            "|-------------------------------+----------------------+----------------------+\n",
            "| GPU  Name        Persistence-M| Bus-Id        Disp.A | Volatile Uncorr. ECC |\n",
            "| Fan  Temp  Perf  Pwr:Usage/Cap|         Memory-Usage | GPU-Util  Compute M. |\n",
            "|                               |                      |               MIG M. |\n",
            "|===============================+======================+======================|\n",
            "|   0  Tesla T4            Off  | 00000000:00:04.0 Off |                    0 |\n",
            "| N/A   66C    P8    12W /  70W |      3MiB / 15360MiB |      0%      Default |\n",
            "|                               |                      |                  N/A |\n",
            "+-------------------------------+----------------------+----------------------+\n",
            "                                                                               \n",
            "+-----------------------------------------------------------------------------+\n",
            "| Processes:                                                                  |\n",
            "|  GPU   GI   CI        PID   Type   Process name                  GPU Memory |\n",
            "|        ID   ID                                                   Usage      |\n",
            "|=============================================================================|\n",
            "|  No running processes found                                                 |\n",
            "+-----------------------------------------------------------------------------+\n"
          ]
        }
      ]
    },
    {
      "cell_type": "code",
      "execution_count": 3,
      "metadata": {
        "id": "eCOhGYJFdcN5",
        "outputId": "b278baa9-1bd5-431d-f397-52a942fdd13e",
        "colab": {
          "base_uri": "https://localhost:8080/",
          "height": 224
        }
      },
      "outputs": [
        {
          "output_type": "stream",
          "name": "stdout",
          "text": [
            "Mounted at /content/drive\n"
          ]
        },
        {
          "output_type": "execute_result",
          "data": {
            "text/plain": [
              "   Unnamed: 0                   id  \\\n",
              "0           0  1152861142416576384   \n",
              "1           1   921392744878264448   \n",
              "2           2   960133615689576448   \n",
              "3           3  1121522092581769216   \n",
              "4           4  1187345510874656768   \n",
              "\n",
              "                                                text dialect  word_count  \\\n",
              "0  طيب اعرفو رئيس وزرائكم الاول وتعالو حاسبو رياض...      DZ           9   \n",
              "1  @khaireddineroub اوكي ماتنساش روراوة ثاني لازم...      DZ          16   \n",
              "2  @safasafa2339 يا ختي ديجا كي نشوف سمو نبدا نرج...      DZ          12   \n",
              "3  حسابشخصي حسابشخصي حسابشخصي اوو وش لي مش وخدين ...      DZ          10   \n",
              "4          @Hadjer12345678 تقولي راكي تهدري عليا 😂😂😂      DZ           6   \n",
              "\n",
              "   char_count  \n",
              "0          57  \n",
              "1          94  \n",
              "2          54  \n",
              "3          54  \n",
              "4          41  "
            ],
            "text/html": [
              "\n",
              "  <div id=\"df-042e406f-21b5-46ac-aee4-9e8b2d289161\">\n",
              "    <div class=\"colab-df-container\">\n",
              "      <div>\n",
              "<style scoped>\n",
              "    .dataframe tbody tr th:only-of-type {\n",
              "        vertical-align: middle;\n",
              "    }\n",
              "\n",
              "    .dataframe tbody tr th {\n",
              "        vertical-align: top;\n",
              "    }\n",
              "\n",
              "    .dataframe thead th {\n",
              "        text-align: right;\n",
              "    }\n",
              "</style>\n",
              "<table border=\"1\" class=\"dataframe\">\n",
              "  <thead>\n",
              "    <tr style=\"text-align: right;\">\n",
              "      <th></th>\n",
              "      <th>Unnamed: 0</th>\n",
              "      <th>id</th>\n",
              "      <th>text</th>\n",
              "      <th>dialect</th>\n",
              "      <th>word_count</th>\n",
              "      <th>char_count</th>\n",
              "    </tr>\n",
              "  </thead>\n",
              "  <tbody>\n",
              "    <tr>\n",
              "      <th>0</th>\n",
              "      <td>0</td>\n",
              "      <td>1152861142416576384</td>\n",
              "      <td>طيب اعرفو رئيس وزرائكم الاول وتعالو حاسبو رياض...</td>\n",
              "      <td>DZ</td>\n",
              "      <td>9</td>\n",
              "      <td>57</td>\n",
              "    </tr>\n",
              "    <tr>\n",
              "      <th>1</th>\n",
              "      <td>1</td>\n",
              "      <td>921392744878264448</td>\n",
              "      <td>@khaireddineroub اوكي ماتنساش روراوة ثاني لازم...</td>\n",
              "      <td>DZ</td>\n",
              "      <td>16</td>\n",
              "      <td>94</td>\n",
              "    </tr>\n",
              "    <tr>\n",
              "      <th>2</th>\n",
              "      <td>2</td>\n",
              "      <td>960133615689576448</td>\n",
              "      <td>@safasafa2339 يا ختي ديجا كي نشوف سمو نبدا نرج...</td>\n",
              "      <td>DZ</td>\n",
              "      <td>12</td>\n",
              "      <td>54</td>\n",
              "    </tr>\n",
              "    <tr>\n",
              "      <th>3</th>\n",
              "      <td>3</td>\n",
              "      <td>1121522092581769216</td>\n",
              "      <td>حسابشخصي حسابشخصي حسابشخصي اوو وش لي مش وخدين ...</td>\n",
              "      <td>DZ</td>\n",
              "      <td>10</td>\n",
              "      <td>54</td>\n",
              "    </tr>\n",
              "    <tr>\n",
              "      <th>4</th>\n",
              "      <td>4</td>\n",
              "      <td>1187345510874656768</td>\n",
              "      <td>@Hadjer12345678 تقولي راكي تهدري عليا 😂😂😂</td>\n",
              "      <td>DZ</td>\n",
              "      <td>6</td>\n",
              "      <td>41</td>\n",
              "    </tr>\n",
              "  </tbody>\n",
              "</table>\n",
              "</div>\n",
              "      <button class=\"colab-df-convert\" onclick=\"convertToInteractive('df-042e406f-21b5-46ac-aee4-9e8b2d289161')\"\n",
              "              title=\"Convert this dataframe to an interactive table.\"\n",
              "              style=\"display:none;\">\n",
              "        \n",
              "  <svg xmlns=\"http://www.w3.org/2000/svg\" height=\"24px\"viewBox=\"0 0 24 24\"\n",
              "       width=\"24px\">\n",
              "    <path d=\"M0 0h24v24H0V0z\" fill=\"none\"/>\n",
              "    <path d=\"M18.56 5.44l.94 2.06.94-2.06 2.06-.94-2.06-.94-.94-2.06-.94 2.06-2.06.94zm-11 1L8.5 8.5l.94-2.06 2.06-.94-2.06-.94L8.5 2.5l-.94 2.06-2.06.94zm10 10l.94 2.06.94-2.06 2.06-.94-2.06-.94-.94-2.06-.94 2.06-2.06.94z\"/><path d=\"M17.41 7.96l-1.37-1.37c-.4-.4-.92-.59-1.43-.59-.52 0-1.04.2-1.43.59L10.3 9.45l-7.72 7.72c-.78.78-.78 2.05 0 2.83L4 21.41c.39.39.9.59 1.41.59.51 0 1.02-.2 1.41-.59l7.78-7.78 2.81-2.81c.8-.78.8-2.07 0-2.86zM5.41 20L4 18.59l7.72-7.72 1.47 1.35L5.41 20z\"/>\n",
              "  </svg>\n",
              "      </button>\n",
              "      \n",
              "  <style>\n",
              "    .colab-df-container {\n",
              "      display:flex;\n",
              "      flex-wrap:wrap;\n",
              "      gap: 12px;\n",
              "    }\n",
              "\n",
              "    .colab-df-convert {\n",
              "      background-color: #E8F0FE;\n",
              "      border: none;\n",
              "      border-radius: 50%;\n",
              "      cursor: pointer;\n",
              "      display: none;\n",
              "      fill: #1967D2;\n",
              "      height: 32px;\n",
              "      padding: 0 0 0 0;\n",
              "      width: 32px;\n",
              "    }\n",
              "\n",
              "    .colab-df-convert:hover {\n",
              "      background-color: #E2EBFA;\n",
              "      box-shadow: 0px 1px 2px rgba(60, 64, 67, 0.3), 0px 1px 3px 1px rgba(60, 64, 67, 0.15);\n",
              "      fill: #174EA6;\n",
              "    }\n",
              "\n",
              "    [theme=dark] .colab-df-convert {\n",
              "      background-color: #3B4455;\n",
              "      fill: #D2E3FC;\n",
              "    }\n",
              "\n",
              "    [theme=dark] .colab-df-convert:hover {\n",
              "      background-color: #434B5C;\n",
              "      box-shadow: 0px 1px 3px 1px rgba(0, 0, 0, 0.15);\n",
              "      filter: drop-shadow(0px 1px 2px rgba(0, 0, 0, 0.3));\n",
              "      fill: #FFFFFF;\n",
              "    }\n",
              "  </style>\n",
              "\n",
              "      <script>\n",
              "        const buttonEl =\n",
              "          document.querySelector('#df-042e406f-21b5-46ac-aee4-9e8b2d289161 button.colab-df-convert');\n",
              "        buttonEl.style.display =\n",
              "          google.colab.kernel.accessAllowed ? 'block' : 'none';\n",
              "\n",
              "        async function convertToInteractive(key) {\n",
              "          const element = document.querySelector('#df-042e406f-21b5-46ac-aee4-9e8b2d289161');\n",
              "          const dataTable =\n",
              "            await google.colab.kernel.invokeFunction('convertToInteractive',\n",
              "                                                     [key], {});\n",
              "          if (!dataTable) return;\n",
              "\n",
              "          const docLinkHtml = 'Like what you see? Visit the ' +\n",
              "            '<a target=\"_blank\" href=https://colab.research.google.com/notebooks/data_table.ipynb>data table notebook</a>'\n",
              "            + ' to learn more about interactive tables.';\n",
              "          element.innerHTML = '';\n",
              "          dataTable['output_type'] = 'display_data';\n",
              "          await google.colab.output.renderOutput(dataTable, element);\n",
              "          const docLink = document.createElement('div');\n",
              "          docLink.innerHTML = docLinkHtml;\n",
              "          element.appendChild(docLink);\n",
              "        }\n",
              "      </script>\n",
              "    </div>\n",
              "  </div>\n",
              "  "
            ]
          },
          "metadata": {},
          "execution_count": 3
        }
      ],
      "source": [
        "import pandas as pd\n",
        "\n",
        "from google.colab import drive\n",
        "drive.mount('/content/drive')\n",
        "\n",
        "# Read the given dataset which contain the Ids\n",
        "filtered_df = pd.read_csv('/content/drive/MyDrive/LastTry.csv',lineterminator='\\n')\n",
        "filtered_df.head()"
      ]
    },
    {
      "cell_type": "code",
      "execution_count": 4,
      "metadata": {
        "id": "reU7Hnyoeoif"
      },
      "outputs": [],
      "source": [
        "import torch\n",
        "import torch.nn as nn\n",
        "import torch.optim as optim\n",
        "from torch.utils.data import Dataset, DataLoader\n",
        "from sklearn.model_selection import train_test_split\n",
        "from keras.preprocessing.text import Tokenizer\n",
        "from keras.utils import pad_sequences\n"
      ]
    },
    {
      "cell_type": "code",
      "source": [
        "import sentencepiece as spm\n",
        "\n",
        "text_data = filtered_df['text'].tolist()\n",
        "\n",
        "with open('tweets.txt', 'w', encoding='utf-8') as file:\n",
        "    for tweet in text_data:\n",
        "        file.write(tweet + '\\n')\n",
        "  \n",
        "# Define the SentencePiece model path and vocabulary size\n",
        "model_prefix = 'maghrebi_model'\n",
        "vocab_size = 25000\n",
        "max_length = 200\n",
        "\n",
        "# Train the SentencePiece tokenizer\n",
        "spm.SentencePieceTrainer.train(\n",
        "    f'--input=tweets.txt --model_prefix={model_prefix} --vocab_size={vocab_size} --model_type=unigram'\n",
        ")\n",
        "\n",
        "from torch.nn.utils.rnn import pad_sequence\n",
        "# Load the trained SentencePiece tokenizer\n",
        "tokenizer = spm.SentencePieceProcessor()\n",
        "tokenizer.load(f'{model_prefix}.model')\n",
        "\n",
        "# Tokenize the text data\n",
        "tokenized_data = [tokenizer.encode(text) for text in text_data]\n",
        "tokenized_data = pad_sequences(tokenized_data, maxlen=max_length)"
      ],
      "metadata": {
        "id": "tSulhfPJJ4s9"
      },
      "execution_count": 5,
      "outputs": []
    },
    {
      "cell_type": "code",
      "execution_count": 6,
      "metadata": {
        "id": "rhBDTILCepFR"
      },
      "outputs": [],
      "source": [
        "labels = pd.get_dummies(filtered_df['dialect']).values"
      ]
    },
    {
      "cell_type": "code",
      "execution_count": 7,
      "metadata": {
        "id": "-UswUCsheyn1"
      },
      "outputs": [],
      "source": [
        "# Split data into training, validation, and test sets\n",
        "X_train, X_test, y_train, y_test = train_test_split(tokenized_data, labels, test_size=0.05, random_state=42, shuffle=True)\n",
        "X_train, X_val, y_train, y_val = train_test_split(X_train, y_train, test_size=0.05, random_state=42, shuffle=True)\n"
      ]
    },
    {
      "cell_type": "code",
      "source": [
        "import numpy as np\n",
        "\n",
        "# Convert the one-hot encoded labels back to dialect labels\n",
        "dialect_labels = np.argmax(labels, axis=1)\n",
        "# Get the unique dialect labels and their counts in the original dataset\n",
        "unique_dialects, dialect_counts = np.unique(dialect_labels, return_counts=True)\n",
        "\n",
        "# Get the number of samples for each dialect in the training set\n",
        "train_dialect_labels = np.argmax(y_train, axis=1)\n",
        "train_dialect_counts = np.bincount(train_dialect_labels, minlength=len(unique_dialects))\n",
        "\n",
        "# Get the number of samples for each dialect in the validation set\n",
        "val_dialect_labels = np.argmax(y_val, axis=1)\n",
        "val_dialect_counts = np.bincount(val_dialect_labels, minlength=len(unique_dialects))\n",
        "\n",
        "# Get the number of samples for each dialect in the test set\n",
        "test_dialect_labels = np.argmax(y_test, axis=1)\n",
        "test_dialect_counts = np.bincount(test_dialect_labels, minlength=len(unique_dialects))\n",
        "\n",
        "# Map dialect labels to their corresponding names\n",
        "dialect_names = [\"DZ\", \"LY\", \"MA\", \"TN\"] \n",
        "\n",
        "# Print the number of samples for each dialect in each set\n",
        "for dialect, train_count, val_count, test_count in zip(unique_dialects, train_dialect_counts, val_dialect_counts, test_dialect_counts):\n",
        "    dialect_name = dialect_names[dialect]\n",
        "    print(f\"{dialect_name}: Train={train_count}, Val={val_count}, Test={test_count}\")"
      ],
      "metadata": {
        "id": "SMpfbByVKkTL",
        "outputId": "a0338f0c-f25a-4d47-a9e8-2d77a117cfe6",
        "colab": {
          "base_uri": "https://localhost:8080/"
        }
      },
      "execution_count": 8,
      "outputs": [
        {
          "output_type": "stream",
          "name": "stdout",
          "text": [
            "DZ: Train=16283, Val=860, Test=864\n",
            "LY: Train=16251, Val=834, Test=922\n",
            "MA: Train=16210, Val=866, Test=931\n",
            "TN: Train=16260, Val=862, Test=885\n"
          ]
        }
      ]
    },
    {
      "cell_type": "code",
      "execution_count": 9,
      "metadata": {
        "id": "3BQ-BySde22V"
      },
      "outputs": [],
      "source": [
        "# Convert data to PyTorch tensors\n",
        "X_train_, y_train_ = torch.tensor(X_train), torch.tensor(y_train)\n",
        "X_val_, y_val_ = torch.tensor(X_val), torch.tensor(y_val)\n",
        "X_test_, y_test_ = torch.tensor(X_test), torch.tensor(y_test)"
      ]
    },
    {
      "cell_type": "code",
      "execution_count": 10,
      "metadata": {
        "id": "S8KZowW7fYGl"
      },
      "outputs": [],
      "source": [
        "class DialectDataset(Dataset):\n",
        "    def __init__(self, X, y):\n",
        "        self.X = X\n",
        "        self.y = y\n",
        "        \n",
        "    def __len__(self):\n",
        "        return len(self.X)\n",
        "    \n",
        "    def __getitem__(self, idx):\n",
        "        return self.X[idx], self.y[idx]"
      ]
    },
    {
      "cell_type": "code",
      "execution_count": 11,
      "metadata": {
        "id": "4qSPL4W_fYm1"
      },
      "outputs": [],
      "source": [
        "# Create dataloaders for training, validation, and test sets\n",
        "train_dataset = DialectDataset(X_train_, y_train_)\n",
        "val_dataset = DialectDataset(X_val_, y_val_)\n",
        "test_dataset = DialectDataset(X_test_, y_test_)"
      ]
    },
    {
      "cell_type": "code",
      "execution_count": 12,
      "metadata": {
        "id": "nO7IugY2fcFD"
      },
      "outputs": [],
      "source": [
        "batch_size = 64\n",
        "train_dataloader = DataLoader(train_dataset, batch_size=batch_size, shuffle=True)\n",
        "val_dataloader = DataLoader(val_dataset, batch_size=batch_size)\n",
        "test_dataloader = DataLoader(test_dataset, batch_size=batch_size)\n"
      ]
    },
    {
      "cell_type": "markdown",
      "source": [
        "# **LSTM Model**"
      ],
      "metadata": {
        "id": "_OL5QrNtYiGW"
      }
    },
    {
      "cell_type": "code",
      "source": [
        "import torch\n",
        "import torch.nn as nn\n",
        "import torch.optim as optim\n",
        "from tqdm import tqdm\n",
        "import numpy as np\n",
        "\n",
        "emb_dim = 200\n",
        "batch_size = 64\n",
        "\n",
        "\n",
        "class MyModel(nn.Module):\n",
        "    def __init__(self, vocab_size, emb_dim, max_length):\n",
        "        super(MyModel, self).__init__()\n",
        "        self.embedding = nn.Embedding(vocab_size, emb_dim)\n",
        "        self.dropout = nn.Dropout(p=0.5)\n",
        "        self.lstm = nn.LSTM(emb_dim, 100,num_layers = 1, dropout=0.3, batch_first=True)\n",
        "        # self.lstm2 = nn.LSTM(100, 50, dropout=0.3, batch_first=True)\n",
        "        self.linear = nn.Linear(100, 4)\n",
        "        softmax = nn.Softmax(dim=1)\n",
        "        self.fc = nn.Sequential(self.linear, softmax)\n",
        "    \n",
        "    def forward(self, x):\n",
        "        embedded = self.embedding(x)\n",
        "        dropped = self.dropout(embedded)\n",
        "        lstm_out, _ = self.lstm(dropped)\n",
        "        # lstm2_out, _ = self.lstm2(lstm_out)\n",
        "        out = self.fc(lstm_out[:, -1, :])\n",
        "        return out\n",
        "     "
      ],
      "metadata": {
        "id": "OFiobvyzaPnu"
      },
      "execution_count": 34,
      "outputs": []
    },
    {
      "cell_type": "code",
      "execution_count": 35,
      "metadata": {
        "colab": {
          "base_uri": "https://localhost:8080/"
        },
        "id": "vn4-mE-Qu-rS",
        "outputId": "f261ea4f-2407-4384-c2e0-1d6ecd6ceaf2"
      },
      "outputs": [
        {
          "output_type": "stream",
          "name": "stderr",
          "text": [
            "  1%|          | 1/100 [00:09<15:57,  9.67s/it]"
          ]
        },
        {
          "output_type": "stream",
          "name": "stdout",
          "text": [
            "Epoch: 1/100 | Train Loss: 0.7394 | Val Loss: 0.7111\n"
          ]
        },
        {
          "output_type": "stream",
          "name": "stderr",
          "text": [
            "\r  2%|▏         | 2/100 [00:19<15:56,  9.76s/it]"
          ]
        },
        {
          "output_type": "stream",
          "name": "stdout",
          "text": [
            "Epoch: 2/100 | Train Loss: 0.7123 | Val Loss: 0.6955\n"
          ]
        },
        {
          "output_type": "stream",
          "name": "stderr",
          "text": [
            "\r  3%|▎         | 3/100 [00:29<15:53,  9.83s/it]"
          ]
        },
        {
          "output_type": "stream",
          "name": "stdout",
          "text": [
            "Epoch: 3/100 | Train Loss: 0.6957 | Val Loss: 0.6874\n"
          ]
        },
        {
          "output_type": "stream",
          "name": "stderr",
          "text": [
            "\r  4%|▍         | 4/100 [00:39<15:42,  9.82s/it]"
          ]
        },
        {
          "output_type": "stream",
          "name": "stdout",
          "text": [
            "Epoch: 4/100 | Train Loss: 0.6859 | Val Loss: 0.6780\n"
          ]
        },
        {
          "output_type": "stream",
          "name": "stderr",
          "text": [
            "\r  5%|▌         | 5/100 [00:48<15:25,  9.74s/it]"
          ]
        },
        {
          "output_type": "stream",
          "name": "stdout",
          "text": [
            "Epoch: 5/100 | Train Loss: 0.6782 | Val Loss: 0.6758\n"
          ]
        },
        {
          "output_type": "stream",
          "name": "stderr",
          "text": [
            "\r  6%|▌         | 6/100 [00:58<15:12,  9.71s/it]"
          ]
        },
        {
          "output_type": "stream",
          "name": "stdout",
          "text": [
            "Epoch: 6/100 | Train Loss: 0.6727 | Val Loss: 0.6708\n"
          ]
        },
        {
          "output_type": "stream",
          "name": "stderr",
          "text": [
            "\r  7%|▋         | 7/100 [01:08<15:00,  9.68s/it]"
          ]
        },
        {
          "output_type": "stream",
          "name": "stdout",
          "text": [
            "Epoch: 7/100 | Train Loss: 0.6684 | Val Loss: 0.6682\n"
          ]
        },
        {
          "output_type": "stream",
          "name": "stderr",
          "text": [
            "\r  8%|▊         | 8/100 [01:17<14:44,  9.61s/it]"
          ]
        },
        {
          "output_type": "stream",
          "name": "stdout",
          "text": [
            "Epoch: 8/100 | Train Loss: 0.6651 | Val Loss: 0.6669\n"
          ]
        },
        {
          "output_type": "stream",
          "name": "stderr",
          "text": [
            "\r  9%|▉         | 9/100 [01:27<14:50,  9.79s/it]"
          ]
        },
        {
          "output_type": "stream",
          "name": "stdout",
          "text": [
            "Epoch: 9/100 | Train Loss: 0.6615 | Val Loss: 0.6658\n"
          ]
        },
        {
          "output_type": "stream",
          "name": "stderr",
          "text": [
            "\r 10%|█         | 10/100 [01:37<14:40,  9.78s/it]"
          ]
        },
        {
          "output_type": "stream",
          "name": "stdout",
          "text": [
            "Epoch: 10/100 | Train Loss: 0.6583 | Val Loss: 0.6629\n"
          ]
        },
        {
          "output_type": "stream",
          "name": "stderr",
          "text": [
            "\r 11%|█         | 11/100 [01:47<14:28,  9.76s/it]"
          ]
        },
        {
          "output_type": "stream",
          "name": "stdout",
          "text": [
            "Epoch: 11/100 | Train Loss: 0.6557 | Val Loss: 0.6610\n"
          ]
        },
        {
          "output_type": "stream",
          "name": "stderr",
          "text": [
            "\r 12%|█▏        | 12/100 [01:56<14:12,  9.69s/it]"
          ]
        },
        {
          "output_type": "stream",
          "name": "stdout",
          "text": [
            "Epoch: 12/100 | Train Loss: 0.6536 | Val Loss: 0.6600\n"
          ]
        },
        {
          "output_type": "stream",
          "name": "stderr",
          "text": [
            "\r 13%|█▎        | 13/100 [02:06<14:03,  9.70s/it]"
          ]
        },
        {
          "output_type": "stream",
          "name": "stdout",
          "text": [
            "Epoch: 13/100 | Train Loss: 0.6520 | Val Loss: 0.6603\n"
          ]
        },
        {
          "output_type": "stream",
          "name": "stderr",
          "text": [
            "\r 14%|█▍        | 14/100 [02:16<13:54,  9.71s/it]"
          ]
        },
        {
          "output_type": "stream",
          "name": "stdout",
          "text": [
            "Epoch: 14/100 | Train Loss: 0.6505 | Val Loss: 0.6577\n"
          ]
        },
        {
          "output_type": "stream",
          "name": "stderr",
          "text": [
            "\r 15%|█▌        | 15/100 [02:25<13:43,  9.69s/it]"
          ]
        },
        {
          "output_type": "stream",
          "name": "stdout",
          "text": [
            "Epoch: 15/100 | Train Loss: 0.6488 | Val Loss: 0.6559\n"
          ]
        },
        {
          "output_type": "stream",
          "name": "stderr",
          "text": [
            "\r 16%|█▌        | 16/100 [02:35<13:31,  9.66s/it]"
          ]
        },
        {
          "output_type": "stream",
          "name": "stdout",
          "text": [
            "Epoch: 16/100 | Train Loss: 0.6466 | Val Loss: 0.6545\n"
          ]
        },
        {
          "output_type": "stream",
          "name": "stderr",
          "text": [
            "\r 17%|█▋        | 17/100 [02:45<13:23,  9.68s/it]"
          ]
        },
        {
          "output_type": "stream",
          "name": "stdout",
          "text": [
            "Epoch: 17/100 | Train Loss: 0.6454 | Val Loss: 0.6531\n"
          ]
        },
        {
          "output_type": "stream",
          "name": "stderr",
          "text": [
            "\r 18%|█▊        | 18/100 [02:54<13:13,  9.68s/it]"
          ]
        },
        {
          "output_type": "stream",
          "name": "stdout",
          "text": [
            "Epoch: 18/100 | Train Loss: 0.6441 | Val Loss: 0.6535\n"
          ]
        },
        {
          "output_type": "stream",
          "name": "stderr",
          "text": [
            "\r 19%|█▉        | 19/100 [03:04<13:00,  9.63s/it]"
          ]
        },
        {
          "output_type": "stream",
          "name": "stdout",
          "text": [
            "Epoch: 19/100 | Train Loss: 0.6427 | Val Loss: 0.6561\n"
          ]
        },
        {
          "output_type": "stream",
          "name": "stderr",
          "text": [
            "\r 20%|██        | 20/100 [03:14<12:51,  9.65s/it]"
          ]
        },
        {
          "output_type": "stream",
          "name": "stdout",
          "text": [
            "Epoch: 20/100 | Train Loss: 0.6423 | Val Loss: 0.6527\n"
          ]
        },
        {
          "output_type": "stream",
          "name": "stderr",
          "text": [
            "\r 21%|██        | 21/100 [03:23<12:43,  9.67s/it]"
          ]
        },
        {
          "output_type": "stream",
          "name": "stdout",
          "text": [
            "Epoch: 21/100 | Train Loss: 0.6408 | Val Loss: 0.6519\n"
          ]
        },
        {
          "output_type": "stream",
          "name": "stderr",
          "text": [
            "\r 22%|██▏       | 22/100 [03:33<12:33,  9.66s/it]"
          ]
        },
        {
          "output_type": "stream",
          "name": "stdout",
          "text": [
            "Epoch: 22/100 | Train Loss: 0.6398 | Val Loss: 0.6525\n"
          ]
        },
        {
          "output_type": "stream",
          "name": "stderr",
          "text": [
            "\r 23%|██▎       | 23/100 [03:42<12:21,  9.63s/it]"
          ]
        },
        {
          "output_type": "stream",
          "name": "stdout",
          "text": [
            "Epoch: 23/100 | Train Loss: 0.6389 | Val Loss: 0.6524\n"
          ]
        },
        {
          "output_type": "stream",
          "name": "stderr",
          "text": [
            "\r 24%|██▍       | 24/100 [03:52<12:13,  9.66s/it]"
          ]
        },
        {
          "output_type": "stream",
          "name": "stdout",
          "text": [
            "Epoch: 24/100 | Train Loss: 0.6375 | Val Loss: 0.6515\n"
          ]
        },
        {
          "output_type": "stream",
          "name": "stderr",
          "text": [
            "\r 25%|██▌       | 25/100 [04:02<12:05,  9.67s/it]"
          ]
        },
        {
          "output_type": "stream",
          "name": "stdout",
          "text": [
            "Epoch: 25/100 | Train Loss: 0.6368 | Val Loss: 0.6520\n"
          ]
        },
        {
          "output_type": "stream",
          "name": "stderr",
          "text": [
            "\r 26%|██▌       | 26/100 [04:11<11:53,  9.64s/it]"
          ]
        },
        {
          "output_type": "stream",
          "name": "stdout",
          "text": [
            "Epoch: 26/100 | Train Loss: 0.6361 | Val Loss: 0.6521\n"
          ]
        },
        {
          "output_type": "stream",
          "name": "stderr",
          "text": [
            "\r 27%|██▋       | 27/100 [04:21<11:44,  9.66s/it]"
          ]
        },
        {
          "output_type": "stream",
          "name": "stdout",
          "text": [
            "Epoch: 27/100 | Train Loss: 0.6349 | Val Loss: 0.6514\n"
          ]
        },
        {
          "output_type": "stream",
          "name": "stderr",
          "text": [
            "\r 28%|██▊       | 28/100 [04:31<11:35,  9.66s/it]"
          ]
        },
        {
          "output_type": "stream",
          "name": "stdout",
          "text": [
            "Epoch: 28/100 | Train Loss: 0.6344 | Val Loss: 0.6506\n"
          ]
        },
        {
          "output_type": "stream",
          "name": "stderr",
          "text": [
            "\r 29%|██▉       | 29/100 [04:40<11:26,  9.66s/it]"
          ]
        },
        {
          "output_type": "stream",
          "name": "stdout",
          "text": [
            "Epoch: 29/100 | Train Loss: 0.6336 | Val Loss: 0.6496\n"
          ]
        },
        {
          "output_type": "stream",
          "name": "stderr",
          "text": [
            "\r 30%|███       | 30/100 [04:50<11:14,  9.63s/it]"
          ]
        },
        {
          "output_type": "stream",
          "name": "stdout",
          "text": [
            "Epoch: 30/100 | Train Loss: 0.6330 | Val Loss: 0.6504\n"
          ]
        },
        {
          "output_type": "stream",
          "name": "stderr",
          "text": [
            "\r 31%|███       | 31/100 [05:00<11:05,  9.64s/it]"
          ]
        },
        {
          "output_type": "stream",
          "name": "stdout",
          "text": [
            "Epoch: 31/100 | Train Loss: 0.6323 | Val Loss: 0.6497\n"
          ]
        },
        {
          "output_type": "stream",
          "name": "stderr",
          "text": [
            "\r 32%|███▏      | 32/100 [05:09<10:56,  9.65s/it]"
          ]
        },
        {
          "output_type": "stream",
          "name": "stdout",
          "text": [
            "Epoch: 32/100 | Train Loss: 0.6317 | Val Loss: 0.6492\n"
          ]
        },
        {
          "output_type": "stream",
          "name": "stderr",
          "text": [
            "\r 33%|███▎      | 33/100 [05:19<10:45,  9.63s/it]"
          ]
        },
        {
          "output_type": "stream",
          "name": "stdout",
          "text": [
            "Epoch: 33/100 | Train Loss: 0.6314 | Val Loss: 0.6491\n"
          ]
        },
        {
          "output_type": "stream",
          "name": "stderr",
          "text": [
            "\r 34%|███▍      | 34/100 [05:29<10:35,  9.63s/it]"
          ]
        },
        {
          "output_type": "stream",
          "name": "stdout",
          "text": [
            "Epoch: 34/100 | Train Loss: 0.6309 | Val Loss: 0.6492\n"
          ]
        },
        {
          "output_type": "stream",
          "name": "stderr",
          "text": [
            "\r 35%|███▌      | 35/100 [05:38<10:26,  9.64s/it]"
          ]
        },
        {
          "output_type": "stream",
          "name": "stdout",
          "text": [
            "Epoch: 35/100 | Train Loss: 0.6302 | Val Loss: 0.6494\n"
          ]
        },
        {
          "output_type": "stream",
          "name": "stderr",
          "text": [
            "\r 36%|███▌      | 36/100 [05:48<10:18,  9.66s/it]"
          ]
        },
        {
          "output_type": "stream",
          "name": "stdout",
          "text": [
            "Epoch: 36/100 | Train Loss: 0.6297 | Val Loss: 0.6488\n"
          ]
        },
        {
          "output_type": "stream",
          "name": "stderr",
          "text": [
            "\r 37%|███▋      | 37/100 [05:57<10:05,  9.61s/it]"
          ]
        },
        {
          "output_type": "stream",
          "name": "stdout",
          "text": [
            "Epoch: 37/100 | Train Loss: 0.6288 | Val Loss: 0.6492\n"
          ]
        },
        {
          "output_type": "stream",
          "name": "stderr",
          "text": [
            "\r 38%|███▊      | 38/100 [06:07<09:56,  9.63s/it]"
          ]
        },
        {
          "output_type": "stream",
          "name": "stdout",
          "text": [
            "Epoch: 38/100 | Train Loss: 0.6286 | Val Loss: 0.6486\n"
          ]
        },
        {
          "output_type": "stream",
          "name": "stderr",
          "text": [
            "\r 39%|███▉      | 39/100 [06:17<09:47,  9.64s/it]"
          ]
        },
        {
          "output_type": "stream",
          "name": "stdout",
          "text": [
            "Epoch: 39/100 | Train Loss: 0.6282 | Val Loss: 0.6481\n"
          ]
        },
        {
          "output_type": "stream",
          "name": "stderr",
          "text": [
            "\r 40%|████      | 40/100 [06:26<09:37,  9.63s/it]"
          ]
        },
        {
          "output_type": "stream",
          "name": "stdout",
          "text": [
            "Epoch: 40/100 | Train Loss: 0.6281 | Val Loss: 0.6476\n"
          ]
        },
        {
          "output_type": "stream",
          "name": "stderr",
          "text": [
            "\r 41%|████      | 41/100 [06:36<09:27,  9.62s/it]"
          ]
        },
        {
          "output_type": "stream",
          "name": "stdout",
          "text": [
            "Epoch: 41/100 | Train Loss: 0.6274 | Val Loss: 0.6467\n"
          ]
        },
        {
          "output_type": "stream",
          "name": "stderr",
          "text": [
            "\r 42%|████▏     | 42/100 [06:46<09:19,  9.64s/it]"
          ]
        },
        {
          "output_type": "stream",
          "name": "stdout",
          "text": [
            "Epoch: 42/100 | Train Loss: 0.6275 | Val Loss: 0.6483\n"
          ]
        },
        {
          "output_type": "stream",
          "name": "stderr",
          "text": [
            "\r 43%|████▎     | 43/100 [06:55<09:10,  9.65s/it]"
          ]
        },
        {
          "output_type": "stream",
          "name": "stdout",
          "text": [
            "Epoch: 43/100 | Train Loss: 0.6266 | Val Loss: 0.6466\n"
          ]
        },
        {
          "output_type": "stream",
          "name": "stderr",
          "text": [
            "\r 44%|████▍     | 44/100 [07:05<08:57,  9.60s/it]"
          ]
        },
        {
          "output_type": "stream",
          "name": "stdout",
          "text": [
            "Epoch: 44/100 | Train Loss: 0.6263 | Val Loss: 0.6467\n"
          ]
        },
        {
          "output_type": "stream",
          "name": "stderr",
          "text": [
            "\r 45%|████▌     | 45/100 [07:14<08:48,  9.61s/it]"
          ]
        },
        {
          "output_type": "stream",
          "name": "stdout",
          "text": [
            "Epoch: 45/100 | Train Loss: 0.6259 | Val Loss: 0.6472\n"
          ]
        },
        {
          "output_type": "stream",
          "name": "stderr",
          "text": [
            "\r 46%|████▌     | 46/100 [07:24<08:40,  9.64s/it]"
          ]
        },
        {
          "output_type": "stream",
          "name": "stdout",
          "text": [
            "Epoch: 46/100 | Train Loss: 0.6256 | Val Loss: 0.6471\n"
          ]
        },
        {
          "output_type": "stream",
          "name": "stderr",
          "text": [
            "\r 47%|████▋     | 47/100 [07:34<08:29,  9.62s/it]"
          ]
        },
        {
          "output_type": "stream",
          "name": "stdout",
          "text": [
            "Epoch: 47/100 | Train Loss: 0.6249 | Val Loss: 0.6478\n"
          ]
        },
        {
          "output_type": "stream",
          "name": "stderr",
          "text": [
            "\r 48%|████▊     | 48/100 [07:43<08:19,  9.61s/it]"
          ]
        },
        {
          "output_type": "stream",
          "name": "stdout",
          "text": [
            "Epoch: 48/100 | Train Loss: 0.6244 | Val Loss: 0.6459\n"
          ]
        },
        {
          "output_type": "stream",
          "name": "stderr",
          "text": [
            "\r 49%|████▉     | 49/100 [07:53<08:11,  9.64s/it]"
          ]
        },
        {
          "output_type": "stream",
          "name": "stdout",
          "text": [
            "Epoch: 49/100 | Train Loss: 0.6245 | Val Loss: 0.6466\n"
          ]
        },
        {
          "output_type": "stream",
          "name": "stderr",
          "text": [
            "\r 50%|█████     | 50/100 [08:03<08:02,  9.65s/it]"
          ]
        },
        {
          "output_type": "stream",
          "name": "stdout",
          "text": [
            "Epoch: 50/100 | Train Loss: 0.6245 | Val Loss: 0.6479\n"
          ]
        },
        {
          "output_type": "stream",
          "name": "stderr",
          "text": [
            "\r 51%|█████     | 51/100 [08:12<07:50,  9.60s/it]"
          ]
        },
        {
          "output_type": "stream",
          "name": "stdout",
          "text": [
            "Epoch: 51/100 | Train Loss: 0.6237 | Val Loss: 0.6453\n"
          ]
        },
        {
          "output_type": "stream",
          "name": "stderr",
          "text": [
            "\r 52%|█████▏    | 52/100 [08:22<07:42,  9.63s/it]"
          ]
        },
        {
          "output_type": "stream",
          "name": "stdout",
          "text": [
            "Epoch: 52/100 | Train Loss: 0.6234 | Val Loss: 0.6464\n"
          ]
        },
        {
          "output_type": "stream",
          "name": "stderr",
          "text": [
            "\r 53%|█████▎    | 53/100 [08:32<07:33,  9.64s/it]"
          ]
        },
        {
          "output_type": "stream",
          "name": "stdout",
          "text": [
            "Epoch: 53/100 | Train Loss: 0.6234 | Val Loss: 0.6456\n"
          ]
        },
        {
          "output_type": "stream",
          "name": "stderr",
          "text": [
            "\r 54%|█████▍    | 54/100 [08:41<07:23,  9.64s/it]"
          ]
        },
        {
          "output_type": "stream",
          "name": "stdout",
          "text": [
            "Epoch: 54/100 | Train Loss: 0.6231 | Val Loss: 0.6467\n"
          ]
        },
        {
          "output_type": "stream",
          "name": "stderr",
          "text": [
            "\r 55%|█████▌    | 55/100 [08:51<07:13,  9.63s/it]"
          ]
        },
        {
          "output_type": "stream",
          "name": "stdout",
          "text": [
            "Epoch: 55/100 | Train Loss: 0.6227 | Val Loss: 0.6458\n"
          ]
        },
        {
          "output_type": "stream",
          "name": "stderr",
          "text": [
            "\r 55%|█████▌    | 55/100 [09:00<07:22,  9.84s/it]"
          ]
        },
        {
          "output_type": "stream",
          "name": "stdout",
          "text": [
            "Epoch: 56/100 | Train Loss: 0.6224 | Val Loss: 0.6456\n",
            "Early stopping triggered. Training stopped.\n"
          ]
        },
        {
          "output_type": "stream",
          "name": "stderr",
          "text": [
            "\n"
          ]
        }
      ],
      "source": [
        "device = torch.device(\"cuda:0\" if torch.cuda.is_available() else \"cpu\")\n",
        "model = MyModel(vocab_size, emb_dim, max_length).to(device)\n",
        "optimizer = optim.Adam(model.parameters(),lr=0.001)\n",
        "criterion = nn.BCEWithLogitsLoss()\n",
        "\n",
        "best_val_loss = float('inf')\n",
        "patience = 5\n",
        "early_stopping_counter = 0\n",
        "\n",
        "for epoch in tqdm(range(100)):\n",
        "    model.train()\n",
        "    running_loss = 0.0\n",
        "    with torch.cuda.device(0):\n",
        "      for batch in train_dataloader:\n",
        "        inputs, labels = batch[0].to(device), batch[1].to(device)\n",
        "        optimizer.zero_grad()\n",
        "        labels = labels.float()\n",
        "        outputs = model(inputs)\n",
        "        loss = criterion(outputs, labels)\n",
        "        loss.backward()\n",
        "        optimizer.step()\n",
        "        running_loss += loss.item()\n",
        "    epoch_loss = running_loss / (len(train_dataloader))\n",
        "\n",
        "    val_loss = 0.0\n",
        "    model.eval()\n",
        "    with torch.no_grad():\n",
        "        for batch in val_dataloader:\n",
        "            inputs, labels = batch[0].to(device), batch[1].to(device)\n",
        "            labels = labels.float()\n",
        "            outputs = model(inputs)\n",
        "            loss = criterion(outputs, labels)\n",
        "            val_loss += loss.item()\n",
        "\n",
        "    val_loss /= len(val_dataloader)\n",
        "\n",
        "    print(\"Epoch: {}/{} | Train Loss: {:.4f} | Val Loss: {:.4f}\".format(epoch+1, 100, epoch_loss, val_loss))\n",
        "\n",
        "    if val_loss < best_val_loss:\n",
        "        best_val_loss = val_loss\n",
        "        early_stopping_counter = 0\n",
        "    else:\n",
        "        early_stopping_counter += 1\n",
        "\n",
        "    if early_stopping_counter >= patience:\n",
        "        print(\"Early stopping triggered. Training stopped.\")\n",
        "        break\n",
        "        "
      ]
    },
    {
      "cell_type": "markdown",
      "source": [
        "# **Evaluation**"
      ],
      "metadata": {
        "id": "XVEdlkQEYOki"
      }
    },
    {
      "cell_type": "code",
      "source": [
        "model.eval()\n",
        "X_test_ = X_test_.to(device)\n",
        "# Compute the model's prediction for the padded sequence\n",
        "with torch.no_grad():\n",
        "    pred_ = model(X_test_)\n",
        "     \n",
        "pred__ = pred_.cpu().numpy()\n",
        "preds = np.argmax(pred__, axis=1)\n",
        "     \n",
        "def one_hot(a, num_classes):\n",
        "  return np.squeeze(np.eye(num_classes)[a.reshape(-1)])\n",
        "pred_hot = one_hot(preds,4)\n",
        "     \n",
        "x_np = torch.from_numpy(pred_hot)\n",
        "     \n",
        "\n",
        "from sklearn.metrics import accuracy_score,f1_score,precision_score,recall_score\n",
        "test_recall = recall_score(y_test, x_np,average='macro') \n",
        "test_prec = precision_score(y_test, x_np,average='macro') \n",
        "test_acc = accuracy_score(y_test, pred_hot)\n",
        "test_f1 = f1_score(y_test, x_np,average='macro')\n",
        "\n",
        "print('Test Accuracy: {:.4f}'.format(test_acc))\n",
        "print('Test F1 score: {:.4f}'.format(test_f1))\n",
        "print('Test Precision: {:.4f}'.format(test_prec))\n",
        "print('Test Recall: {:.4f}'.format(test_recall))\n"
      ],
      "metadata": {
        "id": "Yj-83O7idiA5",
        "outputId": "5ae05de6-5e28-4b38-d0a6-78d97d1f79b5",
        "colab": {
          "base_uri": "https://localhost:8080/"
        }
      },
      "execution_count": 40,
      "outputs": [
        {
          "output_type": "stream",
          "name": "stdout",
          "text": [
            "Test Accuracy: 0.8048\n",
            "Test F1 score: 0.8045\n",
            "Test Precision: 0.8059\n",
            "Test Recall: 0.8045\n"
          ]
        }
      ]
    },
    {
      "cell_type": "code",
      "source": [
        "import sklearn.metrics as metrics\n",
        "import matplotlib.pyplot as plt\n",
        "import seaborn as sns\n",
        "\n",
        "\n",
        "model.eval()\n",
        "y_true = []\n",
        "y_pred = []\n",
        "with torch.no_grad():\n",
        "    for batch in test_dataloader:\n",
        "        inputs, labels = batch[0].to(device), batch[1].to(device)\n",
        "        labels = labels.float()\n",
        "        outputs = model(inputs)\n",
        "        preds = torch.sigmoid(outputs) > 0.5\n",
        "        y_true.extend(labels.cpu().detach().numpy())\n",
        "        y_pred.extend(preds.cpu().detach().numpy())\n",
        "\n",
        "# Convert lists to NumPy arrays\n",
        "y_true = np.array(y_true)\n",
        "y_pred = np.array(y_pred)\n",
        "\n",
        "test_acc = metrics.accuracy_score(y_true, y_pred)\n",
        "test_f1 = metrics.f1_score(y_true, y_pred, average='macro')\n",
        "test_prec = metrics.precision_score(y_true, y_pred, average='macro')\n",
        "test_recall = metrics.recall_score(y_true, y_pred, average='macro')\n",
        "\n",
        "print('Test Accuracy: {:.4f}'.format(test_acc))\n",
        "print('Test F1 score: {:.4f}'.format(test_f1))\n",
        "print('Test Precision: {:.4f}'.format(test_prec))\n",
        "print('Test Recall: {:.4f}'.format(test_recall))\n",
        "\n",
        "# Calculate confusion matrix\n",
        "test_confusion_matrix = metrics.confusion_matrix(y_true.argmax(axis=1), y_pred.argmax(axis=1), labels=[0, 1, 2, 3])\n",
        "sns.set(font_scale=1.2)\n",
        "fig, ax = plt.subplots(figsize=(8, 6))\n",
        "sns.heatmap(test_confusion_matrix, annot=True, fmt='d', cmap='Blues', cbar=False,\n",
        "            annot_kws={\"size\": 16}, linewidths=0.5, linecolor='black', ax=ax)\n",
        "ax.set_xlabel('Predicted Label', fontsize=14)\n",
        "ax.set_ylabel('True Label', fontsize=14)\n",
        "ax.set_xticklabels([\"DZ\", \"LY\", \"MA\", \"TN\"], fontsize=12)\n",
        "ax.set_yticklabels([\"DZ\", \"LY\", \"MA\", \"TN\"], fontsize=12)\n",
        "plt.title('Confusion Matrix', fontsize=16)\n",
        "plt.show()"
      ],
      "metadata": {
        "id": "F_XPiGl5LN63",
        "outputId": "58da2b3f-818d-40c2-deec-9204e0933556",
        "colab": {
          "base_uri": "https://localhost:8080/",
          "height": 648
        }
      },
      "execution_count": 39,
      "outputs": [
        {
          "output_type": "stream",
          "name": "stdout",
          "text": [
            "Test Accuracy: 0.6763\n",
            "Test F1 score: 0.7580\n",
            "Test Precision: 0.6540\n",
            "Test Recall: 0.9034\n"
          ]
        },
        {
          "output_type": "display_data",
          "data": {
            "text/plain": [
              "<Figure size 800x600 with 1 Axes>"
            ],
            "image/png": "[encoded data removed]"
          },
          "metadata": {}
        }
      ]
    },
    {
      "cell_type": "markdown",
      "source": [
        "# **Testing**"
      ],
      "metadata": {
        "id": "fkjFinqeYa0d"
      }
    },
    {
      "cell_type": "code",
      "execution_count": null,
      "metadata": {
        "id": "RCc6_jtJJsq2"
      },
      "outputs": [],
      "source": [
        "# # Set the model to evaluation mode\n",
        "# model.eval()\n",
        "# device = \"cuda\"\n",
        "# # Tokenize the new complaint and pad the sequence\n",
        "# new_complaint = ['واش دير للعشى']\n",
        "# #new_complaint  = [\"شوكران علا هاد \"]\n",
        "# #new_complaint  = [\"نبي نروح للحوش\"]\n",
        "# #new_complaint  = [\"شبيك شتحب \"]\n",
        "# seq = tokenizer.texts_to_sequences(new_complaint)\n",
        "# padded = pad_sequences(seq, maxlen=max_length)\n",
        "\n",
        "# # Convert the padded sequence to a PyTorch tensor and move it to the device (e.g., GPU) if available\n",
        "# padded_tensor = torch.LongTensor(padded).to(\"cpu\")\n",
        "\n",
        "# # Compute the model's prediction for the padded sequence\n",
        "# with torch.no_grad():\n",
        "#     pred = model(padded_tensor)\n",
        "\n",
        "# # Move the prediction back to the CPU and convert to a numpy array\n",
        "# pred = pred.cpu().numpy()\n",
        "\n",
        "# # Map the prediction to a class label using the CLASS_DICT{'DZ': 0, 'LY': 1, 'MA': 2, 'TN': 3}\n",
        "# CLASS_DICT = {1: \"LY\", 3: \"TN\", 2: \"MA\", 0: \"DZ\" }\n",
        "# class_label = CLASS_DICT[np.argmax(pred)]\n",
        "\n",
        "# # Print the prediction and the predicted class label\n",
        "# print(class_label)"
      ]
    }
  ],
  "metadata": {
    "accelerator": "GPU",
    "colab": {
      "provenance": [],
      "include_colab_link": true
    },
    "gpuClass": "standard",
    "kernelspec": {
      "display_name": "Python 3",
      "name": "python3"
    },
    "language_info": {
      "name": "python"
    }
  },
  "nbformat": 4,
  "nbformat_minor": 0
}