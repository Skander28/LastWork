{
  "cells": [
    {
      "cell_type": "markdown",
      "metadata": {
        "id": "view-in-github",
        "colab_type": "text"
      },
      "source": [
        "<a href=\"https://colab.research.google.com/github/Skander28/LastWork/blob/main/LSTM.ipynb\" target=\"_parent\"><img src=\"https://colab.research.google.com/assets/colab-badge.svg\" alt=\"Open In Colab\"/></a>"
      ]
    },
    {
      "cell_type": "code",
      "source": [
        "!pip install sentencepiece"
      ],
      "metadata": {
        "id": "0PHe1zv7NHY-",
        "outputId": "f5d979cf-5f88-4aa9-f229-cbde280a2ad7",
        "colab": {
          "base_uri": "https://localhost:8080/"
        }
      },
      "execution_count": 61,
      "outputs": [
        {
          "output_type": "stream",
          "name": "stdout",
          "text": [
            "Looking in indexes: https://pypi.org/simple, https://us-python.pkg.dev/colab-wheels/public/simple/\n",
            "Requirement already satisfied: sentencepiece in /usr/local/lib/python3.10/dist-packages (0.1.99)\n"
          ]
        }
      ]
    },
    {
      "cell_type": "code",
      "source": [
        "import torch\n",
        "\n",
        "if torch.cuda.is_available():\n",
        "  device = torch.device(\"cuda\")\n",
        "  print('There are %d GPU(s) available.' % torch.cuda.device_count())\n",
        "  print('We will use the GPU:', torch.cuda.get_device_name(0))\n",
        "  !nvidia-smi\n",
        "else:\n",
        "  print('No GPU available, using the CPU instead.')\n",
        "  device = torch.device(\"cpu\")"
      ],
      "metadata": {
        "colab": {
          "base_uri": "https://localhost:8080/"
        },
        "id": "d8HAr9Ybmt-r",
        "outputId": "f7cdcbe1-8546-4aad-dc87-ee8d59776a54"
      },
      "execution_count": 62,
      "outputs": [
        {
          "output_type": "stream",
          "name": "stdout",
          "text": [
            "There are 1 GPU(s) available.\n",
            "We will use the GPU: Tesla T4\n",
            "Thu May 25 15:27:00 2023       \n",
            "+-----------------------------------------------------------------------------+\n",
            "| NVIDIA-SMI 525.85.12    Driver Version: 525.85.12    CUDA Version: 12.0     |\n",
            "|-------------------------------+----------------------+----------------------+\n",
            "| GPU  Name        Persistence-M| Bus-Id        Disp.A | Volatile Uncorr. ECC |\n",
            "| Fan  Temp  Perf  Pwr:Usage/Cap|         Memory-Usage | GPU-Util  Compute M. |\n",
            "|                               |                      |               MIG M. |\n",
            "|===============================+======================+======================|\n",
            "|   0  Tesla T4            Off  | 00000000:00:04.0 Off |                    0 |\n",
            "| N/A   45C    P0    26W /  70W |   5357MiB / 15360MiB |      0%      Default |\n",
            "|                               |                      |                  N/A |\n",
            "+-------------------------------+----------------------+----------------------+\n",
            "                                                                               \n",
            "+-----------------------------------------------------------------------------+\n",
            "| Processes:                                                                  |\n",
            "|  GPU   GI   CI        PID   Type   Process name                  GPU Memory |\n",
            "|        ID   ID                                                   Usage      |\n",
            "|=============================================================================|\n",
            "+-----------------------------------------------------------------------------+\n"
          ]
        }
      ]
    },
    {
      "cell_type": "code",
      "execution_count": 63,
      "metadata": {
        "id": "eCOhGYJFdcN5",
        "outputId": "62be658c-f2cd-4a7a-9289-c01db48e8b98",
        "colab": {
          "base_uri": "https://localhost:8080/",
          "height": 224
        }
      },
      "outputs": [
        {
          "output_type": "stream",
          "name": "stdout",
          "text": [
            "Drive already mounted at /content/drive; to attempt to forcibly remount, call drive.mount(\"/content/drive\", force_remount=True).\n"
          ]
        },
        {
          "output_type": "execute_result",
          "data": {
            "text/plain": [
              "   Unnamed: 0                   id  \\\n",
              "0           0  1152861142416576384   \n",
              "1           1   921392744878264448   \n",
              "2           2   960133615689576448   \n",
              "3           3  1121522092581769216   \n",
              "4           4  1187345510874656768   \n",
              "\n",
              "                                                text dialect  word_count  \\\n",
              "0  طيب اعرفو رئيس وزرائكم الاول وتعالو حاسبو رياض...      DZ           9   \n",
              "1  @khaireddineroub اوكي ماتنساش روراوة ثاني لازم...      DZ          16   \n",
              "2  @safasafa2339 يا ختي ديجا كي نشوف سمو نبدا نرج...      DZ          12   \n",
              "3  حسابشخصي حسابشخصي حسابشخصي اوو وش لي مش وخدين ...      DZ          10   \n",
              "4          @Hadjer12345678 تقولي راكي تهدري عليا 😂😂😂      DZ           6   \n",
              "\n",
              "   char_count  \n",
              "0          57  \n",
              "1          94  \n",
              "2          54  \n",
              "3          54  \n",
              "4          41  "
            ],
            "text/html": [
              "\n",
              "  <div id=\"df-eecf3c24-4657-407a-bf24-0f23d1a2a5f5\">\n",
              "    <div class=\"colab-df-container\">\n",
              "      <div>\n",
              "<style scoped>\n",
              "    .dataframe tbody tr th:only-of-type {\n",
              "        vertical-align: middle;\n",
              "    }\n",
              "\n",
              "    .dataframe tbody tr th {\n",
              "        vertical-align: top;\n",
              "    }\n",
              "\n",
              "    .dataframe thead th {\n",
              "        text-align: right;\n",
              "    }\n",
              "</style>\n",
              "<table border=\"1\" class=\"dataframe\">\n",
              "  <thead>\n",
              "    <tr style=\"text-align: right;\">\n",
              "      <th></th>\n",
              "      <th>Unnamed: 0</th>\n",
              "      <th>id</th>\n",
              "      <th>text</th>\n",
              "      <th>dialect</th>\n",
              "      <th>word_count</th>\n",
              "      <th>char_count</th>\n",
              "    </tr>\n",
              "  </thead>\n",
              "  <tbody>\n",
              "    <tr>\n",
              "      <th>0</th>\n",
              "      <td>0</td>\n",
              "      <td>1152861142416576384</td>\n",
              "      <td>طيب اعرفو رئيس وزرائكم الاول وتعالو حاسبو رياض...</td>\n",
              "      <td>DZ</td>\n",
              "      <td>9</td>\n",
              "      <td>57</td>\n",
              "    </tr>\n",
              "    <tr>\n",
              "      <th>1</th>\n",
              "      <td>1</td>\n",
              "      <td>921392744878264448</td>\n",
              "      <td>@khaireddineroub اوكي ماتنساش روراوة ثاني لازم...</td>\n",
              "      <td>DZ</td>\n",
              "      <td>16</td>\n",
              "      <td>94</td>\n",
              "    </tr>\n",
              "    <tr>\n",
              "      <th>2</th>\n",
              "      <td>2</td>\n",
              "      <td>960133615689576448</td>\n",
              "      <td>@safasafa2339 يا ختي ديجا كي نشوف سمو نبدا نرج...</td>\n",
              "      <td>DZ</td>\n",
              "      <td>12</td>\n",
              "      <td>54</td>\n",
              "    </tr>\n",
              "    <tr>\n",
              "      <th>3</th>\n",
              "      <td>3</td>\n",
              "      <td>1121522092581769216</td>\n",
              "      <td>حسابشخصي حسابشخصي حسابشخصي اوو وش لي مش وخدين ...</td>\n",
              "      <td>DZ</td>\n",
              "      <td>10</td>\n",
              "      <td>54</td>\n",
              "    </tr>\n",
              "    <tr>\n",
              "      <th>4</th>\n",
              "      <td>4</td>\n",
              "      <td>1187345510874656768</td>\n",
              "      <td>@Hadjer12345678 تقولي راكي تهدري عليا 😂😂😂</td>\n",
              "      <td>DZ</td>\n",
              "      <td>6</td>\n",
              "      <td>41</td>\n",
              "    </tr>\n",
              "  </tbody>\n",
              "</table>\n",
              "</div>\n",
              "      <button class=\"colab-df-convert\" onclick=\"convertToInteractive('df-eecf3c24-4657-407a-bf24-0f23d1a2a5f5')\"\n",
              "              title=\"Convert this dataframe to an interactive table.\"\n",
              "              style=\"display:none;\">\n",
              "        \n",
              "  <svg xmlns=\"http://www.w3.org/2000/svg\" height=\"24px\"viewBox=\"0 0 24 24\"\n",
              "       width=\"24px\">\n",
              "    <path d=\"M0 0h24v24H0V0z\" fill=\"none\"/>\n",
              "    <path d=\"M18.56 5.44l.94 2.06.94-2.06 2.06-.94-2.06-.94-.94-2.06-.94 2.06-2.06.94zm-11 1L8.5 8.5l.94-2.06 2.06-.94-2.06-.94L8.5 2.5l-.94 2.06-2.06.94zm10 10l.94 2.06.94-2.06 2.06-.94-2.06-.94-.94-2.06-.94 2.06-2.06.94z\"/><path d=\"M17.41 7.96l-1.37-1.37c-.4-.4-.92-.59-1.43-.59-.52 0-1.04.2-1.43.59L10.3 9.45l-7.72 7.72c-.78.78-.78 2.05 0 2.83L4 21.41c.39.39.9.59 1.41.59.51 0 1.02-.2 1.41-.59l7.78-7.78 2.81-2.81c.8-.78.8-2.07 0-2.86zM5.41 20L4 18.59l7.72-7.72 1.47 1.35L5.41 20z\"/>\n",
              "  </svg>\n",
              "      </button>\n",
              "      \n",
              "  <style>\n",
              "    .colab-df-container {\n",
              "      display:flex;\n",
              "      flex-wrap:wrap;\n",
              "      gap: 12px;\n",
              "    }\n",
              "\n",
              "    .colab-df-convert {\n",
              "      background-color: #E8F0FE;\n",
              "      border: none;\n",
              "      border-radius: 50%;\n",
              "      cursor: pointer;\n",
              "      display: none;\n",
              "      fill: #1967D2;\n",
              "      height: 32px;\n",
              "      padding: 0 0 0 0;\n",
              "      width: 32px;\n",
              "    }\n",
              "\n",
              "    .colab-df-convert:hover {\n",
              "      background-color: #E2EBFA;\n",
              "      box-shadow: 0px 1px 2px rgba(60, 64, 67, 0.3), 0px 1px 3px 1px rgba(60, 64, 67, 0.15);\n",
              "      fill: #174EA6;\n",
              "    }\n",
              "\n",
              "    [theme=dark] .colab-df-convert {\n",
              "      background-color: #3B4455;\n",
              "      fill: #D2E3FC;\n",
              "    }\n",
              "\n",
              "    [theme=dark] .colab-df-convert:hover {\n",
              "      background-color: #434B5C;\n",
              "      box-shadow: 0px 1px 3px 1px rgba(0, 0, 0, 0.15);\n",
              "      filter: drop-shadow(0px 1px 2px rgba(0, 0, 0, 0.3));\n",
              "      fill: #FFFFFF;\n",
              "    }\n",
              "  </style>\n",
              "\n",
              "      <script>\n",
              "        const buttonEl =\n",
              "          document.querySelector('#df-eecf3c24-4657-407a-bf24-0f23d1a2a5f5 button.colab-df-convert');\n",
              "        buttonEl.style.display =\n",
              "          google.colab.kernel.accessAllowed ? 'block' : 'none';\n",
              "\n",
              "        async function convertToInteractive(key) {\n",
              "          const element = document.querySelector('#df-eecf3c24-4657-407a-bf24-0f23d1a2a5f5');\n",
              "          const dataTable =\n",
              "            await google.colab.kernel.invokeFunction('convertToInteractive',\n",
              "                                                     [key], {});\n",
              "          if (!dataTable) return;\n",
              "\n",
              "          const docLinkHtml = 'Like what you see? Visit the ' +\n",
              "            '<a target=\"_blank\" href=https://colab.research.google.com/notebooks/data_table.ipynb>data table notebook</a>'\n",
              "            + ' to learn more about interactive tables.';\n",
              "          element.innerHTML = '';\n",
              "          dataTable['output_type'] = 'display_data';\n",
              "          await google.colab.output.renderOutput(dataTable, element);\n",
              "          const docLink = document.createElement('div');\n",
              "          docLink.innerHTML = docLinkHtml;\n",
              "          element.appendChild(docLink);\n",
              "        }\n",
              "      </script>\n",
              "    </div>\n",
              "  </div>\n",
              "  "
            ]
          },
          "metadata": {},
          "execution_count": 63
        }
      ],
      "source": [
        "import pandas as pd\n",
        "\n",
        "from google.colab import drive\n",
        "drive.mount('/content/drive')\n",
        "\n",
        "# Read the given dataset which contain the Ids\n",
        "filtered_df = pd.read_csv('/content/drive/MyDrive/LastTry.csv',lineterminator='\\n')\n",
        "filtered_df.head()"
      ]
    },
    {
      "cell_type": "code",
      "execution_count": 64,
      "metadata": {
        "id": "reU7Hnyoeoif"
      },
      "outputs": [],
      "source": [
        "import torch\n",
        "import torch.nn as nn\n",
        "import torch.optim as optim\n",
        "from torch.utils.data import Dataset, DataLoader\n",
        "from sklearn.model_selection import train_test_split\n",
        "from keras.preprocessing.text import Tokenizer\n",
        "from keras.utils import pad_sequences\n"
      ]
    },
    {
      "cell_type": "code",
      "source": [
        "import sentencepiece as spm\n",
        "\n",
        "text_data = filtered_df['text'].tolist()\n",
        "\n",
        "with open('tweets.txt', 'w', encoding='utf-8') as file:\n",
        "    for tweet in text_data:\n",
        "        file.write(tweet + '\\n')\n",
        "  \n",
        "# Define the SentencePiece model path and vocabulary size\n",
        "model_prefix = 'maghrebi_model'\n",
        "vocab_size = 25000\n",
        "max_length = 200\n",
        "\n",
        "# Train the SentencePiece tokenizer\n",
        "spm.SentencePieceTrainer.train(\n",
        "    f'--input=tweets.txt --model_prefix={model_prefix} --vocab_size={vocab_size} --model_type=unigram'\n",
        ")\n",
        "\n",
        "from torch.nn.utils.rnn import pad_sequence\n",
        "# Load the trained SentencePiece tokenizer\n",
        "tokenizer = spm.SentencePieceProcessor()\n",
        "tokenizer.load(f'{model_prefix}.model')\n",
        "\n",
        "# Tokenize the text data\n",
        "tokenized_data = [tokenizer.encode(text) for text in text_data]\n",
        "tokenized_data = pad_sequences(tokenized_data, maxlen=max_length)"
      ],
      "metadata": {
        "id": "tSulhfPJJ4s9"
      },
      "execution_count": 65,
      "outputs": []
    },
    {
      "cell_type": "code",
      "execution_count": 66,
      "metadata": {
        "id": "rhBDTILCepFR"
      },
      "outputs": [],
      "source": [
        "labels = pd.get_dummies(filtered_df['dialect']).values"
      ]
    },
    {
      "cell_type": "code",
      "execution_count": 67,
      "metadata": {
        "id": "-UswUCsheyn1"
      },
      "outputs": [],
      "source": [
        "# Split data into training, validation, and test sets\n",
        "X_train, X_test, y_train, y_test = train_test_split(tokenized_data, labels, test_size=0.05, random_state=42, shuffle=True)\n",
        "X_train, X_val, y_train, y_val = train_test_split(X_train, y_train, test_size=0.05, random_state=42, shuffle=True)\n"
      ]
    },
    {
      "cell_type": "code",
      "source": [
        "import numpy as np\n",
        "\n",
        "# Convert the one-hot encoded labels back to dialect labels\n",
        "dialect_labels = np.argmax(labels, axis=1)\n",
        "# Get the unique dialect labels and their counts in the original dataset\n",
        "unique_dialects, dialect_counts = np.unique(dialect_labels, return_counts=True)\n",
        "\n",
        "# Get the number of samples for each dialect in the training set\n",
        "train_dialect_labels = np.argmax(y_train, axis=1)\n",
        "train_dialect_counts = np.bincount(train_dialect_labels, minlength=len(unique_dialects))\n",
        "\n",
        "# Get the number of samples for each dialect in the validation set\n",
        "val_dialect_labels = np.argmax(y_val, axis=1)\n",
        "val_dialect_counts = np.bincount(val_dialect_labels, minlength=len(unique_dialects))\n",
        "\n",
        "# Get the number of samples for each dialect in the test set\n",
        "test_dialect_labels = np.argmax(y_test, axis=1)\n",
        "test_dialect_counts = np.bincount(test_dialect_labels, minlength=len(unique_dialects))\n",
        "\n",
        "# Map dialect labels to their corresponding names\n",
        "dialect_names = [\"DZ\", \"LY\", \"MA\", \"TN\"] \n",
        "\n",
        "# Print the number of samples for each dialect in each set\n",
        "for dialect, train_count, val_count, test_count in zip(unique_dialects, train_dialect_counts, val_dialect_counts, test_dialect_counts):\n",
        "    dialect_name = dialect_names[dialect]\n",
        "    print(f\"{dialect_name}: Train={train_count}, Val={val_count}, Test={test_count}\")"
      ],
      "metadata": {
        "id": "SMpfbByVKkTL",
        "outputId": "0d6fc1c7-d3d8-467a-9d01-9bb508cc2261",
        "colab": {
          "base_uri": "https://localhost:8080/"
        }
      },
      "execution_count": 68,
      "outputs": [
        {
          "output_type": "stream",
          "name": "stdout",
          "text": [
            "DZ: Train=16283, Val=860, Test=864\n",
            "LY: Train=16251, Val=834, Test=922\n",
            "MA: Train=16210, Val=866, Test=931\n",
            "TN: Train=16260, Val=862, Test=885\n"
          ]
        }
      ]
    },
    {
      "cell_type": "code",
      "execution_count": 69,
      "metadata": {
        "id": "3BQ-BySde22V"
      },
      "outputs": [],
      "source": [
        "# Convert data to PyTorch tensors\n",
        "X_train_, y_train_ = torch.tensor(X_train), torch.tensor(y_train)\n",
        "X_val_, y_val_ = torch.tensor(X_val), torch.tensor(y_val)\n",
        "X_test_, y_test_ = torch.tensor(X_test), torch.tensor(y_test)"
      ]
    },
    {
      "cell_type": "code",
      "execution_count": 70,
      "metadata": {
        "id": "S8KZowW7fYGl"
      },
      "outputs": [],
      "source": [
        "class DialectDataset(Dataset):\n",
        "    def __init__(self, X, y):\n",
        "        self.X = X\n",
        "        self.y = y\n",
        "        \n",
        "    def __len__(self):\n",
        "        return len(self.X)\n",
        "    \n",
        "    def __getitem__(self, idx):\n",
        "        return self.X[idx], self.y[idx]"
      ]
    },
    {
      "cell_type": "code",
      "execution_count": 71,
      "metadata": {
        "id": "4qSPL4W_fYm1"
      },
      "outputs": [],
      "source": [
        "# Create dataloaders for training, validation, and test sets\n",
        "train_dataset = DialectDataset(X_train_, y_train_)\n",
        "val_dataset = DialectDataset(X_val_, y_val_)\n",
        "test_dataset = DialectDataset(X_test_, y_test_)"
      ]
    },
    {
      "cell_type": "code",
      "execution_count": 72,
      "metadata": {
        "id": "nO7IugY2fcFD"
      },
      "outputs": [],
      "source": [
        "batch_size = 64\n",
        "train_dataloader = DataLoader(train_dataset, batch_size=batch_size, shuffle=True)\n",
        "val_dataloader = DataLoader(val_dataset, batch_size=batch_size)\n",
        "test_dataloader = DataLoader(test_dataset, batch_size=batch_size)\n"
      ]
    },
    {
      "cell_type": "markdown",
      "source": [
        "# **LSTM Model**"
      ],
      "metadata": {
        "id": "_OL5QrNtYiGW"
      }
    },
    {
      "cell_type": "code",
      "source": [
        "import torch\n",
        "import torch.nn as nn\n",
        "import torch.optim as optim\n",
        "from tqdm import tqdm\n",
        "import numpy as np\n",
        "\n",
        "output_dim = 100\n",
        "batch_size = 64\n",
        "\n",
        "\n",
        "class MyModel(nn.Module):\n",
        "    def __init__(self, vocab_size, output_dim, max_length):\n",
        "        super(MyModel, self).__init__()\n",
        "        self.embedding = nn.Embedding(vocab_size, output_dim)\n",
        "        self.dropout = nn.Dropout(p=0.5)\n",
        "        self.lstm = nn.LSTM(output_dim, 50, dropout=0.3, batch_first=True)\n",
        "        self.lstm2 = nn.LSTM(50, 25, dropout=0.3, batch_first=True)\n",
        "        self.linear = nn.Linear(25, 4)\n",
        "        softmax = nn.Softmax(dim=1)\n",
        "        self.fc = nn.Sequential(self.linear, softmax)\n",
        "    \n",
        "    def forward(self, x):\n",
        "        embedded = self.embedding(x)\n",
        "        dropped = self.dropout(embedded)\n",
        "        lstm_out, _ = self.lstm(dropped)\n",
        "        lstm2_out, _ = self.lstm2(lstm_out)\n",
        "        out = self.fc(lstm2_out[:, -1, :])\n",
        "        return out\n",
        "     "
      ],
      "metadata": {
        "id": "OFiobvyzaPnu"
      },
      "execution_count": 73,
      "outputs": []
    },
    {
      "cell_type": "code",
      "source": [
        "# import torch\n",
        "# import torch.nn as nn\n",
        "# import torch.optim as optim\n",
        "# from tqdm import tqdm\n",
        "# import numpy as np\n",
        "# import torch.nn.functional as F\n",
        "\n",
        "\n",
        "# batch_size = 64\n",
        "# # Define hyperparameters\n",
        "# vocab_size = 25000\n",
        "# emb_dim = 100\n",
        "# num_filters = 10\n",
        "# filter_sizes = [3, 8]\n",
        "# hidden_dim = 100\n",
        "# num_classes = 4\n",
        "# dropout_rate = 0.5\n",
        "\n",
        "# class MyModel(nn.Module):\n",
        "#     def __init__(self, vocab_size, emb_dim, num_filters, filter_sizes, hidden_dim, num_classes, dropout_rate):\n",
        "#         super(MyModel, self).__init__()\n",
        "#         self.embedding = nn.Embedding(vocab_size, emb_dim)\n",
        "#         self.dropout = nn.Dropout(dropout_rate)\n",
        "#         self.conv1 = nn.Conv1d(emb_dim, num_filters, filter_sizes[0], padding=1)\n",
        "#         self.conv2 = nn.Conv1d(emb_dim, num_filters, filter_sizes[1], padding=4)\n",
        "#         self.pool = nn.MaxPool1d(2)\n",
        "#         self.lstm = nn.LSTM(num_filters * 2, hidden_dim, batch_first=True)\n",
        "#         self.fc = nn.Linear(hidden_dim, num_classes)\n",
        "\n",
        "#     def forward(self, x):\n",
        "#         x = self.embedding(x)\n",
        "#         x = self.dropout(x)\n",
        "\n",
        "#         x = x.permute(0, 2, 1)  # Convert to (batch_size, emb_dim, seq_len)\n",
        "\n",
        "#         conv_out1 = F.relu(self.conv1(x))\n",
        "#         conv_out2 = F.relu(self.conv2(x))\n",
        "\n",
        "#         pooled_out1 = self.pool(conv_out1).squeeze(2)\n",
        "#         pooled_out2 = self.pool(conv_out2).squeeze(2)\n",
        "\n",
        "#         x = torch.cat((pooled_out1, pooled_out2), dim=1)\n",
        "\n",
        "#         lstm_out, _ = self.lstm(x)\n",
        "#         lstm_out = lstm_out[:, -1, :]  # Get the last timestep's output\n",
        "\n",
        "#         output = self.fc(lstm_out)\n",
        "#         output = F.softmax(output, dim=1)\n",
        "\n",
        "#         return output\n",
        "\n",
        "\n",
        "\n"
      ],
      "metadata": {
        "id": "_ly3WNMFYEOd"
      },
      "execution_count": 74,
      "outputs": []
    },
    {
      "cell_type": "code",
      "source": [
        "# import torch\n",
        "# import torch.nn as nn\n",
        "# import torch.optim as optim\n",
        "# from sklearn.model_selection import GridSearchCV\n",
        "# from sklearn.model_selection import train_test_split\n",
        "# from sklearn.metrics import accuracy_score\n",
        "\n",
        "# # # Split your dataset into training and validation sets\n",
        "# # train_texts, val_texts, train_labels, val_labels = train_test_split(texts, labels, test_size=0.2, random_state=42)\n",
        "\n",
        "# # Convert your text data to numerical representation (e.g., using tokenization and padding)\n",
        "\n",
        "# # Define hyperparameters\n",
        "# param_grid = {\n",
        "#     'emb_dim': [100, 200],\n",
        "#     'num_filters': [10, 20],\n",
        "#     'filter_sizes': [[3, 8], [5, 10]],\n",
        "#     'hidden_dim': [100, 200],\n",
        "#     'dropout_rate': [0.5, 0.7]\n",
        "# }\n",
        "\n",
        "# # Perform grid search\n",
        "# best_accuracy = 0\n",
        "# best_params = {}\n",
        "# for emb_dim in param_grid['emb_dim']:\n",
        "#     for num_filters in param_grid['num_filters']:\n",
        "#         for filter_sizes in param_grid['filter_sizes']:\n",
        "#             for hidden_dim in param_grid['hidden_dim']:\n",
        "#                 for dropout_rate in param_grid['dropout_rate']:\n",
        "#                     model = MyModel(vocab_size, emb_dim, num_filters, filter_sizes, hidden_dim, num_classes, dropout_rate)\n",
        "#                     optimizer = optim.Adam(model.parameters())\n",
        "#                     criterion = nn.CrossEntropyLoss()\n",
        "\n",
        "#                     # Train the model\n",
        "#                     for epoch in range(100):\n",
        "#                                           model.train()\n",
        "#                                           running_loss = 0.0\n",
        "#                                           with torch.cuda.device(0):\n",
        "#                                             for batch in train_dataloader:\n",
        "#                                               inputs, labels = batch[0].to(device), batch[1].to(device)\n",
        "#                                               optimizer.zero_grad()\n",
        "#                                               labels = labels.float()\n",
        "#                                               outputs = model(inputs)\n",
        "#                                               loss = criterion(outputs, labels)\n",
        "#                                               loss.backward()\n",
        "#                                               optimizer.step()\n",
        "#                                               running_loss += loss.item()\n",
        "#                                             epoch_loss = running_loss / (len(train_dataloader))\n",
        "\n",
        "#                                           val_loss = 0.0\n",
        "#                                           model.eval()\n",
        "#                                           with torch.no_grad():\n",
        "#                                             for batch in val_dataloader:\n",
        "#                                               inputs, labels = batch[0].to(device), batch[1].to(device)\n",
        "#                                               labels = labels.float()\n",
        "#                                               outputs = model(inputs)\n",
        "#                                               loss = criterion(outputs, labels)\n",
        "#                                               val_loss += loss.item()\n",
        "#                                             val_loss /= len(val_dataloader)\n",
        "\n",
        "#                                             print(\"Epoch: {}/{} | Train Loss: {:.4f} | Val Loss: {:.4f}\".format(epoch+1, 100, epoch_loss, val_loss))\n",
        "\n",
        "#                     # Check if this set of hyperparameters is the best\n",
        "#                     if val_accuracy > best_accuracy:\n",
        "#                         best_accuracy = val_accuracy\n",
        "#                         best_params = {\n",
        "#                             'emb_dim': emb_dim,\n",
        "#                             'num_filters': num_filters,\n",
        "#                             'filter_sizes': filter_sizes,\n",
        "#                             'hidden_dim': hidden_dim,\n",
        "#                             'dropout_rate': dropout_rate\n",
        "#                         }\n",
        "\n",
        "# print(\"Best hyperparameters:\", best_params)\n",
        "# print(\"Best accuracy:\", best_accuracy)\n"
      ],
      "metadata": {
        "id": "aTW8tX6dYtf6"
      },
      "execution_count": 75,
      "outputs": []
    },
    {
      "cell_type": "code",
      "execution_count": 76,
      "metadata": {
        "colab": {
          "base_uri": "https://localhost:8080/"
        },
        "id": "vn4-mE-Qu-rS",
        "outputId": "599db03d-1069-4371-9f2a-134c0455d236"
      },
      "outputs": [
        {
          "output_type": "stream",
          "name": "stderr",
          "text": [
            "/usr/local/lib/python3.10/dist-packages/torch/nn/modules/rnn.py:71: UserWarning: dropout option adds dropout after all but last recurrent layer, so non-zero dropout expects num_layers greater than 1, but got dropout=0.3 and num_layers=1\n",
            "  warnings.warn(\"dropout option adds dropout after all but last \"\n",
            "  1%|          | 1/100 [00:07<13:02,  7.91s/it]"
          ]
        },
        {
          "output_type": "stream",
          "name": "stdout",
          "text": [
            "Epoch: 1/100 | Train Loss: 0.7464 | Val Loss: 0.7235\n"
          ]
        },
        {
          "output_type": "stream",
          "name": "stderr",
          "text": [
            "\r  2%|▏         | 2/100 [00:13<10:40,  6.53s/it]"
          ]
        },
        {
          "output_type": "stream",
          "name": "stdout",
          "text": [
            "Epoch: 2/100 | Train Loss: 0.7245 | Val Loss: 0.7024\n"
          ]
        },
        {
          "output_type": "stream",
          "name": "stderr",
          "text": [
            "\r  3%|▎         | 3/100 [00:19<10:20,  6.40s/it]"
          ]
        },
        {
          "output_type": "stream",
          "name": "stdout",
          "text": [
            "Epoch: 3/100 | Train Loss: 0.7088 | Val Loss: 0.6902\n"
          ]
        },
        {
          "output_type": "stream",
          "name": "stderr",
          "text": [
            "\r  4%|▍         | 4/100 [00:25<09:51,  6.16s/it]"
          ]
        },
        {
          "output_type": "stream",
          "name": "stdout",
          "text": [
            "Epoch: 4/100 | Train Loss: 0.6980 | Val Loss: 0.6842\n"
          ]
        },
        {
          "output_type": "stream",
          "name": "stderr",
          "text": [
            "\r  5%|▌         | 5/100 [00:31<09:30,  6.01s/it]"
          ]
        },
        {
          "output_type": "stream",
          "name": "stdout",
          "text": [
            "Epoch: 5/100 | Train Loss: 0.6900 | Val Loss: 0.6799\n"
          ]
        },
        {
          "output_type": "stream",
          "name": "stderr",
          "text": [
            "\r  6%|▌         | 6/100 [00:37<09:32,  6.09s/it]"
          ]
        },
        {
          "output_type": "stream",
          "name": "stdout",
          "text": [
            "Epoch: 6/100 | Train Loss: 0.6845 | Val Loss: 0.6755\n"
          ]
        },
        {
          "output_type": "stream",
          "name": "stderr",
          "text": [
            "\r  7%|▋         | 7/100 [00:43<09:10,  5.92s/it]"
          ]
        },
        {
          "output_type": "stream",
          "name": "stdout",
          "text": [
            "Epoch: 7/100 | Train Loss: 0.6794 | Val Loss: 0.6718\n"
          ]
        },
        {
          "output_type": "stream",
          "name": "stderr",
          "text": [
            "\r  8%|▊         | 8/100 [00:49<09:18,  6.07s/it]"
          ]
        },
        {
          "output_type": "stream",
          "name": "stdout",
          "text": [
            "Epoch: 8/100 | Train Loss: 0.6741 | Val Loss: 0.6679\n"
          ]
        },
        {
          "output_type": "stream",
          "name": "stderr",
          "text": [
            "\r  9%|▉         | 9/100 [00:55<08:57,  5.91s/it]"
          ]
        },
        {
          "output_type": "stream",
          "name": "stdout",
          "text": [
            "Epoch: 9/100 | Train Loss: 0.6704 | Val Loss: 0.6674\n"
          ]
        },
        {
          "output_type": "stream",
          "name": "stderr",
          "text": [
            "\r 10%|█         | 10/100 [01:01<09:06,  6.07s/it]"
          ]
        },
        {
          "output_type": "stream",
          "name": "stdout",
          "text": [
            "Epoch: 10/100 | Train Loss: 0.6674 | Val Loss: 0.6648\n"
          ]
        },
        {
          "output_type": "stream",
          "name": "stderr",
          "text": [
            "\r 11%|█         | 11/100 [01:07<08:47,  5.93s/it]"
          ]
        },
        {
          "output_type": "stream",
          "name": "stdout",
          "text": [
            "Epoch: 11/100 | Train Loss: 0.6634 | Val Loss: 0.6644\n"
          ]
        },
        {
          "output_type": "stream",
          "name": "stderr",
          "text": [
            "\r 12%|█▏        | 12/100 [01:13<08:44,  5.96s/it]"
          ]
        },
        {
          "output_type": "stream",
          "name": "stdout",
          "text": [
            "Epoch: 12/100 | Train Loss: 0.6621 | Val Loss: 0.6631\n"
          ]
        },
        {
          "output_type": "stream",
          "name": "stderr",
          "text": [
            "\r 13%|█▎        | 13/100 [01:19<08:42,  6.01s/it]"
          ]
        },
        {
          "output_type": "stream",
          "name": "stdout",
          "text": [
            "Epoch: 13/100 | Train Loss: 0.6596 | Val Loss: 0.6619\n"
          ]
        },
        {
          "output_type": "stream",
          "name": "stderr",
          "text": [
            "\r 14%|█▍        | 14/100 [01:25<08:42,  6.08s/it]"
          ]
        },
        {
          "output_type": "stream",
          "name": "stdout",
          "text": [
            "Epoch: 14/100 | Train Loss: 0.6572 | Val Loss: 0.6620\n"
          ]
        },
        {
          "output_type": "stream",
          "name": "stderr",
          "text": [
            "\r 15%|█▌        | 15/100 [01:33<09:17,  6.56s/it]"
          ]
        },
        {
          "output_type": "stream",
          "name": "stdout",
          "text": [
            "Epoch: 15/100 | Train Loss: 0.6553 | Val Loss: 0.6568\n"
          ]
        },
        {
          "output_type": "stream",
          "name": "stderr",
          "text": [
            "\r 16%|█▌        | 16/100 [01:38<08:44,  6.25s/it]"
          ]
        },
        {
          "output_type": "stream",
          "name": "stdout",
          "text": [
            "Epoch: 16/100 | Train Loss: 0.6530 | Val Loss: 0.6594\n"
          ]
        },
        {
          "output_type": "stream",
          "name": "stderr",
          "text": [
            "\r 17%|█▋        | 17/100 [01:45<08:43,  6.31s/it]"
          ]
        },
        {
          "output_type": "stream",
          "name": "stdout",
          "text": [
            "Epoch: 17/100 | Train Loss: 0.6518 | Val Loss: 0.6565\n"
          ]
        },
        {
          "output_type": "stream",
          "name": "stderr",
          "text": [
            "\r 18%|█▊        | 18/100 [01:50<08:19,  6.09s/it]"
          ]
        },
        {
          "output_type": "stream",
          "name": "stdout",
          "text": [
            "Epoch: 18/100 | Train Loss: 0.6503 | Val Loss: 0.6572\n"
          ]
        },
        {
          "output_type": "stream",
          "name": "stderr",
          "text": [
            "\r 19%|█▉        | 19/100 [01:57<08:22,  6.21s/it]"
          ]
        },
        {
          "output_type": "stream",
          "name": "stdout",
          "text": [
            "Epoch: 19/100 | Train Loss: 0.6490 | Val Loss: 0.6544\n"
          ]
        },
        {
          "output_type": "stream",
          "name": "stderr",
          "text": [
            "\r 20%|██        | 20/100 [02:02<08:01,  6.02s/it]"
          ]
        },
        {
          "output_type": "stream",
          "name": "stdout",
          "text": [
            "Epoch: 20/100 | Train Loss: 0.6476 | Val Loss: 0.6542\n"
          ]
        },
        {
          "output_type": "stream",
          "name": "stderr",
          "text": [
            "\r 21%|██        | 21/100 [02:09<08:04,  6.13s/it]"
          ]
        },
        {
          "output_type": "stream",
          "name": "stdout",
          "text": [
            "Epoch: 21/100 | Train Loss: 0.6466 | Val Loss: 0.6527\n"
          ]
        },
        {
          "output_type": "stream",
          "name": "stderr",
          "text": [
            "\r 22%|██▏       | 22/100 [02:14<07:47,  5.99s/it]"
          ]
        },
        {
          "output_type": "stream",
          "name": "stdout",
          "text": [
            "Epoch: 22/100 | Train Loss: 0.6451 | Val Loss: 0.6517\n"
          ]
        },
        {
          "output_type": "stream",
          "name": "stderr",
          "text": [
            "\r 23%|██▎       | 23/100 [02:20<07:38,  5.96s/it]"
          ]
        },
        {
          "output_type": "stream",
          "name": "stdout",
          "text": [
            "Epoch: 23/100 | Train Loss: 0.6443 | Val Loss: 0.6515\n"
          ]
        },
        {
          "output_type": "stream",
          "name": "stderr",
          "text": [
            "\r 24%|██▍       | 24/100 [02:26<07:37,  6.02s/it]"
          ]
        },
        {
          "output_type": "stream",
          "name": "stdout",
          "text": [
            "Epoch: 24/100 | Train Loss: 0.6436 | Val Loss: 0.6509\n"
          ]
        },
        {
          "output_type": "stream",
          "name": "stderr",
          "text": [
            "\r 25%|██▌       | 25/100 [02:32<07:20,  5.87s/it]"
          ]
        },
        {
          "output_type": "stream",
          "name": "stdout",
          "text": [
            "Epoch: 25/100 | Train Loss: 0.6422 | Val Loss: 0.6497\n"
          ]
        },
        {
          "output_type": "stream",
          "name": "stderr",
          "text": [
            "\r 26%|██▌       | 26/100 [02:38<07:27,  6.05s/it]"
          ]
        },
        {
          "output_type": "stream",
          "name": "stdout",
          "text": [
            "Epoch: 26/100 | Train Loss: 0.6410 | Val Loss: 0.6506\n"
          ]
        },
        {
          "output_type": "stream",
          "name": "stderr",
          "text": [
            "\r 27%|██▋       | 27/100 [02:44<07:11,  5.92s/it]"
          ]
        },
        {
          "output_type": "stream",
          "name": "stdout",
          "text": [
            "Epoch: 27/100 | Train Loss: 0.6403 | Val Loss: 0.6489\n"
          ]
        },
        {
          "output_type": "stream",
          "name": "stderr",
          "text": [
            "\r 28%|██▊       | 28/100 [02:50<07:18,  6.09s/it]"
          ]
        },
        {
          "output_type": "stream",
          "name": "stdout",
          "text": [
            "Epoch: 28/100 | Train Loss: 0.6393 | Val Loss: 0.6481\n"
          ]
        },
        {
          "output_type": "stream",
          "name": "stderr",
          "text": [
            "\r 29%|██▉       | 29/100 [02:56<07:01,  5.94s/it]"
          ]
        },
        {
          "output_type": "stream",
          "name": "stdout",
          "text": [
            "Epoch: 29/100 | Train Loss: 0.6381 | Val Loss: 0.6495\n"
          ]
        },
        {
          "output_type": "stream",
          "name": "stderr",
          "text": [
            "\r 30%|███       | 30/100 [03:02<07:02,  6.04s/it]"
          ]
        },
        {
          "output_type": "stream",
          "name": "stdout",
          "text": [
            "Epoch: 30/100 | Train Loss: 0.6380 | Val Loss: 0.6492\n"
          ]
        },
        {
          "output_type": "stream",
          "name": "stderr",
          "text": [
            "\r 31%|███       | 31/100 [03:08<06:51,  5.96s/it]"
          ]
        },
        {
          "output_type": "stream",
          "name": "stdout",
          "text": [
            "Epoch: 31/100 | Train Loss: 0.6376 | Val Loss: 0.6484\n"
          ]
        },
        {
          "output_type": "stream",
          "name": "stderr",
          "text": [
            "\r 32%|███▏      | 32/100 [03:14<06:40,  5.89s/it]"
          ]
        },
        {
          "output_type": "stream",
          "name": "stdout",
          "text": [
            "Epoch: 32/100 | Train Loss: 0.6366 | Val Loss: 0.6475\n"
          ]
        },
        {
          "output_type": "stream",
          "name": "stderr",
          "text": [
            "\r 33%|███▎      | 33/100 [03:20<06:42,  6.01s/it]"
          ]
        },
        {
          "output_type": "stream",
          "name": "stdout",
          "text": [
            "Epoch: 33/100 | Train Loss: 0.6356 | Val Loss: 0.6475\n"
          ]
        },
        {
          "output_type": "stream",
          "name": "stderr",
          "text": [
            "\r 34%|███▍      | 34/100 [03:26<06:28,  5.89s/it]"
          ]
        },
        {
          "output_type": "stream",
          "name": "stdout",
          "text": [
            "Epoch: 34/100 | Train Loss: 0.6352 | Val Loss: 0.6472\n"
          ]
        },
        {
          "output_type": "stream",
          "name": "stderr",
          "text": [
            "\r 35%|███▌      | 35/100 [03:32<06:34,  6.06s/it]"
          ]
        },
        {
          "output_type": "stream",
          "name": "stdout",
          "text": [
            "Epoch: 35/100 | Train Loss: 0.6343 | Val Loss: 0.6469\n"
          ]
        },
        {
          "output_type": "stream",
          "name": "stderr",
          "text": [
            "\r 36%|███▌      | 36/100 [03:38<06:18,  5.91s/it]"
          ]
        },
        {
          "output_type": "stream",
          "name": "stdout",
          "text": [
            "Epoch: 36/100 | Train Loss: 0.6337 | Val Loss: 0.6471\n"
          ]
        },
        {
          "output_type": "stream",
          "name": "stderr",
          "text": [
            "\r 37%|███▋      | 37/100 [03:44<06:23,  6.09s/it]"
          ]
        },
        {
          "output_type": "stream",
          "name": "stdout",
          "text": [
            "Epoch: 37/100 | Train Loss: 0.6334 | Val Loss: 0.6462\n"
          ]
        },
        {
          "output_type": "stream",
          "name": "stderr",
          "text": [
            "\r 38%|███▊      | 38/100 [03:50<06:09,  5.95s/it]"
          ]
        },
        {
          "output_type": "stream",
          "name": "stdout",
          "text": [
            "Epoch: 38/100 | Train Loss: 0.6328 | Val Loss: 0.6470\n"
          ]
        },
        {
          "output_type": "stream",
          "name": "stderr",
          "text": [
            "\r 39%|███▉      | 39/100 [03:56<06:07,  6.02s/it]"
          ]
        },
        {
          "output_type": "stream",
          "name": "stdout",
          "text": [
            "Epoch: 39/100 | Train Loss: 0.6322 | Val Loss: 0.6463\n"
          ]
        },
        {
          "output_type": "stream",
          "name": "stderr",
          "text": [
            "\r 40%|████      | 40/100 [04:02<05:59,  5.99s/it]"
          ]
        },
        {
          "output_type": "stream",
          "name": "stdout",
          "text": [
            "Epoch: 40/100 | Train Loss: 0.6316 | Val Loss: 0.6464\n"
          ]
        },
        {
          "output_type": "stream",
          "name": "stderr",
          "text": [
            "\r 41%|████      | 41/100 [04:08<05:48,  5.90s/it]"
          ]
        },
        {
          "output_type": "stream",
          "name": "stdout",
          "text": [
            "Epoch: 41/100 | Train Loss: 0.6309 | Val Loss: 0.6473\n"
          ]
        },
        {
          "output_type": "stream",
          "name": "stderr",
          "text": [
            "\r 41%|████      | 41/100 [04:14<06:06,  6.21s/it]"
          ]
        },
        {
          "output_type": "stream",
          "name": "stdout",
          "text": [
            "Epoch: 42/100 | Train Loss: 0.6303 | Val Loss: 0.6468\n",
            "Early stopping triggered. Training stopped.\n"
          ]
        },
        {
          "output_type": "stream",
          "name": "stderr",
          "text": [
            "\n"
          ]
        }
      ],
      "source": [
        "device = torch.device(\"cuda:0\" if torch.cuda.is_available() else \"cpu\")\n",
        "model = MyModel(vocab_size, output_dim, max_length).to(device)\n",
        "optimizer = optim.Adam(model.parameters(),lr=0.001)\n",
        "criterion = nn.BCEWithLogitsLoss()\n",
        "\n",
        "best_val_loss = float('inf')\n",
        "patience = 5\n",
        "early_stopping_counter = 0\n",
        "\n",
        "for epoch in tqdm(range(100)):\n",
        "    model.train()\n",
        "    running_loss = 0.0\n",
        "    with torch.cuda.device(0):\n",
        "      for batch in train_dataloader:\n",
        "        inputs, labels = batch[0].to(device), batch[1].to(device)\n",
        "        optimizer.zero_grad()\n",
        "        labels = labels.float()\n",
        "        outputs = model(inputs)\n",
        "        loss = criterion(outputs, labels)\n",
        "        loss.backward()\n",
        "        optimizer.step()\n",
        "        running_loss += loss.item()\n",
        "    epoch_loss = running_loss / (len(train_dataloader))\n",
        "\n",
        "    val_loss = 0.0\n",
        "    model.eval()\n",
        "    with torch.no_grad():\n",
        "        for batch in val_dataloader:\n",
        "            inputs, labels = batch[0].to(device), batch[1].to(device)\n",
        "            labels = labels.float()\n",
        "            outputs = model(inputs)\n",
        "            loss = criterion(outputs, labels)\n",
        "            val_loss += loss.item()\n",
        "\n",
        "    val_loss /= len(val_dataloader)\n",
        "\n",
        "    print(\"Epoch: {}/{} | Train Loss: {:.4f} | Val Loss: {:.4f}\".format(epoch+1, 100, epoch_loss, val_loss))\n",
        "\n",
        "    if val_loss < best_val_loss:\n",
        "        best_val_loss = val_loss\n",
        "        early_stopping_counter = 0\n",
        "    else:\n",
        "        early_stopping_counter += 1\n",
        "\n",
        "    if early_stopping_counter >= patience:\n",
        "        print(\"Early stopping triggered. Training stopped.\")\n",
        "        break\n",
        "        "
      ]
    },
    {
      "cell_type": "markdown",
      "source": [
        "# **Evaluation**"
      ],
      "metadata": {
        "id": "XVEdlkQEYOki"
      }
    },
    {
      "cell_type": "code",
      "source": [
        "model.eval()\n",
        "X_test_ = X_test_.to(device)\n",
        "# Compute the model's prediction for the padded sequence\n",
        "with torch.no_grad():\n",
        "    pred_ = model(X_test_)\n",
        "     \n",
        "pred__ = pred_.cpu().numpy()\n",
        "preds = np.argmax(pred__, axis=1)\n",
        "     \n",
        "def one_hot(a, num_classes):\n",
        "  return np.squeeze(np.eye(num_classes)[a.reshape(-1)])\n",
        "pred_hot = one_hot(preds,4)\n",
        "     \n",
        "x_np = torch.from_numpy(pred_hot)\n",
        "     \n",
        "\n",
        "from sklearn.metrics import accuracy_score,f1_score,precision_score,recall_score\n",
        "test_recall = recall_score(y_test, x_np,average='macro') \n",
        "test_prec = precision_score(y_test, x_np,average='macro') \n",
        "test_acc = accuracy_score(y_test, pred_hot)\n",
        "test_f1 = f1_score(y_test, x_np,average='macro')\n",
        "\n",
        "print('Test Accuracy: {:.4f}'.format(test_acc))\n",
        "print('Test F1 score: {:.4f}'.format(test_f1))\n",
        "print('Test Precision: {:.4f}'.format(test_prec))\n",
        "print('Test Recall: {:.4f}'.format(test_recall))\n"
      ],
      "metadata": {
        "id": "Yj-83O7idiA5",
        "outputId": "347e2cde-9006-4960-d2d3-1cd7350c6eaa",
        "colab": {
          "base_uri": "https://localhost:8080/"
        }
      },
      "execution_count": 80,
      "outputs": [
        {
          "output_type": "stream",
          "name": "stdout",
          "text": [
            "Test Accuracy: 0.8162\n",
            "Test F1 score: 0.8155\n",
            "Test Precision: 0.8183\n",
            "Test Recall: 0.8152\n"
          ]
        }
      ]
    },
    {
      "cell_type": "code",
      "source": [
        "import sklearn.metrics as metrics\n",
        "import matplotlib.pyplot as plt\n",
        "import seaborn as sns\n",
        "\n",
        "\n",
        "model.eval()\n",
        "y_true = []\n",
        "y_pred = []\n",
        "with torch.no_grad():\n",
        "    for batch in test_dataloader:\n",
        "        inputs, labels = batch[0].to(device), batch[1].to(device)\n",
        "        labels = labels.float()\n",
        "        outputs = model(inputs)\n",
        "        preds = torch.sigmoid(outputs) > 0.5\n",
        "        y_true.extend(labels.cpu().detach().numpy())\n",
        "        y_pred.extend(preds.cpu().detach().numpy())\n",
        "\n",
        "# Convert lists to NumPy arrays\n",
        "y_true = np.array(y_true)\n",
        "y_pred = np.array(y_pred)\n",
        "\n",
        "test_acc = metrics.accuracy_score(y_true, y_pred)\n",
        "test_f1 = metrics.f1_score(y_true, y_pred, average='macro')\n",
        "test_prec = metrics.precision_score(y_true, y_pred, average='macro')\n",
        "test_recall = metrics.recall_score(y_true, y_pred, average='macro')\n",
        "\n",
        "print('Test Accuracy: {:.4f}'.format(test_acc))\n",
        "print('Test F1 score: {:.4f}'.format(test_f1))\n",
        "print('Test Precision: {:.4f}'.format(test_prec))\n",
        "print('Test Recall: {:.4f}'.format(test_recall))\n",
        "\n",
        "# Calculate confusion matrix\n",
        "test_confusion_matrix = metrics.confusion_matrix(y_true.argmax(axis=1), y_pred.argmax(axis=1), labels=[0, 1, 2, 3])\n",
        "sns.set(font_scale=1.2)\n",
        "fig, ax = plt.subplots(figsize=(8, 6))\n",
        "sns.heatmap(test_confusion_matrix, annot=True, fmt='d', cmap='Blues', cbar=False,\n",
        "            annot_kws={\"size\": 16}, linewidths=0.5, linecolor='black', ax=ax)\n",
        "ax.set_xlabel('Predicted Label', fontsize=14)\n",
        "ax.set_ylabel('True Label', fontsize=14)\n",
        "ax.set_xticklabels([\"DZ\", \"LY\", \"MA\", \"TN\"], fontsize=12)\n",
        "ax.set_yticklabels([\"DZ\", \"LY\", \"MA\", \"TN\"], fontsize=12)\n",
        "plt.title('Confusion Matrix', fontsize=16)\n",
        "plt.show()"
      ],
      "metadata": {
        "id": "F_XPiGl5LN63",
        "outputId": "51a8ca1d-7bdc-4aa4-9ae8-27523164b7bc",
        "colab": {
          "base_uri": "https://localhost:8080/",
          "height": 648
        }
      },
      "execution_count": 78,
      "outputs": [
        {
          "output_type": "stream",
          "name": "stdout",
          "text": [
            "Test Accuracy: 0.4134\n",
            "Test F1 score: 0.5758\n",
            "Test Precision: 0.4068\n",
            "Test Recall: 0.9849\n"
          ]
        },
        {
          "output_type": "display_data",
          "data": {
            "text/plain": [
              "<Figure size 800x600 with 1 Axes>"
            ],
            "image/png": "[encoded data removed]"
          },
          "metadata": {}
        }
      ]
    },
    {
      "cell_type": "markdown",
      "source": [
        "# **Testing**"
      ],
      "metadata": {
        "id": "fkjFinqeYa0d"
      }
    },
    {
      "cell_type": "code",
      "execution_count": null,
      "metadata": {
        "id": "RCc6_jtJJsq2"
      },
      "outputs": [],
      "source": [
        "# # Set the model to evaluation mode\n",
        "# model.eval()\n",
        "# device = \"cuda\"\n",
        "# # Tokenize the new complaint and pad the sequence\n",
        "# new_complaint = ['واش دير للعشى']\n",
        "# #new_complaint  = [\"شوكران علا هاد \"]\n",
        "# #new_complaint  = [\"نبي نروح للحوش\"]\n",
        "# #new_complaint  = [\"شبيك شتحب \"]\n",
        "# seq = tokenizer.texts_to_sequences(new_complaint)\n",
        "# padded = pad_sequences(seq, maxlen=max_length)\n",
        "\n",
        "# # Convert the padded sequence to a PyTorch tensor and move it to the device (e.g., GPU) if available\n",
        "# padded_tensor = torch.LongTensor(padded).to(\"cpu\")\n",
        "\n",
        "# # Compute the model's prediction for the padded sequence\n",
        "# with torch.no_grad():\n",
        "#     pred = model(padded_tensor)\n",
        "\n",
        "# # Move the prediction back to the CPU and convert to a numpy array\n",
        "# pred = pred.cpu().numpy()\n",
        "\n",
        "# # Map the prediction to a class label using the CLASS_DICT{'DZ': 0, 'LY': 1, 'MA': 2, 'TN': 3}\n",
        "# CLASS_DICT = {1: \"LY\", 3: \"TN\", 2: \"MA\", 0: \"DZ\" }\n",
        "# class_label = CLASS_DICT[np.argmax(pred)]\n",
        "\n",
        "# # Print the prediction and the predicted class label\n",
        "# print(class_label)"
      ]
    }
  ],
  "metadata": {
    "accelerator": "GPU",
    "colab": {
      "provenance": [],
      "include_colab_link": true
    },
    "gpuClass": "standard",
    "kernelspec": {
      "display_name": "Python 3",
      "name": "python3"
    },
    "language_info": {
      "name": "python"
    }
  },
  "nbformat": 4,
  "nbformat_minor": 0
}