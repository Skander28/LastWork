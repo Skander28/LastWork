{
  "cells": [
    {
      "cell_type": "markdown",
      "metadata": {
        "id": "view-in-github",
        "colab_type": "text"
      },
      "source": [
        "<a href=\"https://colab.research.google.com/github/Skander28/LastWork/blob/main/LSTM.ipynb\" target=\"_parent\"><img src=\"https://colab.research.google.com/assets/colab-badge.svg\" alt=\"Open In Colab\"/></a>"
      ]
    },
    {
      "cell_type": "code",
      "source": [
        "!pip install sentencepiece"
      ],
      "metadata": {
        "id": "0PHe1zv7NHY-",
        "outputId": "ccfc82a1-71ca-421f-ab19-d96bc50099dc",
        "colab": {
          "base_uri": "https://localhost:8080/"
        }
      },
      "execution_count": 1,
      "outputs": [
        {
          "output_type": "stream",
          "name": "stdout",
          "text": [
            "Looking in indexes: https://pypi.org/simple, https://us-python.pkg.dev/colab-wheels/public/simple/\n",
            "Collecting sentencepiece\n",
            "  Downloading sentencepiece-0.1.99-cp310-cp310-manylinux_2_17_x86_64.manylinux2014_x86_64.whl (1.3 MB)\n",
            "\u001b[2K     \u001b[90m━━━━━━━━━━━━━━━━━━━━━━━━━━━━━━━━━━━━━━━━\u001b[0m \u001b[32m1.3/1.3 MB\u001b[0m \u001b[31m26.4 MB/s\u001b[0m eta \u001b[36m0:00:00\u001b[0m\n",
            "\u001b[?25hInstalling collected packages: sentencepiece\n",
            "Successfully installed sentencepiece-0.1.99\n"
          ]
        }
      ]
    },
    {
      "cell_type": "code",
      "source": [
        "import torch\n",
        "\n",
        "if torch.cuda.is_available():\n",
        "  device = torch.device(\"cuda\")\n",
        "  print('There are %d GPU(s) available.' % torch.cuda.device_count())\n",
        "  print('We will use the GPU:', torch.cuda.get_device_name(0))\n",
        "  !nvidia-smi\n",
        "else:\n",
        "  print('No GPU available, using the CPU instead.')\n",
        "  device = torch.device(\"cpu\")"
      ],
      "metadata": {
        "colab": {
          "base_uri": "https://localhost:8080/"
        },
        "id": "d8HAr9Ybmt-r",
        "outputId": "53ef1479-9707-4677-a51e-fd482c1c80f9"
      },
      "execution_count": 2,
      "outputs": [
        {
          "output_type": "stream",
          "name": "stdout",
          "text": [
            "There are 1 GPU(s) available.\n",
            "We will use the GPU: Tesla T4\n",
            "Tue May 30 16:09:05 2023       \n",
            "+-----------------------------------------------------------------------------+\n",
            "| NVIDIA-SMI 525.85.12    Driver Version: 525.85.12    CUDA Version: 12.0     |\n",
            "|-------------------------------+----------------------+----------------------+\n",
            "| GPU  Name        Persistence-M| Bus-Id        Disp.A | Volatile Uncorr. ECC |\n",
            "| Fan  Temp  Perf  Pwr:Usage/Cap|         Memory-Usage | GPU-Util  Compute M. |\n",
            "|                               |                      |               MIG M. |\n",
            "|===============================+======================+======================|\n",
            "|   0  Tesla T4            Off  | 00000000:00:04.0 Off |                    0 |\n",
            "| N/A   40C    P8     9W /  70W |      3MiB / 15360MiB |      0%      Default |\n",
            "|                               |                      |                  N/A |\n",
            "+-------------------------------+----------------------+----------------------+\n",
            "                                                                               \n",
            "+-----------------------------------------------------------------------------+\n",
            "| Processes:                                                                  |\n",
            "|  GPU   GI   CI        PID   Type   Process name                  GPU Memory |\n",
            "|        ID   ID                                                   Usage      |\n",
            "|=============================================================================|\n",
            "|  No running processes found                                                 |\n",
            "+-----------------------------------------------------------------------------+\n"
          ]
        }
      ]
    },
    {
      "cell_type": "code",
      "execution_count": 3,
      "metadata": {
        "id": "eCOhGYJFdcN5",
        "outputId": "ca414bd8-c3f4-4749-88eb-05c56d232aa9",
        "colab": {
          "base_uri": "https://localhost:8080/",
          "height": 224
        }
      },
      "outputs": [
        {
          "output_type": "stream",
          "name": "stdout",
          "text": [
            "Mounted at /content/drive\n"
          ]
        },
        {
          "output_type": "execute_result",
          "data": {
            "text/plain": [
              "   Unnamed: 0                   id  \\\n",
              "0           0  1152861142416576384   \n",
              "1           1   921392744878264448   \n",
              "2           2   960133615689576448   \n",
              "3           3  1121522092581769216   \n",
              "4           4  1187345510874656768   \n",
              "\n",
              "                                                text dialect  word_count  \\\n",
              "0  طيب اعرفو رئيس وزرائكم الاول وتعالو حاسبو رياض...      DZ           9   \n",
              "1  @khaireddineroub اوكي ماتنساش روراوة ثاني لازم...      DZ          16   \n",
              "2  @safasafa2339 يا ختي ديجا كي نشوف سمو نبدا نرج...      DZ          12   \n",
              "3  حسابشخصي حسابشخصي حسابشخصي اوو وش لي مش وخدين ...      DZ          10   \n",
              "4          @Hadjer12345678 تقولي راكي تهدري عليا 😂😂😂      DZ           6   \n",
              "\n",
              "   char_count  \n",
              "0          57  \n",
              "1          94  \n",
              "2          54  \n",
              "3          54  \n",
              "4          41  "
            ],
            "text/html": [
              "\n",
              "  <div id=\"df-68d95654-1d9e-4f81-8216-59381baf4af1\">\n",
              "    <div class=\"colab-df-container\">\n",
              "      <div>\n",
              "<style scoped>\n",
              "    .dataframe tbody tr th:only-of-type {\n",
              "        vertical-align: middle;\n",
              "    }\n",
              "\n",
              "    .dataframe tbody tr th {\n",
              "        vertical-align: top;\n",
              "    }\n",
              "\n",
              "    .dataframe thead th {\n",
              "        text-align: right;\n",
              "    }\n",
              "</style>\n",
              "<table border=\"1\" class=\"dataframe\">\n",
              "  <thead>\n",
              "    <tr style=\"text-align: right;\">\n",
              "      <th></th>\n",
              "      <th>Unnamed: 0</th>\n",
              "      <th>id</th>\n",
              "      <th>text</th>\n",
              "      <th>dialect</th>\n",
              "      <th>word_count</th>\n",
              "      <th>char_count</th>\n",
              "    </tr>\n",
              "  </thead>\n",
              "  <tbody>\n",
              "    <tr>\n",
              "      <th>0</th>\n",
              "      <td>0</td>\n",
              "      <td>1152861142416576384</td>\n",
              "      <td>طيب اعرفو رئيس وزرائكم الاول وتعالو حاسبو رياض...</td>\n",
              "      <td>DZ</td>\n",
              "      <td>9</td>\n",
              "      <td>57</td>\n",
              "    </tr>\n",
              "    <tr>\n",
              "      <th>1</th>\n",
              "      <td>1</td>\n",
              "      <td>921392744878264448</td>\n",
              "      <td>@khaireddineroub اوكي ماتنساش روراوة ثاني لازم...</td>\n",
              "      <td>DZ</td>\n",
              "      <td>16</td>\n",
              "      <td>94</td>\n",
              "    </tr>\n",
              "    <tr>\n",
              "      <th>2</th>\n",
              "      <td>2</td>\n",
              "      <td>960133615689576448</td>\n",
              "      <td>@safasafa2339 يا ختي ديجا كي نشوف سمو نبدا نرج...</td>\n",
              "      <td>DZ</td>\n",
              "      <td>12</td>\n",
              "      <td>54</td>\n",
              "    </tr>\n",
              "    <tr>\n",
              "      <th>3</th>\n",
              "      <td>3</td>\n",
              "      <td>1121522092581769216</td>\n",
              "      <td>حسابشخصي حسابشخصي حسابشخصي اوو وش لي مش وخدين ...</td>\n",
              "      <td>DZ</td>\n",
              "      <td>10</td>\n",
              "      <td>54</td>\n",
              "    </tr>\n",
              "    <tr>\n",
              "      <th>4</th>\n",
              "      <td>4</td>\n",
              "      <td>1187345510874656768</td>\n",
              "      <td>@Hadjer12345678 تقولي راكي تهدري عليا 😂😂😂</td>\n",
              "      <td>DZ</td>\n",
              "      <td>6</td>\n",
              "      <td>41</td>\n",
              "    </tr>\n",
              "  </tbody>\n",
              "</table>\n",
              "</div>\n",
              "      <button class=\"colab-df-convert\" onclick=\"convertToInteractive('df-68d95654-1d9e-4f81-8216-59381baf4af1')\"\n",
              "              title=\"Convert this dataframe to an interactive table.\"\n",
              "              style=\"display:none;\">\n",
              "        \n",
              "  <svg xmlns=\"http://www.w3.org/2000/svg\" height=\"24px\"viewBox=\"0 0 24 24\"\n",
              "       width=\"24px\">\n",
              "    <path d=\"M0 0h24v24H0V0z\" fill=\"none\"/>\n",
              "    <path d=\"M18.56 5.44l.94 2.06.94-2.06 2.06-.94-2.06-.94-.94-2.06-.94 2.06-2.06.94zm-11 1L8.5 8.5l.94-2.06 2.06-.94-2.06-.94L8.5 2.5l-.94 2.06-2.06.94zm10 10l.94 2.06.94-2.06 2.06-.94-2.06-.94-.94-2.06-.94 2.06-2.06.94z\"/><path d=\"M17.41 7.96l-1.37-1.37c-.4-.4-.92-.59-1.43-.59-.52 0-1.04.2-1.43.59L10.3 9.45l-7.72 7.72c-.78.78-.78 2.05 0 2.83L4 21.41c.39.39.9.59 1.41.59.51 0 1.02-.2 1.41-.59l7.78-7.78 2.81-2.81c.8-.78.8-2.07 0-2.86zM5.41 20L4 18.59l7.72-7.72 1.47 1.35L5.41 20z\"/>\n",
              "  </svg>\n",
              "      </button>\n",
              "      \n",
              "  <style>\n",
              "    .colab-df-container {\n",
              "      display:flex;\n",
              "      flex-wrap:wrap;\n",
              "      gap: 12px;\n",
              "    }\n",
              "\n",
              "    .colab-df-convert {\n",
              "      background-color: #E8F0FE;\n",
              "      border: none;\n",
              "      border-radius: 50%;\n",
              "      cursor: pointer;\n",
              "      display: none;\n",
              "      fill: #1967D2;\n",
              "      height: 32px;\n",
              "      padding: 0 0 0 0;\n",
              "      width: 32px;\n",
              "    }\n",
              "\n",
              "    .colab-df-convert:hover {\n",
              "      background-color: #E2EBFA;\n",
              "      box-shadow: 0px 1px 2px rgba(60, 64, 67, 0.3), 0px 1px 3px 1px rgba(60, 64, 67, 0.15);\n",
              "      fill: #174EA6;\n",
              "    }\n",
              "\n",
              "    [theme=dark] .colab-df-convert {\n",
              "      background-color: #3B4455;\n",
              "      fill: #D2E3FC;\n",
              "    }\n",
              "\n",
              "    [theme=dark] .colab-df-convert:hover {\n",
              "      background-color: #434B5C;\n",
              "      box-shadow: 0px 1px 3px 1px rgba(0, 0, 0, 0.15);\n",
              "      filter: drop-shadow(0px 1px 2px rgba(0, 0, 0, 0.3));\n",
              "      fill: #FFFFFF;\n",
              "    }\n",
              "  </style>\n",
              "\n",
              "      <script>\n",
              "        const buttonEl =\n",
              "          document.querySelector('#df-68d95654-1d9e-4f81-8216-59381baf4af1 button.colab-df-convert');\n",
              "        buttonEl.style.display =\n",
              "          google.colab.kernel.accessAllowed ? 'block' : 'none';\n",
              "\n",
              "        async function convertToInteractive(key) {\n",
              "          const element = document.querySelector('#df-68d95654-1d9e-4f81-8216-59381baf4af1');\n",
              "          const dataTable =\n",
              "            await google.colab.kernel.invokeFunction('convertToInteractive',\n",
              "                                                     [key], {});\n",
              "          if (!dataTable) return;\n",
              "\n",
              "          const docLinkHtml = 'Like what you see? Visit the ' +\n",
              "            '<a target=\"_blank\" href=https://colab.research.google.com/notebooks/data_table.ipynb>data table notebook</a>'\n",
              "            + ' to learn more about interactive tables.';\n",
              "          element.innerHTML = '';\n",
              "          dataTable['output_type'] = 'display_data';\n",
              "          await google.colab.output.renderOutput(dataTable, element);\n",
              "          const docLink = document.createElement('div');\n",
              "          docLink.innerHTML = docLinkHtml;\n",
              "          element.appendChild(docLink);\n",
              "        }\n",
              "      </script>\n",
              "    </div>\n",
              "  </div>\n",
              "  "
            ]
          },
          "metadata": {},
          "execution_count": 3
        }
      ],
      "source": [
        "import pandas as pd\n",
        "\n",
        "from google.colab import drive\n",
        "drive.mount('/content/drive')\n",
        "\n",
        "# Read the given dataset which contain the Ids\n",
        "filtered_df = pd.read_csv('/content/drive/MyDrive/LastTry.csv',lineterminator='\\n')\n",
        "filtered_df.head()"
      ]
    },
    {
      "cell_type": "code",
      "execution_count": 4,
      "metadata": {
        "id": "reU7Hnyoeoif"
      },
      "outputs": [],
      "source": [
        "import torch\n",
        "import torch.nn as nn\n",
        "import torch.optim as optim\n",
        "from torch.utils.data import Dataset, DataLoader\n",
        "from sklearn.model_selection import train_test_split\n",
        "from keras.preprocessing.text import Tokenizer\n",
        "from keras.utils import pad_sequences\n"
      ]
    },
    {
      "cell_type": "code",
      "source": [
        "import sentencepiece as spm\n",
        "\n",
        "text_data = filtered_df['text'].tolist()\n",
        "\n",
        "with open('tweets.txt', 'w', encoding='utf-8') as file:\n",
        "    for tweet in text_data:\n",
        "        file.write(tweet + '\\n')\n",
        "  \n",
        "# Define the SentencePiece model path and vocabulary size\n",
        "model_prefix = 'maghrebi_model'\n",
        "vocab_size = 25000\n",
        "max_length = 200\n",
        "\n",
        "# Train the SentencePiece tokenizer\n",
        "spm.SentencePieceTrainer.train(\n",
        "    f'--input=tweets.txt --model_prefix={model_prefix} --vocab_size={vocab_size} --model_type=unigram'\n",
        ")\n",
        "\n",
        "from torch.nn.utils.rnn import pad_sequence\n",
        "# Load the trained SentencePiece tokenizer\n",
        "tokenizer = spm.SentencePieceProcessor()\n",
        "tokenizer.load(f'{model_prefix}.model')\n",
        "\n",
        "# Tokenize the text data\n",
        "tokenized_data = [tokenizer.encode(text) for text in text_data]\n",
        "tokenized_data = pad_sequences(tokenized_data, maxlen=max_length)"
      ],
      "metadata": {
        "id": "tSulhfPJJ4s9"
      },
      "execution_count": 5,
      "outputs": []
    },
    {
      "cell_type": "code",
      "execution_count": 6,
      "metadata": {
        "id": "rhBDTILCepFR"
      },
      "outputs": [],
      "source": [
        "labels = pd.get_dummies(filtered_df['dialect']).values"
      ]
    },
    {
      "cell_type": "code",
      "execution_count": 7,
      "metadata": {
        "id": "-UswUCsheyn1"
      },
      "outputs": [],
      "source": [
        "# Split data into training, validation, and test sets\n",
        "X_train, X_test, y_train, y_test = train_test_split(tokenized_data, labels, test_size=0.05, random_state=42, shuffle=True)\n",
        "X_train, X_val, y_train, y_val = train_test_split(X_train, y_train, test_size=0.05, random_state=42, shuffle=True)\n"
      ]
    },
    {
      "cell_type": "code",
      "source": [
        "import numpy as np\n",
        "\n",
        "# Convert the one-hot encoded labels back to dialect labels\n",
        "dialect_labels = np.argmax(labels, axis=1)\n",
        "# Get the unique dialect labels and their counts in the original dataset\n",
        "unique_dialects, dialect_counts = np.unique(dialect_labels, return_counts=True)\n",
        "\n",
        "# Get the number of samples for each dialect in the training set\n",
        "train_dialect_labels = np.argmax(y_train, axis=1)\n",
        "train_dialect_counts = np.bincount(train_dialect_labels, minlength=len(unique_dialects))\n",
        "\n",
        "# Get the number of samples for each dialect in the validation set\n",
        "val_dialect_labels = np.argmax(y_val, axis=1)\n",
        "val_dialect_counts = np.bincount(val_dialect_labels, minlength=len(unique_dialects))\n",
        "\n",
        "# Get the number of samples for each dialect in the test set\n",
        "test_dialect_labels = np.argmax(y_test, axis=1)\n",
        "test_dialect_counts = np.bincount(test_dialect_labels, minlength=len(unique_dialects))\n",
        "\n",
        "# Map dialect labels to their corresponding names\n",
        "dialect_names = [\"DZ\", \"LY\", \"MA\", \"TN\"] \n",
        "\n",
        "# Print the number of samples for each dialect in each set\n",
        "for dialect, train_count, val_count, test_count in zip(unique_dialects, train_dialect_counts, val_dialect_counts, test_dialect_counts):\n",
        "    dialect_name = dialect_names[dialect]\n",
        "    print(f\"{dialect_name}: Train={train_count}, Val={val_count}, Test={test_count}\")"
      ],
      "metadata": {
        "id": "SMpfbByVKkTL",
        "outputId": "313e1038-07cc-4702-8ef3-0bf11986f0a4",
        "colab": {
          "base_uri": "https://localhost:8080/"
        }
      },
      "execution_count": 8,
      "outputs": [
        {
          "output_type": "stream",
          "name": "stdout",
          "text": [
            "DZ: Train=16283, Val=860, Test=864\n",
            "LY: Train=16251, Val=834, Test=922\n",
            "MA: Train=16210, Val=866, Test=931\n",
            "TN: Train=16260, Val=862, Test=885\n"
          ]
        }
      ]
    },
    {
      "cell_type": "code",
      "execution_count": 9,
      "metadata": {
        "id": "3BQ-BySde22V"
      },
      "outputs": [],
      "source": [
        "# Convert data to PyTorch tensors\n",
        "X_train_, y_train_ = torch.tensor(X_train), torch.tensor(y_train)\n",
        "X_val_, y_val_ = torch.tensor(X_val), torch.tensor(y_val)\n",
        "X_test_, y_test_ = torch.tensor(X_test), torch.tensor(y_test)"
      ]
    },
    {
      "cell_type": "code",
      "execution_count": 10,
      "metadata": {
        "id": "S8KZowW7fYGl"
      },
      "outputs": [],
      "source": [
        "class DialectDataset(Dataset):\n",
        "    def __init__(self, X, y):\n",
        "        self.X = X\n",
        "        self.y = y\n",
        "        \n",
        "    def __len__(self):\n",
        "        return len(self.X)\n",
        "    \n",
        "    def __getitem__(self, idx):\n",
        "        return self.X[idx], self.y[idx]"
      ]
    },
    {
      "cell_type": "code",
      "execution_count": 11,
      "metadata": {
        "id": "4qSPL4W_fYm1"
      },
      "outputs": [],
      "source": [
        "# Create dataloaders for training, validation, and test sets\n",
        "train_dataset = DialectDataset(X_train_, y_train_)\n",
        "val_dataset = DialectDataset(X_val_, y_val_)\n",
        "test_dataset = DialectDataset(X_test_, y_test_)"
      ]
    },
    {
      "cell_type": "code",
      "execution_count": 12,
      "metadata": {
        "id": "nO7IugY2fcFD"
      },
      "outputs": [],
      "source": [
        "batch_size = 64\n",
        "train_dataloader = DataLoader(train_dataset, batch_size=batch_size, shuffle=True)\n",
        "val_dataloader = DataLoader(val_dataset, batch_size=batch_size)\n",
        "test_dataloader = DataLoader(test_dataset, batch_size=batch_size)\n"
      ]
    },
    {
      "cell_type": "markdown",
      "source": [
        "# **LSTM Model**"
      ],
      "metadata": {
        "id": "_OL5QrNtYiGW"
      }
    },
    {
      "cell_type": "code",
      "source": [
        "import torch\n",
        "import torch.nn as nn\n",
        "import torch.optim as optim\n",
        "from tqdm import tqdm\n",
        "import numpy as np\n",
        "\n",
        "emb_dim = 100\n",
        "batch_size = 64\n",
        "\n",
        "\n",
        "class MyModel(nn.Module):\n",
        "    def __init__(self, vocab_size, emb_dim, max_length):\n",
        "        super(MyModel, self).__init__()\n",
        "        self.embedding = nn.Embedding(vocab_size, emb_dim)\n",
        "        self.dropout = nn.Dropout(p=0.5)\n",
        "        self.lstm = nn.LSTM(emb_dim, 100,num_layers = 2, dropout=0.3, batch_first=True)\n",
        "        # self.lstm2 = nn.LSTM(100, 50, dropout=0.3, batch_first=True)\n",
        "        self.linear = nn.Linear(100, 4)\n",
        "        softmax = nn.Softmax(dim=1)\n",
        "        self.fc = nn.Sequential(self.linear, softmax)\n",
        "    \n",
        "    def forward(self, x):\n",
        "        embedded = self.embedding(x)\n",
        "        dropped = self.dropout(embedded)\n",
        "        lstm_out, _ = self.lstm(dropped)\n",
        "        # lstm2_out, _ = self.lstm2(lstm_out)\n",
        "        out = self.fc(lstm_out[:, -1, :])\n",
        "        return out\n",
        "     "
      ],
      "metadata": {
        "id": "OFiobvyzaPnu"
      },
      "execution_count": 13,
      "outputs": []
    },
    {
      "cell_type": "code",
      "execution_count": 14,
      "metadata": {
        "colab": {
          "base_uri": "https://localhost:8080/"
        },
        "id": "vn4-mE-Qu-rS",
        "outputId": "284e7a49-4a36-4f5e-a94b-9ec12ba0dd49"
      },
      "outputs": [
        {
          "output_type": "stream",
          "name": "stderr",
          "text": [
            "  1%|          | 1/100 [00:12<20:56, 12.69s/it]"
          ]
        },
        {
          "output_type": "stream",
          "name": "stdout",
          "text": [
            "Epoch: 1/100 | Train Loss: 1.3145 | Val Loss: 1.2555\n"
          ]
        },
        {
          "output_type": "stream",
          "name": "stderr",
          "text": [
            "\r  2%|▏         | 2/100 [00:24<19:35, 11.99s/it]"
          ]
        },
        {
          "output_type": "stream",
          "name": "stdout",
          "text": [
            "Epoch: 2/100 | Train Loss: 1.2180 | Val Loss: 1.1487\n"
          ]
        },
        {
          "output_type": "stream",
          "name": "stderr",
          "text": [
            "\r  3%|▎         | 3/100 [00:35<19:03, 11.78s/it]"
          ]
        },
        {
          "output_type": "stream",
          "name": "stdout",
          "text": [
            "Epoch: 3/100 | Train Loss: 1.1591 | Val Loss: 1.1101\n"
          ]
        },
        {
          "output_type": "stream",
          "name": "stderr",
          "text": [
            "\r  4%|▍         | 4/100 [00:47<18:46, 11.74s/it]"
          ]
        },
        {
          "output_type": "stream",
          "name": "stdout",
          "text": [
            "Epoch: 4/100 | Train Loss: 1.1209 | Val Loss: 1.0969\n"
          ]
        },
        {
          "output_type": "stream",
          "name": "stderr",
          "text": [
            "\r  5%|▌         | 5/100 [00:59<18:36, 11.75s/it]"
          ]
        },
        {
          "output_type": "stream",
          "name": "stdout",
          "text": [
            "Epoch: 5/100 | Train Loss: 1.0909 | Val Loss: 1.0763\n"
          ]
        },
        {
          "output_type": "stream",
          "name": "stderr",
          "text": [
            "\r  6%|▌         | 6/100 [01:10<18:25, 11.76s/it]"
          ]
        },
        {
          "output_type": "stream",
          "name": "stdout",
          "text": [
            "Epoch: 6/100 | Train Loss: 1.0644 | Val Loss: 1.0502\n"
          ]
        },
        {
          "output_type": "stream",
          "name": "stderr",
          "text": [
            "\r  7%|▋         | 7/100 [01:22<18:21, 11.84s/it]"
          ]
        },
        {
          "output_type": "stream",
          "name": "stdout",
          "text": [
            "Epoch: 7/100 | Train Loss: 1.0417 | Val Loss: 1.0244\n"
          ]
        },
        {
          "output_type": "stream",
          "name": "stderr",
          "text": [
            "\r  8%|▊         | 8/100 [01:34<18:11, 11.86s/it]"
          ]
        },
        {
          "output_type": "stream",
          "name": "stdout",
          "text": [
            "Epoch: 8/100 | Train Loss: 1.0264 | Val Loss: 1.0322\n"
          ]
        },
        {
          "output_type": "stream",
          "name": "stderr",
          "text": [
            "\r  9%|▉         | 9/100 [01:46<18:02, 11.90s/it]"
          ]
        },
        {
          "output_type": "stream",
          "name": "stdout",
          "text": [
            "Epoch: 9/100 | Train Loss: 1.0145 | Val Loss: 1.0176\n"
          ]
        },
        {
          "output_type": "stream",
          "name": "stderr",
          "text": [
            "\r 10%|█         | 10/100 [01:58<17:53, 11.92s/it]"
          ]
        },
        {
          "output_type": "stream",
          "name": "stdout",
          "text": [
            "Epoch: 10/100 | Train Loss: 1.0013 | Val Loss: 0.9984\n"
          ]
        },
        {
          "output_type": "stream",
          "name": "stderr",
          "text": [
            "\r 11%|█         | 11/100 [02:10<17:43, 11.95s/it]"
          ]
        },
        {
          "output_type": "stream",
          "name": "stdout",
          "text": [
            "Epoch: 11/100 | Train Loss: 0.9901 | Val Loss: 0.9947\n"
          ]
        },
        {
          "output_type": "stream",
          "name": "stderr",
          "text": [
            "\r 12%|█▏        | 12/100 [02:22<17:33, 11.97s/it]"
          ]
        },
        {
          "output_type": "stream",
          "name": "stdout",
          "text": [
            "Epoch: 12/100 | Train Loss: 0.9811 | Val Loss: 0.9881\n"
          ]
        },
        {
          "output_type": "stream",
          "name": "stderr",
          "text": [
            "\r 13%|█▎        | 13/100 [02:34<17:24, 12.01s/it]"
          ]
        },
        {
          "output_type": "stream",
          "name": "stdout",
          "text": [
            "Epoch: 13/100 | Train Loss: 0.9716 | Val Loss: 0.9839\n"
          ]
        },
        {
          "output_type": "stream",
          "name": "stderr",
          "text": [
            "\r 14%|█▍        | 14/100 [02:47<17:16, 12.06s/it]"
          ]
        },
        {
          "output_type": "stream",
          "name": "stdout",
          "text": [
            "Epoch: 14/100 | Train Loss: 0.9635 | Val Loss: 0.9792\n"
          ]
        },
        {
          "output_type": "stream",
          "name": "stderr",
          "text": [
            "\r 15%|█▌        | 15/100 [02:59<17:07, 12.09s/it]"
          ]
        },
        {
          "output_type": "stream",
          "name": "stdout",
          "text": [
            "Epoch: 15/100 | Train Loss: 0.9578 | Val Loss: 0.9750\n"
          ]
        },
        {
          "output_type": "stream",
          "name": "stderr",
          "text": [
            "\r 16%|█▌        | 16/100 [03:11<16:58, 12.13s/it]"
          ]
        },
        {
          "output_type": "stream",
          "name": "stdout",
          "text": [
            "Epoch: 16/100 | Train Loss: 0.9522 | Val Loss: 0.9738\n"
          ]
        },
        {
          "output_type": "stream",
          "name": "stderr",
          "text": [
            "\r 17%|█▋        | 17/100 [03:23<16:49, 12.16s/it]"
          ]
        },
        {
          "output_type": "stream",
          "name": "stdout",
          "text": [
            "Epoch: 17/100 | Train Loss: 0.9434 | Val Loss: 0.9674\n"
          ]
        },
        {
          "output_type": "stream",
          "name": "stderr",
          "text": [
            "\r 18%|█▊        | 18/100 [03:35<16:39, 12.19s/it]"
          ]
        },
        {
          "output_type": "stream",
          "name": "stdout",
          "text": [
            "Epoch: 18/100 | Train Loss: 0.9386 | Val Loss: 0.9675\n"
          ]
        },
        {
          "output_type": "stream",
          "name": "stderr",
          "text": [
            "\r 19%|█▉        | 19/100 [03:48<16:30, 12.23s/it]"
          ]
        },
        {
          "output_type": "stream",
          "name": "stdout",
          "text": [
            "Epoch: 19/100 | Train Loss: 0.9339 | Val Loss: 0.9629\n"
          ]
        },
        {
          "output_type": "stream",
          "name": "stderr",
          "text": [
            "\r 20%|██        | 20/100 [04:00<16:20, 12.25s/it]"
          ]
        },
        {
          "output_type": "stream",
          "name": "stdout",
          "text": [
            "Epoch: 20/100 | Train Loss: 0.9275 | Val Loss: 0.9646\n"
          ]
        },
        {
          "output_type": "stream",
          "name": "stderr",
          "text": [
            "\r 21%|██        | 21/100 [04:12<16:08, 12.26s/it]"
          ]
        },
        {
          "output_type": "stream",
          "name": "stdout",
          "text": [
            "Epoch: 21/100 | Train Loss: 0.9236 | Val Loss: 0.9605\n"
          ]
        },
        {
          "output_type": "stream",
          "name": "stderr",
          "text": [
            "\r 22%|██▏       | 22/100 [04:25<15:57, 12.27s/it]"
          ]
        },
        {
          "output_type": "stream",
          "name": "stdout",
          "text": [
            "Epoch: 22/100 | Train Loss: 0.9187 | Val Loss: 0.9539\n"
          ]
        },
        {
          "output_type": "stream",
          "name": "stderr",
          "text": [
            "\r 23%|██▎       | 23/100 [04:37<15:45, 12.28s/it]"
          ]
        },
        {
          "output_type": "stream",
          "name": "stdout",
          "text": [
            "Epoch: 23/100 | Train Loss: 0.9165 | Val Loss: 0.9569\n"
          ]
        },
        {
          "output_type": "stream",
          "name": "stderr",
          "text": [
            "\r 24%|██▍       | 24/100 [04:49<15:34, 12.30s/it]"
          ]
        },
        {
          "output_type": "stream",
          "name": "stdout",
          "text": [
            "Epoch: 24/100 | Train Loss: 0.9093 | Val Loss: 0.9492\n"
          ]
        },
        {
          "output_type": "stream",
          "name": "stderr",
          "text": [
            "\r 25%|██▌       | 25/100 [05:02<15:23, 12.31s/it]"
          ]
        },
        {
          "output_type": "stream",
          "name": "stdout",
          "text": [
            "Epoch: 25/100 | Train Loss: 0.9079 | Val Loss: 0.9517\n"
          ]
        },
        {
          "output_type": "stream",
          "name": "stderr",
          "text": [
            "\r 26%|██▌       | 26/100 [05:14<15:11, 12.31s/it]"
          ]
        },
        {
          "output_type": "stream",
          "name": "stdout",
          "text": [
            "Epoch: 26/100 | Train Loss: 0.9030 | Val Loss: 0.9505\n"
          ]
        },
        {
          "output_type": "stream",
          "name": "stderr",
          "text": [
            "\r 27%|██▋       | 27/100 [05:26<14:58, 12.31s/it]"
          ]
        },
        {
          "output_type": "stream",
          "name": "stdout",
          "text": [
            "Epoch: 27/100 | Train Loss: 0.9013 | Val Loss: 0.9586\n"
          ]
        },
        {
          "output_type": "stream",
          "name": "stderr",
          "text": [
            "\r 28%|██▊       | 28/100 [05:39<14:45, 12.29s/it]"
          ]
        },
        {
          "output_type": "stream",
          "name": "stdout",
          "text": [
            "Epoch: 28/100 | Train Loss: 0.8980 | Val Loss: 0.9507\n"
          ]
        },
        {
          "output_type": "stream",
          "name": "stderr",
          "text": [
            "\r 29%|██▉       | 29/100 [05:51<14:32, 12.29s/it]"
          ]
        },
        {
          "output_type": "stream",
          "name": "stdout",
          "text": [
            "Epoch: 29/100 | Train Loss: 0.8941 | Val Loss: 0.9379\n"
          ]
        },
        {
          "output_type": "stream",
          "name": "stderr",
          "text": [
            "\r 30%|███       | 30/100 [06:03<14:22, 12.32s/it]"
          ]
        },
        {
          "output_type": "stream",
          "name": "stdout",
          "text": [
            "Epoch: 30/100 | Train Loss: 0.8898 | Val Loss: 0.9493\n"
          ]
        },
        {
          "output_type": "stream",
          "name": "stderr",
          "text": [
            "\r 31%|███       | 31/100 [06:16<14:10, 12.32s/it]"
          ]
        },
        {
          "output_type": "stream",
          "name": "stdout",
          "text": [
            "Epoch: 31/100 | Train Loss: 0.8884 | Val Loss: 0.9427\n"
          ]
        },
        {
          "output_type": "stream",
          "name": "stderr",
          "text": [
            "\r 32%|███▏      | 32/100 [06:28<13:58, 12.34s/it]"
          ]
        },
        {
          "output_type": "stream",
          "name": "stdout",
          "text": [
            "Epoch: 32/100 | Train Loss: 0.8860 | Val Loss: 0.9385\n"
          ]
        },
        {
          "output_type": "stream",
          "name": "stderr",
          "text": [
            "\r 33%|███▎      | 33/100 [06:40<13:46, 12.34s/it]"
          ]
        },
        {
          "output_type": "stream",
          "name": "stdout",
          "text": [
            "Epoch: 33/100 | Train Loss: 0.8833 | Val Loss: 0.9383\n"
          ]
        },
        {
          "output_type": "stream",
          "name": "stderr",
          "text": [
            "\r 34%|███▍      | 34/100 [06:53<13:33, 12.33s/it]"
          ]
        },
        {
          "output_type": "stream",
          "name": "stdout",
          "text": [
            "Epoch: 34/100 | Train Loss: 0.8810 | Val Loss: 0.9361\n"
          ]
        },
        {
          "output_type": "stream",
          "name": "stderr",
          "text": [
            "\r 35%|███▌      | 35/100 [07:05<13:21, 12.33s/it]"
          ]
        },
        {
          "output_type": "stream",
          "name": "stdout",
          "text": [
            "Epoch: 35/100 | Train Loss: 0.8792 | Val Loss: 0.9374\n"
          ]
        },
        {
          "output_type": "stream",
          "name": "stderr",
          "text": [
            "\r 36%|███▌      | 36/100 [07:17<13:09, 12.33s/it]"
          ]
        },
        {
          "output_type": "stream",
          "name": "stdout",
          "text": [
            "Epoch: 36/100 | Train Loss: 0.8780 | Val Loss: 0.9421\n"
          ]
        },
        {
          "output_type": "stream",
          "name": "stderr",
          "text": [
            "\r 37%|███▋      | 37/100 [07:30<12:56, 12.33s/it]"
          ]
        },
        {
          "output_type": "stream",
          "name": "stdout",
          "text": [
            "Epoch: 37/100 | Train Loss: 0.8735 | Val Loss: 0.9320\n"
          ]
        },
        {
          "output_type": "stream",
          "name": "stderr",
          "text": [
            "\r 38%|███▊      | 38/100 [07:42<12:44, 12.33s/it]"
          ]
        },
        {
          "output_type": "stream",
          "name": "stdout",
          "text": [
            "Epoch: 38/100 | Train Loss: 0.8752 | Val Loss: 0.9321\n"
          ]
        },
        {
          "output_type": "stream",
          "name": "stderr",
          "text": [
            "\r 39%|███▉      | 39/100 [07:54<12:32, 12.34s/it]"
          ]
        },
        {
          "output_type": "stream",
          "name": "stdout",
          "text": [
            "Epoch: 39/100 | Train Loss: 0.8737 | Val Loss: 0.9358\n"
          ]
        },
        {
          "output_type": "stream",
          "name": "stderr",
          "text": [
            "\r 40%|████      | 40/100 [08:07<12:21, 12.36s/it]"
          ]
        },
        {
          "output_type": "stream",
          "name": "stdout",
          "text": [
            "Epoch: 40/100 | Train Loss: 0.8697 | Val Loss: 0.9302\n"
          ]
        },
        {
          "output_type": "stream",
          "name": "stderr",
          "text": [
            "\r 41%|████      | 41/100 [08:19<12:09, 12.37s/it]"
          ]
        },
        {
          "output_type": "stream",
          "name": "stdout",
          "text": [
            "Epoch: 41/100 | Train Loss: 0.8676 | Val Loss: 0.9303\n"
          ]
        },
        {
          "output_type": "stream",
          "name": "stderr",
          "text": [
            "\r 42%|████▏     | 42/100 [08:31<11:57, 12.37s/it]"
          ]
        },
        {
          "output_type": "stream",
          "name": "stdout",
          "text": [
            "Epoch: 42/100 | Train Loss: 0.8658 | Val Loss: 0.9422\n"
          ]
        },
        {
          "output_type": "stream",
          "name": "stderr",
          "text": [
            "\r 43%|████▎     | 43/100 [08:44<11:45, 12.38s/it]"
          ]
        },
        {
          "output_type": "stream",
          "name": "stdout",
          "text": [
            "Epoch: 43/100 | Train Loss: 0.8644 | Val Loss: 0.9360\n"
          ]
        },
        {
          "output_type": "stream",
          "name": "stderr",
          "text": [
            "\r 44%|████▍     | 44/100 [08:56<11:33, 12.38s/it]"
          ]
        },
        {
          "output_type": "stream",
          "name": "stdout",
          "text": [
            "Epoch: 44/100 | Train Loss: 0.8638 | Val Loss: 0.9271\n"
          ]
        },
        {
          "output_type": "stream",
          "name": "stderr",
          "text": [
            "\r 45%|████▌     | 45/100 [09:09<11:21, 12.38s/it]"
          ]
        },
        {
          "output_type": "stream",
          "name": "stdout",
          "text": [
            "Epoch: 45/100 | Train Loss: 0.8608 | Val Loss: 0.9311\n"
          ]
        },
        {
          "output_type": "stream",
          "name": "stderr",
          "text": [
            "\r 46%|████▌     | 46/100 [09:21<11:08, 12.38s/it]"
          ]
        },
        {
          "output_type": "stream",
          "name": "stdout",
          "text": [
            "Epoch: 46/100 | Train Loss: 0.8592 | Val Loss: 0.9290\n"
          ]
        },
        {
          "output_type": "stream",
          "name": "stderr",
          "text": [
            "\r 47%|████▋     | 47/100 [09:33<10:54, 12.34s/it]"
          ]
        },
        {
          "output_type": "stream",
          "name": "stdout",
          "text": [
            "Epoch: 47/100 | Train Loss: 0.8584 | Val Loss: 0.9239\n"
          ]
        },
        {
          "output_type": "stream",
          "name": "stderr",
          "text": [
            "\r 48%|████▊     | 48/100 [09:45<10:40, 12.31s/it]"
          ]
        },
        {
          "output_type": "stream",
          "name": "stdout",
          "text": [
            "Epoch: 48/100 | Train Loss: 0.8554 | Val Loss: 0.9240\n"
          ]
        },
        {
          "output_type": "stream",
          "name": "stderr",
          "text": [
            "\r 49%|████▉     | 49/100 [09:58<10:27, 12.31s/it]"
          ]
        },
        {
          "output_type": "stream",
          "name": "stdout",
          "text": [
            "Epoch: 49/100 | Train Loss: 0.8538 | Val Loss: 0.9309\n"
          ]
        },
        {
          "output_type": "stream",
          "name": "stderr",
          "text": [
            "\r 50%|█████     | 50/100 [10:10<10:15, 12.30s/it]"
          ]
        },
        {
          "output_type": "stream",
          "name": "stdout",
          "text": [
            "Epoch: 50/100 | Train Loss: 0.8536 | Val Loss: 0.9319\n"
          ]
        },
        {
          "output_type": "stream",
          "name": "stderr",
          "text": [
            "\r 51%|█████     | 51/100 [10:22<10:03, 12.31s/it]"
          ]
        },
        {
          "output_type": "stream",
          "name": "stdout",
          "text": [
            "Epoch: 51/100 | Train Loss: 0.8519 | Val Loss: 0.9268\n"
          ]
        },
        {
          "output_type": "stream",
          "name": "stderr",
          "text": [
            "\r 52%|█████▏    | 52/100 [10:35<09:51, 12.32s/it]"
          ]
        },
        {
          "output_type": "stream",
          "name": "stdout",
          "text": [
            "Epoch: 52/100 | Train Loss: 0.8508 | Val Loss: 0.9306\n"
          ]
        },
        {
          "output_type": "stream",
          "name": "stderr",
          "text": [
            "\r 53%|█████▎    | 53/100 [10:47<09:39, 12.33s/it]"
          ]
        },
        {
          "output_type": "stream",
          "name": "stdout",
          "text": [
            "Epoch: 53/100 | Train Loss: 0.8498 | Val Loss: 0.9248\n"
          ]
        },
        {
          "output_type": "stream",
          "name": "stderr",
          "text": [
            "\r 54%|█████▍    | 54/100 [10:59<09:27, 12.35s/it]"
          ]
        },
        {
          "output_type": "stream",
          "name": "stdout",
          "text": [
            "Epoch: 54/100 | Train Loss: 0.8497 | Val Loss: 0.9258\n"
          ]
        },
        {
          "output_type": "stream",
          "name": "stderr",
          "text": [
            "\r 54%|█████▍    | 54/100 [11:12<09:32, 12.45s/it]"
          ]
        },
        {
          "output_type": "stream",
          "name": "stdout",
          "text": [
            "Epoch: 55/100 | Train Loss: 0.8471 | Val Loss: 0.9244\n",
            "Early stopping triggered. Training stopped.\n"
          ]
        },
        {
          "output_type": "stream",
          "name": "stderr",
          "text": [
            "\n"
          ]
        }
      ],
      "source": [
        "device = torch.device(\"cuda:0\" if torch.cuda.is_available() else \"cpu\")\n",
        "model = MyModel(vocab_size, emb_dim, max_length).to(device)\n",
        "optimizer = optim.Adam(model.parameters(),lr=0.001)\n",
        "criterion = nn.CrossEntropyLoss()\n",
        "\n",
        "best_val_loss = float('inf')\n",
        "patience = 8\n",
        "early_stopping_counter = 0\n",
        "\n",
        "for epoch in tqdm(range(100)):\n",
        "    model.train()\n",
        "    running_loss = 0.0\n",
        "    with torch.cuda.device(0):\n",
        "      for batch in train_dataloader:\n",
        "        inputs, labels = batch[0].to(device), batch[1].to(device)\n",
        "        optimizer.zero_grad()\n",
        "        labels = labels.float()\n",
        "        outputs = model(inputs)\n",
        "        loss = criterion(outputs, labels)\n",
        "        loss.backward()\n",
        "        optimizer.step()\n",
        "        running_loss += loss.item()\n",
        "    epoch_loss = running_loss / (len(train_dataloader))\n",
        "\n",
        "    val_loss = 0.0\n",
        "    model.eval()\n",
        "    with torch.no_grad():\n",
        "        for batch in val_dataloader:\n",
        "            inputs, labels = batch[0].to(device), batch[1].to(device)\n",
        "            labels = labels.float()\n",
        "            outputs = model(inputs)\n",
        "            loss = criterion(outputs, labels)\n",
        "            val_loss += loss.item()\n",
        "\n",
        "    val_loss /= len(val_dataloader)\n",
        "\n",
        "    print(\"Epoch: {}/{} | Train Loss: {:.4f} | Val Loss: {:.4f}\".format(epoch+1, 100, epoch_loss, val_loss))\n",
        "\n",
        "    if val_loss < best_val_loss:\n",
        "        best_val_loss = val_loss\n",
        "        early_stopping_counter = 0\n",
        "    else:\n",
        "        early_stopping_counter += 1\n",
        "\n",
        "    if early_stopping_counter >= patience:\n",
        "        print(\"Early stopping triggered. Training stopped.\")\n",
        "        break\n",
        "        "
      ]
    },
    {
      "cell_type": "markdown",
      "source": [
        "# **Evaluation**"
      ],
      "metadata": {
        "id": "XVEdlkQEYOki"
      }
    },
    {
      "cell_type": "code",
      "source": [
        "model.eval()\n",
        "X_test_ = X_test_.to(device)\n",
        "# Compute the model's prediction for the padded sequence\n",
        "with torch.no_grad():\n",
        "    pred_ = model(X_test_)\n",
        "     \n",
        "pred__ = pred_.cpu().numpy()\n",
        "preds = np.argmax(pred__, axis=1)\n",
        "     \n",
        "def one_hot(a, num_classes):\n",
        "  return np.squeeze(np.eye(num_classes)[a.reshape(-1)])\n",
        "pred_hot = one_hot(preds,4)\n",
        "     \n",
        "x_np = torch.from_numpy(pred_hot)\n",
        "     \n",
        "\n",
        "from sklearn.metrics import accuracy_score,f1_score,precision_score,recall_score\n",
        "test_recall = recall_score(y_test, x_np,average='macro') \n",
        "test_prec = precision_score(y_test, x_np,average='macro') \n",
        "test_acc = accuracy_score(y_test, pred_hot)\n",
        "test_f1 = f1_score(y_test, x_np,average='macro')\n",
        "\n",
        "print('Test Accuracy: {:.4f}'.format(test_acc))\n",
        "print('Test F1 score: {:.4f}'.format(test_f1))\n",
        "print('Test Precision: {:.4f}'.format(test_prec))\n",
        "print('Test Recall: {:.4f}'.format(test_recall))\n"
      ],
      "metadata": {
        "id": "Yj-83O7idiA5",
        "outputId": "bb6bce54-7918-4f8d-f69a-d5dbfc9a3a72",
        "colab": {
          "base_uri": "https://localhost:8080/"
        }
      },
      "execution_count": 15,
      "outputs": [
        {
          "output_type": "stream",
          "name": "stdout",
          "text": [
            "Test Accuracy: 0.8248\n",
            "Test F1 score: 0.8248\n",
            "Test Precision: 0.8274\n",
            "Test Recall: 0.8243\n"
          ]
        }
      ]
    },
    {
      "cell_type": "code",
      "source": [
        "import sklearn.metrics as metrics\n",
        "import matplotlib.pyplot as plt\n",
        "import seaborn as sns\n",
        "\n",
        "\n",
        "model.eval()\n",
        "y_true = []\n",
        "y_pred = []\n",
        "with torch.no_grad():\n",
        "    for batch in test_dataloader:\n",
        "        inputs, labels = batch[0].to(device), batch[1].to(device)\n",
        "        outputs = model(inputs)\n",
        "        preds = torch.softmax(outputs, dim=1)\n",
        "        _, predicted_classes = torch.max(preds, dim=1)\n",
        "        \n",
        "        y_true.extend(labels.cpu().detach().numpy())\n",
        "        y_pred.extend(predicted_classes.cpu().detach().numpy())\n",
        "\n",
        "# Convert lists to NumPy arrays\n",
        "y_true = np.array(y_true)\n",
        "y_pred = np.array(y_pred)\n",
        "\n",
        "# If y_true is one-hot encoded, convert it to integer labels\n",
        "if len(y_true.shape) > 1 and y_true.shape[1] > 1:\n",
        "    y_true = np.argmax(y_true, axis=1)\n",
        "\n",
        "\n",
        "test_acc = metrics.accuracy_score(y_true, y_pred)\n",
        "test_f1 = metrics.f1_score(y_true, y_pred, average='macro')\n",
        "test_prec = metrics.precision_score(y_true, y_pred, average='macro')\n",
        "test_recall = metrics.recall_score(y_true, y_pred, average='macro')\n",
        "\n",
        "print('Test Accuracy: {:.4f}'.format(test_acc))\n",
        "print('Test F1 score: {:.4f}'.format(test_f1))\n",
        "print('Test Precision: {:.4f}'.format(test_prec))\n",
        "print('Test Recall: {:.4f}'.format(test_recall))\n",
        "\n",
        "# Calculate confusion matrix\n",
        "if np.ndim(y_true) > 0 and np.ndim(y_pred) > 0:\n",
        "    y_true = np.squeeze(y_true)\n",
        "    y_pred = np.squeeze(y_pred)\n",
        "\n",
        "test_confusion_matrix = metrics.confusion_matrix(y_true, y_pred, labels=[0, 1, 2, 3])\n",
        "sns.set(font_scale=1.2)\n",
        "fig, ax = plt.subplots(figsize=(8, 6))\n",
        "sns.heatmap(test_confusion_matrix, annot=True, fmt='d', cmap='Blues', cbar=False,\n",
        "            annot_kws={\"size\": 16}, linewidths=0.5, linecolor='black', ax=ax)\n",
        "ax.set_xlabel('Predicted Label', fontsize=14)\n",
        "ax.set_ylabel('True Label', fontsize=14)\n",
        "ax.set_xticklabels([\"DZ\", \"LY\", \"MA\", \"TN\"], fontsize=12)\n",
        "ax.set_yticklabels([\"DZ\", \"LY\", \"MA\", \"TN\"], fontsize=12)\n",
        "plt.title('Confusion Matrix', fontsize=16)\n",
        "plt.show()"
      ],
      "metadata": {
        "id": "F_XPiGl5LN63",
        "outputId": "cdc696c6-d039-4dcb-de69-05910979bc21",
        "colab": {
          "base_uri": "https://localhost:8080/",
          "height": 648
        }
      },
      "execution_count": 21,
      "outputs": [
        {
          "output_type": "stream",
          "name": "stdout",
          "text": [
            "Test Accuracy: 0.8248\n",
            "Test F1 score: 0.8248\n",
            "Test Precision: 0.8274\n",
            "Test Recall: 0.8243\n"
          ]
        },
        {
          "output_type": "display_data",
          "data": {
            "text/plain": [
              "<Figure size 800x600 with 1 Axes>"
            ],
            "image/png": "[encoded data removed]"
          },
          "metadata": {}
        }
      ]
    },
    {
      "cell_type": "markdown",
      "source": [
        "# **Testing**"
      ],
      "metadata": {
        "id": "fkjFinqeYa0d"
      }
    },
    {
      "cell_type": "code",
      "execution_count": null,
      "metadata": {
        "id": "RCc6_jtJJsq2"
      },
      "outputs": [],
      "source": [
        "# # Set the model to evaluation mode\n",
        "# model.eval()\n",
        "# device = \"cuda\"\n",
        "# # Tokenize the new complaint and pad the sequence\n",
        "# new_complaint = ['واش دير للعشى']\n",
        "# #new_complaint  = [\"شوكران علا هاد \"]\n",
        "# #new_complaint  = [\"نبي نروح للحوش\"]\n",
        "# #new_complaint  = [\"شبيك شتحب \"]\n",
        "# seq = tokenizer.texts_to_sequences(new_complaint)\n",
        "# padded = pad_sequences(seq, maxlen=max_length)\n",
        "\n",
        "# # Convert the padded sequence to a PyTorch tensor and move it to the device (e.g., GPU) if available\n",
        "# padded_tensor = torch.LongTensor(padded).to(\"cpu\")\n",
        "\n",
        "# # Compute the model's prediction for the padded sequence\n",
        "# with torch.no_grad():\n",
        "#     pred = model(padded_tensor)\n",
        "\n",
        "# # Move the prediction back to the CPU and convert to a numpy array\n",
        "# pred = pred.cpu().numpy()\n",
        "\n",
        "# # Map the prediction to a class label using the CLASS_DICT{'DZ': 0, 'LY': 1, 'MA': 2, 'TN': 3}\n",
        "# CLASS_DICT = {1: \"LY\", 3: \"TN\", 2: \"MA\", 0: \"DZ\" }\n",
        "# class_label = CLASS_DICT[np.argmax(pred)]\n",
        "\n",
        "# # Print the prediction and the predicted class label\n",
        "# print(class_label)"
      ]
    }
  ],
  "metadata": {
    "accelerator": "GPU",
    "colab": {
      "provenance": [],
      "include_colab_link": true
    },
    "gpuClass": "standard",
    "kernelspec": {
      "display_name": "Python 3",
      "name": "python3"
    },
    "language_info": {
      "name": "python"
    }
  },
  "nbformat": 4,
  "nbformat_minor": 0
}